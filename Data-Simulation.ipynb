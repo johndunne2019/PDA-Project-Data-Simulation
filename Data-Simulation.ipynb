{
 "cells": [
  {
   "cell_type": "markdown",
   "metadata": {},
   "source": [
    "# Programming for Data Analysis"
   ]
  },
  {
   "cell_type": "markdown",
   "metadata": {},
   "source": [
    "## Project 2019"
   ]
  },
  {
   "cell_type": "markdown",
   "metadata": {},
   "source": [
    "## Problem statement\n",
    "For this project you must create a data set by simulating a real-world phenomenon of\n",
    "your choosing. You may pick any phenomenon you wish – you might pick one that is\n",
    "of interest to you in your personal or professional life. Then, rather than collect data\n",
    "related to the phenomenon, you should model and synthesise such data using Python.\n",
    "We suggest you use the numpy.random package for this purpose.\n",
    "\n",
    "Specifically, in this project you should:\n",
    "\n",
    "• Choose a real-world phenomenon that can be measured and for which you could\n",
    "collect at least one-hundred data points across at least four different variables.\n",
    "\n",
    "• Investigate the types of variables involved, their likely distributions, and their\n",
    "relationships with each other.\n",
    "\n",
    "• Synthesise/simulate a data set as closely matching their properties as possible.\n",
    "\n",
    "• Detail your research and implement the simulation in a Jupyter notebook – the\n",
    "data set itself can simply be displayed in an output cell within the notebook."
   ]
  },
  {
   "cell_type": "markdown",
   "metadata": {},
   "source": [
    "## Project Plan"
   ]
  },
  {
   "cell_type": "markdown",
   "metadata": {},
   "source": [
    "**The following are the steps I will take:**\n",
    "* Investigate possible real-world phenomenons to use to create a data set. \n",
    "* When I have identified a real-world phenomenon of interest to me I will research in order to pick the variables that are of most interest to me.\n",
    "* I will ensure that at least 100 data points across at least 4 variables could be collected when dealing this real-world phenomenon \n",
    "* When I have picked the variables I would like to synthesise in the data set simulation I will research the properties of these varibales, their likely distributions and their relationships with each other.\n",
    "* Use numpy.random to synthesise a data set matching these properties that I have identified as closely as possible. \n",
    "* Detail the research in this jupyter notebook and display the simulated data in an output cell within this notebook. "
   ]
  },
  {
   "cell_type": "markdown",
   "metadata": {},
   "source": [
    "## Table of Contents\n",
    "\n",
    "* Section 1 - Introduction to Data Simulation\n",
    "* Section 2 - Investigation\n",
    "* Section 3 -Variables in my data set"
   ]
  },
  {
   "cell_type": "markdown",
   "metadata": {},
   "source": [
    "## Import the packages I will use in this project:"
   ]
  },
  {
   "cell_type": "code",
   "execution_count": 1,
   "metadata": {},
   "outputs": [],
   "source": [
    "%matplotlib inline\n",
    "# This command is used to show the interactive matplotlib plots in this notebook\n",
    "import numpy as np\n",
    "# numpy imported and given the shortened name np\n",
    "import matplotlib.pyplot as plt\n",
    "# matplotlib.pyplot imported and given the shortened name plt\n",
    "plt.rcParams['figure.figsize'] = (10, 8)\n",
    "# This command increases the size of the plot size from pyplot\n",
    "import pandas as pd\n",
    "# pandas imported and given the shortened name pd\n",
    "import seaborn as sns\n",
    "# seaborn imported and given the shortened name sns"
   ]
  },
  {
   "cell_type": "markdown",
   "metadata": {},
   "source": [
    "## Section 1 - Introduction to Data Simulation\n",
    "\n",
    "\n",
    "\n",
    "\n",
    "### Data Simulation with numpy.random\n",
    "\n",
    "The official documentation of numpy.random is here: https://docs.scipy.org/doc/numpy-1.16.0/reference/routines.random.html where you can read about all the different functions of numpy.random that are available to be used in data analysis.\n",
    "\n",
    "numpy.random is a sub package of the NumPy package within the Python library that has many functions within it that can be used to generate random numbers. As we discovered in the lectures computers do not have the ability to generate random numbers on their own and so we can use packages such as numpy.random to do this.\n",
    "\n",
    "The overall purpose of the package is to generate random numbers. Within the numpy.random package there are many functions. The full list of functions from the official numpy.random documentation page: https://docs.scipy.org/doc/numpy-1.16.0/reference/routines.random.html#simple-random-data\n",
    "\n",
    "**Within the numpy.random package there are 4 different sections:**\n",
    "\n",
    "* **Simple Random Data**\n",
    "    * Simple Random Data is essentially used to generate random numbers. Within the Simple random data there are a number of different functions that can be used to generate random numbers and each function returns results from different distributions, these include uniform distribution, standard normal distribution and continuous uniform distribution.\n",
    "    \n",
    "* **Permutations**\n",
    "    * Within Permutations there are 2 functions shuffle and permutation.The shuffle function is used to shuffle the contents of an array. In other words change the order of an array of numbers. The permutation function randomly permutes a range when given a single argument. So for example if the user enters the argument 15 in numpy.random.permutation a range of 0:14 is permuted in a random order.\n",
    "    \n",
    "* **Distributions**\n",
    "    * A probability distribution shows the relationship between a random variable and each possible outsome for that random variable.\n",
    "    \n",
    "* **Random Generator**\n",
    "    * Truly random numbers are nondeterministic, meaning they cannot be pre determined and are essentially completely random. However, machines are deterministic and they cannot therefore generate true random nondeterministic numbers. Pseudo Random Number Generator(PRNG) is an algorithm used to generate sequences of random numbers. \n"
   ]
  },
  {
   "cell_type": "markdown",
   "metadata": {},
   "source": [
    "### The role of seeds in data simulation\n",
    "\n",
    "If I wanted the same result to be given every time that I generate random data with numpy.random I could use a seed. The seed function allows the user to set the starting point for generation of random data. The numpy.random package uses the Mersenne Twister pseudo-random number generator.\n",
    "\n",
    "\"NumPy random seed is simply a function that sets the random seed of the NumPy pseudo-random number generator. It provides an essential input that enables NumPy to generate pseudo-random numbers for random processes.\"\n",
    "\n",
    "Quote taken from: https://www.sharpsightlabs.com/blog/numpy-random-seed/\n",
    "\n",
    "The numpy.random.seed documentation page: https://docs.scipy.org/doc/numpy-1.14.0/reference/generated/numpy.random.seed.html#numpy.random.seed\n",
    "\n",
    "**However for the purpose of the data simulation that I will complete in this project I will not use seeds when generating my data. The reason being I would like a different data set to be generated each time my notebook is downloaded and ran.**"
   ]
  },
  {
   "cell_type": "markdown",
   "metadata": {},
   "source": [
    "#### Section 1 References\n",
    "* Official numpy documentation: https://numpy.org/\n",
    "* Official NumPy tutorial: https://numpy.org/devdocs/user/quickstart.html\n",
    "* What is NumPy: https://docs.scipy.org/doc/numpy-1.13.0/user/whatisnumpy.html\n",
    "* Learn NumPy in 5 minutes tutorial: https://www.youtube.com/watch?v=xECXZ3tyONo\n",
    "* Complete Python NumPy tutorial: https://www.youtube.com/watch?v=GB9ByFAIAH4\n",
    "* NumPy Python image: https://i2.wp.com/www.simplifiedpython.net/wp-content/uploads/2018/11/Python-NumPy-14.png?resize=595%2C233&ssl=1\n",
    "* numpy.random.permutation: https://docs.scipy.org/doc/numpy-1.16.0/reference/generated/numpy.random.permutation.html#numpy.random.permutation\n",
    "* There is a good explanation of the difference between numpy.random.shuffle and numpy.random.permutation here: https://stackoverflow.com/questions/15474159/shuffle-vs-permute-numpy\n",
    "* numpy.random.permutation: https://docs.w3cub.com/numpy~1.14/generated/numpy.random.permutation/\n",
    "* Pseudo Random Number Generator (PRNG)- https://www.geeksforgeeks.org/pseudo-random-number-generator-prng/\n",
    "* Introduction to Randomness and Random Numbers: https://www.random.org/randomness/\n",
    "* What does numpy.random.seed do: https://stackoverflow.com/questions/21494489/what-does-numpy-random-seed0-do\n",
    "* Khan Academy: https://www.khanacademy.org/computing/computer-science/cryptography/crypt/v/random-vs-pseudorandom-number-generators\n",
    "* Random data generation in Python: https://realpython.com/lessons/random-data-generation-python/\n",
    "* The numpy.random.seed documentation page: https://docs.scipy.org/doc/numpy-1.14.0/reference/generated/numpy.random.seed.html#numpy.random.seed\n",
    "* Numpy.random.seed: https://www.sharpsightlabs.com/blog/numpy-random-seed/"
   ]
  },
  {
   "cell_type": "markdown",
   "metadata": {},
   "source": [
    "## Section 2- Investigation"
   ]
  },
  {
   "cell_type": "markdown",
   "metadata": {},
   "source": [
    "**I first must identify a real-world phenomenon of interest to me that would be suitable for the purposes of this project. I also must ensure that the real world phenomenon is measureable and at least 100 data points across 4 variables could be collected.**\n",
    "\n",
    "As I am from a farming background and I have an interest in agriculture I am going to investigate if there are any interesting phenomenons that I could work with in this area.\n",
    "\n",
    "#### **The Irish Agri-Food Industry**\n",
    "\n",
    "The below statement from the Teagasc website shows the importance of agriculture to the Irish Economy:\n",
    "\n",
    "_\"The agri-food sector in Ireland in 2016 generated 7% of gross value added (€13.9 billion), 9.8% of Ireland’s merchandise exports and provided 8.5% of national employment. When employment in inputs, processing and marketing is included, the agri-food sector accounts for almost 10% of employment.\"_\n",
    "\n",
    "Source: https://www.teagasc.ie/rural-economy/rural-economy/agri-food-business/agriculture-in-ireland/"
   ]
  },
  {
   "cell_type": "markdown",
   "metadata": {},
   "source": [
    "**The below graphic from the Department of Agriculture, Food and the Marine website shows the composition of Irish agri food exports in 2010:**\n",
    "![exports.png](https://www.agriculture.gov.ie/media/migration/customerservice/reviewandoutlook2011/thefoodindustry/Figure5.12.gif)\n",
    "\n",
    "Source: https://www.agriculture.gov.ie/publications/2011/annualreviewandoutlookforagriculturefisheriesandfood20102011/thefoodindustry/exportsoffoodanddrink/\n"
   ]
  },
  {
   "cell_type": "markdown",
   "metadata": {},
   "source": [
    "I would be interested in some of the statistics surrounding the average income of farmers, farm size and the average age of farmers. \n",
    "\n",
    "These statistics are of particular importance now more than ever as there are serious threats to the future of farming.  In Ireland the small family farm is the dominant type of holding in contrast to a lot of other countries where the industrial scale farms are more commonplace. Examples include America, Australia and New Zealand. \n",
    "\n",
    "#### **Threats to the future of small farming in Ireland that I have identified:**\n",
    "\n",
    "* Beef prices at an all time low. \n",
    "* Rising costs and falling income level.\n",
    "* Brexit uncertainty -\n",
    "   * Will Brexit affect trade with UK?\n",
    "   * Will European Union direct payments decrease if the UK leave the European Union?\n",
    "* Are younger people willing to carry on the small farmily farm tradition working long hours for litter remuneration?\n",
    "* Has the abolition of milk quotas and the rapid expansion of the dairy herd in Ireland over the past number of years caused us to go into over production and possibly damage our ability to market our produce?\n",
    "* Climate change - has the image of agriculture been damaged?\n",
    "* Veganism and the move away from eating meat - has this caused long term damage to beef sector?\n",
    "* The age of farmholders is increasing all the time and a high proportion of these do not have a successor to take over the farm. What will happen to these farms?\n",
    "\n",
    "**Farm Succession:**\n",
    "\n",
    "I attended a young farmers meeting in Teagasc, Co. Cavan recently and the results of a recent survey were quoted to those in attendance. 43% of farmers surveyed said they have a son or daughter interested in succeeding them in running the family farm but that they would prefer they take a different career path as they do not see farming as a viable option for the future. I found this statistic to be quite scary. \n",
    "\n",
    "**Brexit:**\n",
    "\n",
    "I found an interesting presentation online prepared by the Chief Economist at the Department of Agriculture, Food and The Marine entitled \"Brexit and the Irish Agri-Food Sector:\n",
    "https://igees.gov.ie/wp-content/uploads/2017/06/3-Irish-Agri-Food-Sector-Sin%C3%A9ad-McPhilips-Department-of-Agriculture-Food-and-the-Marine..pdf. One interesting statistic from reading the presentation - in 2016 the UK accounted for 39% of Agri-Food exports from Ireland. Farmers are concerned about the possible impact of Brexit on both exports and also the possibility of reduced Common Agricultural Policy pool of funds which may decrease payments available to Irish farmers.\n",
    "\n",
    "**Beef:**\n",
    "\n",
    "The importance of the beef sector within the Irish Agri-Food sector and the current state of the beef market are a concern. According to the Teagasc website:\n",
    "\n",
    "_\"Ireland in 2016 net exports of beef accounted for 85% of production, making Ireland the largest beef net exporter in the EU and fifth largest in the world.\"_\n",
    "\n",
    "Source: https://www.teagasc.ie/rural-economy/rural-economy/agri-food-business/agriculture-in-ireland/\n",
    "\n",
    "Maybe by the end of this project I will have identified even more threats or I will have learnt more about some of the threats I have identified above.\n",
    "\n",
    "**European Union support and the Common Agricultural Policy:**\n",
    "\n",
    "One advantage that Irish agriculture has in the wake of all the threats I have identified above, is our membership of the European Union. This give Irish farmers access to payments under the Comon Agricultural Policy (CAP) which helps sustain the small farms that are dotted throughout the country. Without the support of these payments many small Irish family farms may not survive through some of the threats facing them. \n",
    "\n",
    "_\"Like their ancestors, modern Irish farmers face numerous challenges but many of today’s problems can’t be solved locally. Farming is now facing real threats from climate change, rising energy costs, food security and rural decline, as well as uncertainty surrounding Brexit.\"_\n",
    "\n",
    "_\"Thankfully, being a Member State of the European Union means Irish farmers don’t have to face these issues alone and can co-ordinate with the other EU nations through the Common Agricultural Policy (CAP) to find solutions to global, as well as local, issues.\"_\n",
    "\n",
    "Source: https://ec.europa.eu/ireland/news/key-eu-policy-areas/agriculture_en"
   ]
  },
  {
   "cell_type": "markdown",
   "metadata": {},
   "source": [
    "### Time to Research\n",
    "\n",
    "#### Central Statistics Office (CSO figures):\n",
    "\n",
    "My first port of call is the Central Statistics Office website Agriculture section- https://www.cso.ie/en/statistics/agriculture/ where I will conduct some research.\n",
    "\n",
    "Looking at the farm structure survey 2016 on the CSO website I can see some interesting statistics are captured in this area: https://www.cso.ie/en/statistics/agriculture/.\n",
    "\n",
    "Questions I have looking at these statistics:\n",
    "\n",
    "* Are there many females involved in agriculture?\n",
    "* Are there many young people involved in agriculture?\n",
    "* What is the average farm size in Ireland today?\n",
    "* What is the average income of farmers in Ireland today?\n",
    "* What is the averafe age of farmers in Ireland today?\n",
    "* How many hours per week do farmers work on average?\n",
    "* How many unpaid hours per week does the average farmer work in a week?\n",
    "* What is the average direct payment amount received by farmers from the EU?\n",
    "* Is there a relationship between income level and farm size?\n",
    "* Is there a relationship between farm size and hours per week worked?\n",
    "* Is there a relationship between direct payment amounts and farm size?\n",
    "* I cannot answer all of these questions but I will continue the research and see is anything interetsing comes up."
   ]
  },
  {
   "cell_type": "markdown",
   "metadata": {},
   "source": [
    "**The below image is a summary of the main findings of the Farm Structure Survey 2016:**\n",
    "\n",
    "![survey.png](https://pbs.twimg.com/media/DjlXwhUWwAE_2xM.jpg)\n",
    "\n",
    "Source: https://www.cso.ie/en/releasesandpublications/ep/p-fss/farmstructuresurvey2016/"
   ]
  },
  {
   "cell_type": "markdown",
   "metadata": {},
   "source": [
    "#### Farm Structure Survey 2016 - key statistics:\n",
    "* 88% of the 137,500 farms are owned by males.\n",
    "* 30% of farmholders are over the age of 65.\n",
    "* Only 5% of farms are held by people under the age of 35.\n",
    "* The average farm size is 32.4 hectares."
   ]
  },
  {
   "cell_type": "markdown",
   "metadata": {},
   "source": [
    "#### Some interesting statistics listed in the Farm Structure Survey 2016 Key findings section: https://www.cso.ie/en/releasesandpublications/ep/p-fss/farmstructuresurvey2016/kf/\n",
    "\n",
    "* In 2016 there were 137,500 farms in Ireland. More than half (52.7%) of all farms were located in the Border, Midland and Western (BMW) region.\n",
    "* The average farm was 32.4 hectares.\n",
    "* Farms in the Southern and Eastern (SE) region were 41.3% larger than those in the BMW region, with an average farm size of 38.3 hectares compared to 27.1 hectares.\n",
    "* Almost one in five of all farms (18.0%) were 50 hectares or more in size while just over two in five farms (43.4%) had less than 20 hectares.\n",
    "* Specialist Beef production continued to be the most common farm type or activity, accounting for over half of all farms in 2016 (78,300).\n",
    "* Average Standard Output per farm was €45,855 in 2016. Standard output is the average monetary value of agricultural output at farm-gate prices.\n",
    "\n",
    "\n",
    "**Standard Output (SO)**\n",
    "\n",
    "The below explanation is given in the background notes & appendices section of the Farm Structure Survey:\n",
    "\n",
    "_\"The Standard Output (SO) of an agricultural product is defined as the average monetary value of the agricultural output at farm-gate prices. The SO does not take into account costs, direct payments, value added tax or taxes on products.\"_\n",
    "\n",
    "Source: https://www.cso.ie/en/releasesandpublications/ep/p-fss/farmstructuresurvey2016/bgna/"
   ]
  },
  {
   "cell_type": "markdown",
   "metadata": {},
   "source": [
    "**The below graphic sourced from the Teagasc website shows the composition of employment in the Irish Agri-Food Sector in 2017:**\n",
    "\n",
    "![Employmen.png](https://www.teagasc.ie/media/website/rural-economy/rural-economy/composition-of-employment-in-agrifood-sector-2016-598x357.PNG)\n",
    "\n",
    "Source: https://www.teagasc.ie/rural-economy/rural-economy/agri-food-business/agriculture-in-ireland/\n"
   ]
  },
  {
   "cell_type": "markdown",
   "metadata": {},
   "source": [
    "#### European Commission - Europa Statistics:\n",
    "\n",
    "I sourced the below statistics from the European Commisssion website: https://ec.europa.eu/ireland/news/key-eu-policy-areas/agriculture_en\n",
    "\n",
    "* Ireland covers an area of 6.9 million hectares, of which 4.5 million hectares is used for agriculture and a further 730,000 hectares for forestry.\n",
    "* There are 137,500 farms in Ireland – the vast majority of which are family owned - and the average size is 32.4 hectares.\n",
    "* Employment in the agri-food sector accounted for 173,800 jobs, 7.9% of total employment, on average in 2017, according to the CSO Labour Force Survey.\n",
    "* Agriculture typically has an ageing workforce. In 2016, around a quarter of farm holders in Ireland were aged 65 years and over. Just 5% of farmers were aged less than 35 years.\n",
    "\n",
    "Source: https://ec.europa.eu/ireland/news/key-eu-policy-areas/agriculture_en"
   ]
  },
  {
   "cell_type": "markdown",
   "metadata": {},
   "source": [
    "**The European Commission website shows the below interesteding graphic on the value of Irish Agri-Food exports and the destinations (2016):**\n",
    "\n",
    "![exports](https://ec.europa.eu/ireland/sites/ireland/files/agrifood_exports_2016.jpg)\n",
    "\n",
    "Source: https://ec.europa.eu/ireland/news/key-eu-policy-areas/agriculture_en"
   ]
  },
  {
   "cell_type": "markdown",
   "metadata": {},
   "source": [
    "## Variables to be simulated in my data set"
   ]
  },
  {
   "cell_type": "markdown",
   "metadata": {},
   "source": [
    "After this exploratory research I think I have narrowed down a list of the variables that I might like to try to simulate in my data set:\n",
    "* Farm Size (non negative real number with 2 decimal places)\n",
    "* Direct Payment (non negative real number with 2 decimal places)\n",
    "* Direct payment rate per hectare (non zero integer)\n",
    "* Gender of farmholder (categorical)\n",
    "* Successer identified yes/no\n",
    "* Age of farmholder\n",
    "* Hours worked on the farm per week\n",
    "\n",
    "I will now investigate some of the listed variables to find out their likely distributions and if there is any relationship between the variables."
   ]
  },
  {
   "cell_type": "markdown",
   "metadata": {},
   "source": [
    "#### Section 2 - References\n",
    "* CSO Agriculture section: https://www.cso.ie/en/statistics/agriculture/ \n",
    "* CSO Farm Structure Survey 2016: https://www.cso.ie/en/releasesandpublications/ep/p-fss/farmstructuresurvey2016/\n",
    "* Farm Structure Survey 2016 Key Findings: https://www.cso.ie/en/releasesandpublications/ep/p-fss/farmstructuresurvey2016/kf/\n",
    "* Background notes on the collection of data for the Farm Structure Survey 2016: https://www.cso.ie/en/releasesandpublications/ep/p-fss/farmstructuresurvey2016/bgna/\n",
    "* Representation in Ireland: https://ec.europa.eu/ireland/news/key-eu-policy-areas/agriculture_en\n",
    "* Farm Structure Survey 2013: https://www.cso.ie/en/releasesandpublications/ep/p-fss/farmstructuresurvey2013/detailedanalysis/farmstructure/\n",
    "* Agriculture in Ireland: https://www.teagasc.ie/rural-economy/rural-economy/agri-food-business/agriculture-in-ireland/\n",
    "* Teagasc national farm survey: The sustainability of small farming in Ireland: https://www.teagasc.ie/media/website/publications/2017/Small-Farms-Survey.pdf\n",
    "* Brexit and the Irish Agri-Food Sector: https://igees.gov.ie/wp-content/uploads/2017/06/3-Irish-Agri-Food-Sector-Sin%C3%A9ad-McPhilips-Department-of-Agriculture-Food-and-the-Marine..pdf"
   ]
  },
  {
   "cell_type": "markdown",
   "metadata": {},
   "source": [
    "## Section 3 - Investigation on the types of variables and their likely distributions\n",
    "\n",
    "**In this section I will undertake an investigation into what variables are of interest, their likely distributions and their relationships with each other.**"
   ]
  },
  {
   "cell_type": "markdown",
   "metadata": {},
   "source": [
    "### Section 3.1 - Varibale 1: Farm Size"
   ]
  },
  {
   "cell_type": "markdown",
   "metadata": {},
   "source": [
    "The first variable I am interested in farm size. This variable will measure the size of farms in the sample in hectares. The values for hectares will be non negative real numbers and I will round the output to 2 decimal places. \n",
    "I believe this to be the most interesting variable and one that I think has an impact on the performance of the farm, direct payment amounts, output, hours worked etc. Before completing any research I would expect larger farms, to have higher output, more labour hours and higher direct payments. Let's see if my assumption is correct.\n",
    "\n",
    "I am now going to investigate farm sizes in Ireland, can I find the mean farm size, the distribution of farm sizes etc. \n",
    "\n",
    "My initial search shows up the following sources that look good:\n",
    "* Representation in Ireland: https://ec.europa.eu/ireland/news/key-eu-policy-areas/agriculture_en\n",
    "* Farm Structure Survey 2013: https://www.cso.ie/en/releasesandpublications/ep/p-fss/farmstructuresurvey2013/detailedanalysis/farmstructure/\n",
    "* Agriculture in Ireland: https://www.teagasc.ie/rural-economy/rural-economy/agri-food-business/agriculture-in-ireland/\n",
    "* Teagasc national farm survey: The sustainability of small farming in Ireland: https://www.teagasc.ie/media/website/publications/2017/Small-Farms-Survey.pdf\n",
    "* CSO Farm Structure Durvey 2016: https://www.cso.ie/en/releasesandpublications/ep/p-fss/farmstructuresurvey2016/da/fs/\n",
    "\n",
    "**According to the CSO Farm Structure Survey 2016 the average farm size in Ireland at that time was 32.4 hectares.**\n",
    "\n",
    "* The CSO in their Farm Structure Survey broke Ireland into 2 categories by region- **Border, Midland and Western** and **Southern and Eastern**. \n",
    "* Border, Midland and Western is also further subdividied into 4 segments- **Border**, **Midland** and **West**.\n",
    "* Southern and Eastern is further subdivided into 4 segments- **Mid-East and Dublin**, **Mid-West**, **South-East** and **South-West**.\n",
    "* The breakdown of farm sizes by each region is shown on the CSO website here: https://www.cso.ie/en/releasesandpublications/ep/p-fss/farmstructuresurvey2016/da/fs/\n",
    "* You can also visit this link and create a table of data drawing in which ever statistics you find interesting: https://statbank.cso.ie/px/pxeirestat/Statire/SelectVarVal/Define.asp?Maintable=FSA01&PLanguage=0\n",
    "\n",
    "**Border, Midland and Western:**\n",
    "* Average farm size- 27.1 hectares\n",
    "* Total number of farms in this region- 72,500\n",
    "* Breakdown by farm type:\n",
    "    * Specialist tillage- 1,000\n",
    "    * Specialist dairy- 3,600\n",
    "    * Specialist beef production- 46,000\n",
    "    * Specialist sheep- 10,300\n",
    "    * Mixed grazing livestock- 6,500\n",
    "    * Mixed crops and livestock- 600\n",
    "    * Mixed field crops- 3,900\n",
    "    * Other- 600\n",
    "* Average standard Output (SO) of farms in the Border, Mildlands and Western region- €28.935\n",
    "\n",
    "**Southern and Eastern:**\n",
    "* Average farm size- 38.3 hectares\n",
    "* Total number of farms in this region- 65,000\n",
    "* Breakdown by farm type:\n",
    "    * Specialist tillage- 3,700\n",
    "    * Specialist dairy- 12,600\n",
    "    * Specialist beef production- 32,300\n",
    "    * Specialist sheep- 4,800\n",
    "    * Mixed grazing livestock- 5,100\n",
    "    * Mixed crops and livestock- 1,500\n",
    "    * Mixed field crops- 4,300\n",
    "    * Other- 700\n",
    "* Average standard Output (SO) of farms in the Southern and Eastern region- €64,734\n",
    "\n",
    "Comparing the the 2 regions there are is a stark contrast in standard output between them with Southern and Eastern having a much higher standard output. The farm sizes are also larger which suggest to me that there is a relationship between farm size and output. However, I also know from my own knowledge of the agricultural sector in Ireland that the type of land also has an impact on output. The land in the West of Ireland and the border areas is more marginal land that tends to be be wetter in the spring and winter time and presents more challenges to farmers in farming the land. In contrast the land in the South and South East of Ireland is prime agricultual land and farmers can return a better crop and grass output with less inputs. \n",
    "\n",
    "Taking the case of beef production as an example, a farmer on marginal land in the West of Ireland or the border area would grow less grass than a farmer in the more affluent land in the South East of Ireland. This would mean that farmer in the West or border area would have higher input costs in supplementary feed costs and fertiliser to grow grass. The land would also become too wet for cattle earlier in the year and that farmer would have to house cattle for a longer time in the winter which also leads to increased input costs. Where a farmer in the West of Co.Galway for example could expect to house cattle from the end of September until the middle or end of April, a farmer in Co.Wexford would hope to house cattle from the beginning of November until the beginning of March"
   ]
  },
  {
   "cell_type": "markdown",
   "metadata": {},
   "source": [
    "#### Choosing distribution for farm size variable\n",
    "\n",
    "I have chosen to use the normal distribution for the farm size variable in the data set that I am going to simulate. Some reasons for my decision:\n",
    "\n",
    "* I know the average farm size from the CSO Farm Structure Survey 2016.\n",
    "* It is extremely hard to simulate data for farm sizes in Ireland as there is such a large variance in farm sizes. \n",
    "* Ireland has an extremely high ratio of farms to land area. \n",
    "* On one end of the scale there are a small number of large industrial farms that employ multiple people and on the other end of the scale are the small traditional family farms with some being very small in size and what some in Ireland term as \"hobby farms\" where the landownder is working full time off farm and they are farming the land in their free time to kepp the tradition alive. These small size holdings do not exist in most other European countries.\n",
    "* So I have to make a decision on what is the best distribution to accurately represent farm size in Ireland. Since, I know the average size of farms in Ireland and I know that their are a large number of farms in Ireland from my research, and I know from my personal knowledge of the agriculture sector in Ireand that there are many farms of similiar sizes I am going to use the normal distribution for farm size in my data simulation."
   ]
  },
  {
   "cell_type": "markdown",
   "metadata": {},
   "source": [
    "#### Normal distribution\n",
    "\n",
    "numpy.random.normal documentation: https://docs.scipy.org/doc/numpy-1.16.0/reference/generated/numpy.random.normal.html#numpy.random.normal\n",
    "\n",
    "_\"Draw random samples from a normal (Gaussian) distribution. The probability density function of the normal distribution, first derived by De Moivre and 200 years later by both Gauss and Laplace independently [2], is often called the bell curve because of its characteristic shape\"_\n",
    "\n",
    "Source- https://docs.scipy.org/doc/numpy-1.16.0/reference/generated/numpy.random.normal.html#numpy.random.normal\n",
    "\n",
    "A normal distribution often described as a bell curve distributon because of the shape, often occurs naturally within statistics. One example would be in measuring height of a group of people there would tend to be a central tendency of data with the majority of data gathering around this point.\n",
    "\n",
    "Below are some properties that could be associated with a normal distribution:\n",
    "\n",
    "* The mean, mode and median are all equal\n",
    "* The bell curve is symmetric at the centre\n",
    "* 50% of the values are to the left of the centre and 50% to the right of centre\n",
    "* 99.7% of the data occurs within 3 standard deviations of the mean\n",
    "* Some further reading on characteristics of a normal distribution: https://www.statisticshowto.datasciencecentral.com/probability-and-statistics/normal-distributions/ and https://mathbitsnotebook.com/Algebra2/Statistics/STstandardNormalDistribution.html\n",
    "\n",
    "**numpy.random.normal takes 3 arguments:**\n",
    "\n",
    "* loc : float or array_like of floats - the Mean of the distribution.\n",
    "* scale : float or array_like of floats - the Standard deviation of the distribution or in simple terms the width of the distribution.\n",
    "* size : int or tuple of ints, optional - the size of the distribution"
   ]
  },
  {
   "cell_type": "markdown",
   "metadata": {},
   "source": [
    "**Below is an image of a normal distribution showing the bell shape curve:**\n",
    "\n",
    "![normal.png](https://www.researchgate.net/profile/Zacharie_Mbaitiga/publication/47554522/figure/fig3/AS:669306094358551@1536586416576/Bell-curve-and-standard-deviation.jpg)\n",
    "\n",
    "Source: https://www.researchgate.net/figure/Bell-curve-and-standard-deviation_fig3_47554522"
   ]
  },
  {
   "cell_type": "markdown",
   "metadata": {},
   "source": [
    "**The Empirical rule**\n",
    "\n",
    "The Empirical rule states that within a normal distribution almost all of the data falls within 3 standard deviations of the mean.\n",
    "\n",
    "According to the Empirical rule we should expect to see:\n",
    "\n",
    "* 68% of the data within the first standard deviation from the mean\n",
    "* 95% of the data within 2 standard deviations of the mean\n",
    "* 99.7% of the data within 3 standard deviations of the mean\n",
    "\n",
    "Further reading on the Empirical rule: https://www.statisticshowto.datasciencecentral.com/empirical-rule-2/ and https://mathbitsnotebook.com/Algebra2/Statistics/STstandardNormalDistribution.html\n",
    "\n",
    "Video tutorial on the Empirical rule: https://www.youtube.com/watch?time_continue=6&v=hQTvdD8vtio"
   ]
  },
  {
   "cell_type": "markdown",
   "metadata": {},
   "source": [
    "**Image showing the Empirical Rule on a normal distribution:**\n",
    "\n",
    "![empirical.png](https://www.statisticshowto.datasciencecentral.com/wp-content/uploads/2013/09/standard-normal-distribution.jpg)\n",
    "\n",
    "Source: https://www.statisticshowto.datasciencecentral.com/probability-and-statistics/normal-distributions/"
   ]
  },
  {
   "cell_type": "markdown",
   "metadata": {},
   "source": [
    "#### Parameters for my data simulation\n",
    "\n",
    "**1. Mean of farm sizes in Ireland:**\n",
    "\n",
    "From the CSO Farm Structure Survey I know the mean farm size is 32.4 hectares so I will use this in my distribution.\n",
    "\n",
    "**2. Standard deviation of farm sizes in Ireland:**\n",
    "\n",
    "After some investigation I have decided that a good standard deviation measure to use is 8.2 hectares. When I use the standard deviation of 8.2 hectares with a sample of 200 farm sizes from the normal distribution, the range of farm sizes returned is between 12.98 and 52.18 hectares, which I believe to be a reasonably accurate representation of the distribution of farm sizes in Ireland today. Using the normal distribution I can expect 68% of farm sizes to fall within one standard deviation of the mean value of 32.4 hectares. This would be the range 24 to 40 hectares. I am satisfied that this represents the most frequently occurring farm sizes in Ireland today. \n",
    "\n",
    "**3. Sample size:**\n",
    "\n",
    "I have decided to generate data for a sample size of 200 farmholdings."
   ]
  },
  {
   "cell_type": "markdown",
   "metadata": {},
   "source": [
    "#### Data Simulation of farm sizes in Ireland using the Normal distribution:"
   ]
  },
  {
   "cell_type": "code",
   "execution_count": 2,
   "metadata": {},
   "outputs": [
    {
     "data": {
      "text/plain": [
       "array([34.44, 36.56, 27.21, 42.74, 36.82, 38.01, 28.73, 23.35, 34.33,\n",
       "       40.45, 36.98, 11.36,  9.98, 18.67, 34.33, 24.31, 26.87, 16.65,\n",
       "       25.34, 32.38, 15.33, 35.12, 23.5 , 25.91, 32.39, 25.29, 48.74,\n",
       "       38.05, 46.78, 23.02, 35.43, 32.92, 21.91, 46.36, 39.83, 42.89,\n",
       "       22.68, 33.22, 50.67, 34.17, 29.34, 43.22, 51.22, 29.41, 47.08,\n",
       "       42.66, 28.22, 30.72, 28.89, 40.83, 31.5 , 34.66, 36.93, 26.86,\n",
       "       25.31, 39.1 , 14.57, 41.49, 27.74, 40.71, 22.48, 15.06, 34.4 ,\n",
       "       26.78, 24.42, 22.04, 37.3 , 44.38, 28.78, 35.29, 29.5 , 36.45,\n",
       "       47.25, 32.  , 26.46, 38.38, 35.93, 29.57, 45.06, 24.26, 34.93,\n",
       "       34.66, 28.04, 31.71, 38.13, 23.43, 18.06, 35.21, 39.1 , 42.05,\n",
       "       17.49, 37.39, 23.5 , 22.22, 35.48, 29.15, 37.78, 23.  , 41.15,\n",
       "       37.88, 24.07, 42.  , 31.45, 33.77, 19.  , 13.64, 51.46, 31.61,\n",
       "       33.19, 26.86, 14.92, 22.67, 35.07, 29.96, 29.88, 29.2 , 27.64,\n",
       "       42.65, 31.61, 20.  , 26.4 , 31.16, 35.94, 31.43, 30.28, 33.83,\n",
       "       27.19, 29.57, 23.42, 30.85, 35.92, 47.86, 26.63, 29.75, 25.6 ,\n",
       "       36.97, 34.94, 36.56, 26.1 , 38.88, 27.36, 37.79, 26.25, 31.87,\n",
       "       37.05, 35.33, 45.79, 34.17, 44.8 , 36.79, 52.07, 35.78, 33.43,\n",
       "       40.31, 33.1 , 23.67, 29.99, 36.82, 43.43, 40.59, 14.64, 34.76,\n",
       "       32.11, 34.28, 34.49, 43.15, 34.  , 18.56, 38.7 , 30.77, 25.35,\n",
       "       41.2 , 49.  , 26.97, 35.92, 37.71, 32.46, 37.19, 31.79, 12.67,\n",
       "       33.97, 30.87, 28.29, 34.42, 40.68, 29.73, 38.54, 41.41, 30.15,\n",
       "       40.69, 30.29,  3.55, 29.15, 37.7 , 43.84, 36.49, 33.38, 22.57,\n",
       "       39.88, 37.92])"
      ]
     },
     "execution_count": 2,
     "metadata": {},
     "output_type": "execute_result"
    }
   ],
   "source": [
    "# If I wanted the same data to be generated each time I would set a seed using numpy.random.seed\n",
    "farm_size = np.random.normal(32.4, 8.2, 200).round(2)\n",
    "# normal distribution\n",
    "# mean set to 32.4 hectares\n",
    "# standard deviation set to 4.6 hectares\n",
    "# 200 samples are generated\n",
    "# round(2) to round the result to 2 decimal places\n",
    "farm_size"
   ]
  },
  {
   "cell_type": "code",
   "execution_count": 3,
   "metadata": {},
   "outputs": [
    {
     "name": "stdout",
     "output_type": "stream",
     "text": [
      "The average farm size is 32.38 hectares\n"
     ]
    }
   ],
   "source": [
    "print(f\"The average farm size is {np.mean(farm_size).round(2)} hectares\")"
   ]
  },
  {
   "cell_type": "code",
   "execution_count": 4,
   "metadata": {},
   "outputs": [
    {
     "name": "stdout",
     "output_type": "stream",
     "text": [
      "The smallest farm size is 3.55 hectares\n"
     ]
    }
   ],
   "source": [
    "print(f\"The smallest farm size is {np.min(farm_size).round(2)} hectares\")"
   ]
  },
  {
   "cell_type": "code",
   "execution_count": 5,
   "metadata": {},
   "outputs": [
    {
     "name": "stdout",
     "output_type": "stream",
     "text": [
      "The largest farm size is 52.07 hectares\n"
     ]
    }
   ],
   "source": [
    "print(f\"The largest farm size is {np.max(farm_size).round(2)} hectares\")"
   ]
  },
  {
   "cell_type": "markdown",
   "metadata": {},
   "source": [
    "**Histogram of the farm sizes:**"
   ]
  },
  {
   "cell_type": "code",
   "execution_count": 6,
   "metadata": {},
   "outputs": [
    {
     "data": {
      "text/plain": [
       "Text(0, 0.5, 'Number of farms')"
      ]
     },
     "execution_count": 6,
     "metadata": {},
     "output_type": "execute_result"
    },
    {
     "data": {
      "image/png": "[encoded data removed]",
      "text/plain": [
       "<Figure size 720x576 with 1 Axes>"
      ]
     },
     "metadata": {
      "needs_background": "light"
     },
     "output_type": "display_data"
    }
   ],
   "source": [
    "plt.rcParams['figure.figsize'] = (10, 8)\n",
    "plt.hist(farm_size)\n",
    "plt.title('Farm sizes in Ireland - sample size of 200')\n",
    "plt.xlabel('Farm sizes in hectares')\n",
    "plt.ylabel('Number of farms')\n",
    "\n",
    "# pyplot.hist to plot a histogram of farm sizes "
   ]
  },
  {
   "cell_type": "markdown",
   "metadata": {},
   "source": [
    "**Scatter plot of the farm sizes:**"
   ]
  },
  {
   "cell_type": "code",
   "execution_count": 7,
   "metadata": {},
   "outputs": [
    {
     "data": {
      "text/plain": [
       "Text(0, 0.5, 'Number of farms')"
      ]
     },
     "execution_count": 7,
     "metadata": {},
     "output_type": "execute_result"
    },
    {
     "data": {
      "image/png": "[encoded data removed]",
      "text/plain": [
       "<Figure size 720x576 with 1 Axes>"
      ]
     },
     "metadata": {
      "needs_background": "light"
     },
     "output_type": "display_data"
    }
   ],
   "source": [
    "plt.rcParams['figure.figsize'] = (10, 8)\n",
    "plt.plot(farm_size, 'go--')\n",
    "plt.title('Farm sizes in Ireland - sample size of 200')\n",
    "plt.xlabel('Farm sizes in hectares')\n",
    "plt.ylabel('Number of farms')\n",
    "# line plot of farm_size\n",
    "# 'go--' plots green dots joined by a dotted line"
   ]
  },
  {
   "cell_type": "markdown",
   "metadata": {},
   "source": [
    "**Display the farm sizes using padas.dataframe:**\n",
    "\n",
    "I have commented out the code to save space for now."
   ]
  },
  {
   "cell_type": "code",
   "execution_count": 8,
   "metadata": {},
   "outputs": [],
   "source": [
    "##df = pd.DataFrame(farm_size, columns=['Farm Size'])\n",
    "##df\n",
    "# pandas.dataframe used to read in the \n",
    "# documentation page: https://pandas.pydata.org/pandas-docs/stable/reference/api/pandas.DataFrame.html\n",
    "# Columns parameter passed in to name the columns in the dataframe\n",
    "# https://www.tutorialspoint.com/python_pandas/python_pandas_dataframe.htm\n",
    "# https://www.geeksforgeeks.org/python-pandas-dataframe/"
   ]
  },
  {
   "cell_type": "markdown",
   "metadata": {},
   "source": [
    "#### Section 3.1 References\n",
    "* Representation in Ireland: https://ec.europa.eu/ireland/news/key-eu-policy-areas/agriculture_en\n",
    "* Farm Structure Survey 2013: https://www.cso.ie/en/releasesandpublications/ep/p-fss/farmstructuresurvey2013/detailedanalysis/farmstructure/\n",
    "* Agriculture in Ireland: https://www.teagasc.ie/rural-economy/rural-economy/agri-food-business/agriculture-in-ireland/\n",
    "* Teagasc national farm survey: The sustainability of small farming in Ireland: https://www.teagasc.ie/media/website/publications/2017/Small-Farms-Survey.pdf\n",
    "* CSO Farm Structure Survey 2016: https://www.cso.ie/en/releasesandpublications/ep/p-fss/farmstructuresurvey2016/da/fs/\n",
    "* numpy.random.normal: https://docs.scipy.org/doc/numpy-1.15.0/reference/generated/numpy.random.normal.html\n",
    "* Normal distribution: https://www.statisticshowto.datasciencecentral.com/probability-and-statistics/normal-distributions/\n",
    "* Normal distribution: https://mathbitsnotebook.com/Algebra2/Statistics/STstandardNormalDistribution.html\n",
    "* The Empirical rule Youtube video: https://www.youtube.com/watch?time_continue=6&v=hQTvdD8vtio\n",
    "* What is the Empirical rule: https://www.statisticshowto.datasciencecentral.com/empirical-rule-2/ and https://mathbitsnotebook.com/Algebra2/Statistics/STstandardNormalDistribution.html\n",
    "* Image of the Empirical rule: https://www.statisticshowto.datasciencecentral.com/probability-and-statistics/normal-distributions/\n",
    "* Image of normal distribution: https://www.researchgate.net/figure/Bell-curve-and-standard-deviation_fig3_47554522"
   ]
  },
  {
   "cell_type": "markdown",
   "metadata": {},
   "source": [
    "### Section 3.2 - Variable 2: Direct Payment amount received per farmholding\n",
    "\n",
    "The second variable I am going to look at is the amount of direct payment received per farmholding. I think this is an extremely important and insightful variable to look at as direct payments are crucial to the survival of the small farms in Ireland. This variable will be a non negative real number rounded to 2 decimal places.\n",
    "\n",
    "The results of the Teagasc National Farm Survey 2016 are listed in a report here: https://www.teagasc.ie/media/website/publications/2017/NFS-2016-Final-Report.pdf ad there are some interesting statistics surrounding direct payments."
   ]
  },
  {
   "cell_type": "markdown",
   "metadata": {},
   "source": [
    "_\"The average direct payment\n",
    "was €17,804 in 2016,\n",
    "accounting for 75% of income.\"_\n",
    "\n",
    "Source: Teagasc National Farm Survey 2016 https://www.teagasc.ie/media/website/publications/2017/NFS-2016-Final-Report.pdf"
   ]
  },
  {
   "cell_type": "markdown",
   "metadata": {},
   "source": [
    "The Teagasc National Farm Survey goes on to give a breakdown of the contribution of direct payments to income by sector. In the beef sector direct payments made  up 115% of income while in the sheep sector direct payments made up 114% of income. I think this statistic alone shows the importance of direct payments to the sustainsbility of Irish agriculture."
   ]
  },
  {
   "cell_type": "markdown",
   "metadata": {},
   "source": [
    "#### Basic Payment Scheme (BPS)\n",
    "\n",
    "The BPS previously known as the Single Farm Payment is the main direct payment that farmers in Ireland can avail of. The basic payment amount that can be claimed is based on the number of hectares farmed. Despite their being a common misconception this is \"free\" money, in order to avail of the payments farmers must comply with strict regulations surrounding animal health and welfare, environmental protection and food traceability. Failure to comply with these regulations could lead to clawback of payments claimed and possible expulsion from future entry to the scheme. There are rigorous inspections carried out without notice and also in recent years satellite inspections have been introduced. The maximum payment amount that can be claimed for one holding under the BPS scheme is currently €150,000. However, there are talks of reducing this amount to €100,000 from 2020 onwards in a reform of the CAP payments system. \n",
    "\n",
    "I found a nice explanation of the Basic Payment Scheme on the Scottish Government website: https://www.ruralpayments.org/publicsite/futures/topics/all-schemes/basic-payment-scheme/\n"
   ]
  },
  {
   "cell_type": "markdown",
   "metadata": {},
   "source": [
    "_\"The Basic Payment Scheme acts as a safety net for farmers and crofters by supplementing their main business income. \n",
    "To qualify for this support, you must actively farm your land. \n",
    "Support under the Basic Payment Scheme is available to farmers who are allocated payment entitlements. \n",
    "You can apply for entitlements based on the land you farm and the activity you undertake.\"_\n",
    "\n",
    "Source: https://www.ruralpayments.org/publicsite/futures/topics/all-schemes/basic-payment-scheme/"
   ]
  },
  {
   "cell_type": "markdown",
   "metadata": {},
   "source": [
    "**Further reading on the Basic Payment Scheme:**\n",
    "* Department of Agriculture, Food and The Marine website:\n",
    "https://www.agriculture.gov.ie/farmerschemespayments/basicpaymentschemegreeningareasofnaturalconstraints/\n",
    "* 2019 Basic Payment Scheme terms and conditions: https://www.agriculture.gov.ie/farmerschemespayments/basicpaymentschemegreeningareasofnaturalconstraints/2019basicpaymentschemegreeningareasofnaturalconstraints/\n",
    "* Basic Payment Scheme explained: https://www.agriland.ie/farming-news/basis-payments-scheme-explained/\n"
   ]
  },
  {
   "cell_type": "markdown",
   "metadata": {},
   "source": [
    "**There are also other payments/schemes farmers can apply to:**\n",
    "\n",
    "* **Young Farmers Scheme** which is a top up payment that can be claimed by young trained farmers under the age of 40 who have complete their level 6 agriculture certificate training with Teagasc and have entered into a partnership on a farm. The aim of this scheme is to encourage older farmers to bring their successor into  parthership with them in running the farm as a stepping stone to the full handover of the farm. Further information on the 2019 National Reserve and Young Farmers Scheme can be read at this [link](https://www.agriculture.gov.ie/farmerschemespayments/capentitlementsrelatedinformationandapplicationforms/2019nationalreserveandyoungfarmersscheme/)\n",
    "* **Beef Data and Genomics Scheme (BDGP)** which offers payments to suckler farmers who complete DNA genotyping of animals on their holdings in order to build a database of DNA of the beef herd in Ireland. The aim of this scheme is to gather data on the beef herd in Ireland and use the data to identify more efficient animals to use for breeding. BDGP scheme- https://www.agriculture.gov.ie/beefschemes/.\n",
    "* In 2019, there were 2 more schemes made available to beef farmers due to the poor state of the beef sector:\n",
    "    * **Beef Environmental Efficiency Pilot (BEEP)**- farmers who weighed cows and calves receivced a payment, the aim of the scheme is to identify the most efficient     cows to use for breeding to lower the carbon footprint of the beef sector. BEEP scheme- https://www.agriculture.gov.ie/beep/. \n",
    "    * **Beef Emergency Aid Measure (BEAM)** - a compensation scheme where beef farmers could claim a payment to compensate them for the poor price beef animals were making at market throughout 2019. BEAM scheme- https://www.agriculture.gov.ie/farmerschemespayments/beam/. "
   ]
  },
  {
   "cell_type": "markdown",
   "metadata": {},
   "source": [
    "#### Relationship between farm size and direct payments variables\n",
    "\n",
    "There is a relationship between farm size and direct payment amount received in that the larger the farm, the more entitlements (one entitlement per hectare) a farmer can claim and thus the higher the amount of direct payment is payable. Is this fair? Do smaller farmers need extra support?\n",
    "\n",
    "_\"Although the role of direct payments in stabilising farm income is generally welcomed, the fact that 20% of farmers receive 80% of the payments prompts accusations of \"unfairness\".These numbers are a reflection of a system where payments are linked to land which is concentrated among a minority of farmers.\"_\n",
    "\n",
    "(Irish Independent: https://www.independent.ie/business/farming/schemes/facts-and-figures-on-the-cap-in-ireland-where-the-money-comes-from-and-who-gets-it-37774326.html)"
   ]
  },
  {
   "cell_type": "markdown",
   "metadata": {},
   "source": [
    "#### Data Simulation of Direct Payment amount per farmholding"
   ]
  },
  {
   "cell_type": "markdown",
   "metadata": {},
   "source": [
    "After research I have concluded there is no exact science to measuring the direct payment amounts per farm in Ireland. However, there is a clear relationship between farm size and direct payment amount received. In 2019 the maximum entitlement per hectare that can be claimed is €486.09, entitlements values can range up to this value. \n",
    "\n",
    "In reality, there is a variance in the value of entitlements between farmholdings and so I have decided the best way to capture this variance is my data simulation is to use numpy.random.randint to generate a rate per hectare which will be used to generate the direct payment amounts for each farm. I will pass in a lower and higher value and numpy.random.randint which will be used to generate the integer amount for rate of payment per hectare. I will then multiply the rate by the number of hectares on the farmholding to get the direct payment amount. I will expect the data generate to reflect the general trend of the larger the farm the greater the payments while also reflecting the variance in payments that exist in reality. "
   ]
  },
  {
   "cell_type": "markdown",
   "metadata": {},
   "source": [
    "**Add some variation with numpy.random.randint:**"
   ]
  },
  {
   "cell_type": "markdown",
   "metadata": {},
   "source": [
    "I will use numpy.random.randint to capture the variation in direct payments that can occur due to the variation in entitlement values that exist. The numpy.random.randint function returns random integers between the low and high values passed in by the user. \n",
    "\n",
    "The documentation page: https://docs.scipy.org/doc/numpy-1.14.0/reference/generated/numpy.random.randint.html#numpy.random.randint\n",
    "\n",
    "I have one example below:"
   ]
  },
  {
   "cell_type": "code",
   "execution_count": 9,
   "metadata": {},
   "outputs": [
    {
     "data": {
      "text/plain": [
       "103"
      ]
     },
     "execution_count": 9,
     "metadata": {},
     "output_type": "execute_result"
    }
   ],
   "source": [
    "np.random.randint( 102, 110)\n",
    "# return random integer between 102 and 110"
   ]
  },
  {
   "cell_type": "markdown",
   "metadata": {},
   "source": [
    "I think using numpy.random.randint in this way will be useful in capturing the variation in direct payment amounts as there is no exact science to calculating direct payment amounts."
   ]
  },
  {
   "cell_type": "markdown",
   "metadata": {},
   "source": [
    "**Complete the simulation:**"
   ]
  },
  {
   "cell_type": "code",
   "execution_count": 10,
   "metadata": {},
   "outputs": [
    {
     "data": {
      "text/plain": [
       "array([ 9471.  , 12613.2 ,  9278.61, 11625.28, 10567.34, 14025.69,\n",
       "       11836.76,  7542.05, 12564.78, 17150.8 , 14570.12,  4646.24,\n",
       "        3902.18,  5713.02, 10985.6 ,  6442.15,  9216.41,  6243.75,\n",
       "       10034.64, 13243.42,  6469.26, 10500.88,  6321.5 , 10700.83,\n",
       "       10040.9 , 10293.03, 19544.74, 14877.55, 16326.22,  7481.5 ,\n",
       "       14242.86, 13233.84,  9202.2 , 15067.  , 12068.49, 17799.35,\n",
       "        8822.52, 13155.12, 14643.63, 10148.49,  8127.18, 17028.68,\n",
       "       14239.16,  8823.  , 17419.6 , 16381.44,  8635.32, 12103.68,\n",
       "        9909.27, 11187.42,  9922.5 , 12442.94, 12703.92,  9696.46,\n",
       "        7593.  , 11182.6 ,  5478.32, 15517.26,  8876.8 , 12782.94,\n",
       "        6564.16,  5542.08,  9769.6 , 11060.14,  9157.5 ,  8573.56,\n",
       "       14248.6 , 13713.42,  9267.16,  9704.75, 11888.5 , 14652.9 ,\n",
       "       13513.5 ,  8576.  ,  9340.38, 11398.86,  9629.24,  8634.44,\n",
       "       14238.96,  9582.7 , 10758.44,  9739.46,  9701.84,  9132.48,\n",
       "       10600.14,  8130.21,  6375.18, 13520.64, 11612.7 , 16357.45,\n",
       "        4844.73, 13909.08,  8742.  ,  8421.38, 12737.32,  8103.7 ,\n",
       "       10200.6 ,  6187.  , 12879.95, 15265.64,  6571.11, 17556.  ,\n",
       "       10126.9 , 10097.23,  5187.  ,  5183.2 , 18731.44, 10968.67,\n",
       "       13076.86,  8729.5 ,  4177.6 ,  9408.05, 14168.28, 11684.4 ,\n",
       "       10458.  ,  9694.4 , 10254.44, 17913.  , 11221.55,  8180.  ,\n",
       "        7365.6 ,  9659.6 , 12471.18, 12540.57,  9265.68, 13227.53,\n",
       "        8809.56,  9846.81,  9906.66,  9193.3 , 10811.92, 15123.76,\n",
       "       10625.37,  8419.25, 10086.4 , 15638.31, 13207.32, 15172.4 ,\n",
       "        9526.5 , 12713.76, 11053.44, 15607.27,  9975.  , 12429.3 ,\n",
       "       13782.6 , 10563.67, 17583.36, 11583.63, 12275.2 , 11110.58,\n",
       "       18172.43, 11521.16, 10296.44, 11165.87, 10923.  ,  6674.94,\n",
       "       11186.27, 14580.72, 15330.79, 16195.41,  4113.84, 12687.4 ,\n",
       "       11784.37, 10284.  , 13658.04, 17346.3 , 12546.  ,  6922.88,\n",
       "       11571.3 ,  9446.39,  8948.55, 15532.4 , 19453.  ,  7929.18,\n",
       "       10632.32, 14103.54, 11880.36, 11528.9 , 10776.81,  4206.44,\n",
       "        9205.87, 10927.98, 11655.48, 14353.14, 11105.64,  9959.55,\n",
       "       11793.24, 10973.65, 11065.05, 14567.02, 10601.5 ,  1498.1 ,\n",
       "        8832.45, 14024.4 , 12450.56, 10655.08, 10147.52,  7132.12,\n",
       "       12283.04, 15092.16])"
      ]
     },
     "execution_count": 10,
     "metadata": {},
     "output_type": "execute_result"
    }
   ],
   "source": [
    "Rate = np.random.randint(265, 425, farm_size.size)\n",
    "# 265 is the low parameter, 425 is the high parameter\n",
    "# size parameter sets the size to equal farm size of 200 samples\n",
    "direct_payment= farm_size * Rate\n",
    "# I have generated direct payment amounts based on number of hectares\n",
    "# I have used numpy.random.randint to use a random integer between 265 and 425 for the rate per hectare\n",
    "# The reason for this is their is a variation in entitlement amount per farm\n",
    "direct_payment\n",
    "# direct payment amounts shown in an array"
   ]
  },
  {
   "cell_type": "markdown",
   "metadata": {},
   "source": [
    "#### Relationship between farm size and direct payment amount:"
   ]
  },
  {
   "cell_type": "code",
   "execution_count": 11,
   "metadata": {},
   "outputs": [],
   "source": [
    "df = pd.DataFrame(data={\"Farm Size\": farm_size, \"Direct Payments\": direct_payment})\n",
    "# pandas dataframe created containing the values for farm size and direct payment \n",
    "# df\n",
    "# I have commented out df above to save space in this notebook. "
   ]
  },
  {
   "cell_type": "markdown",
   "metadata": {},
   "source": [
    "##### Seaborn.pairplot\n",
    "\n",
    "The documentation for seaborn.pairplot is here: https://seaborn.pydata.org/generated/seaborn.pairplot.html\n",
    "\n",
    "I read about seaborn.pairplot on the following blog post: https://towardsdatascience.com/visualizing-data-with-pair-plots-in-python-f228cf529166 and I found the below section interesting:\n",
    "\n",
    "\"I’m still amazed that one simple line of code gives us this entire plot! The pairs plot builds on two basic figures, the histogram and the scatter plot. The histogram on the diagonal allows us to see the distribution of a single variable while the scatter plots on the upper and lower triangles show the relationship (or lack thereof) between two variables.\"\n",
    "\n",
    "From: https://towardsdatascience.com/visualizing-data-with-pair-plots-in-python-f228cf529166"
   ]
  },
  {
   "cell_type": "code",
   "execution_count": 12,
   "metadata": {},
   "outputs": [
    {
     "data": {
      "text/plain": [
       "<seaborn.axisgrid.PairGrid at 0x25002d3ffd0>"
      ]
     },
     "execution_count": 12,
     "metadata": {},
     "output_type": "execute_result"
    },
    {
     "data": {
      "image/png": "[encoded data removed]",
      "text/plain": [
       "<Figure size 360x360 with 6 Axes>"
      ]
     },
     "metadata": {
      "needs_background": "light"
     },
     "output_type": "display_data"
    }
   ],
   "source": [
    "sns.pairplot(df)"
   ]
  },
  {
   "cell_type": "markdown",
   "metadata": {},
   "source": [
    "#### Seaborn.relplot\n",
    "\n",
    "A relplot in seaborn is used to show the relationship between two variables, and also allows the mapping of subsets. \n",
    "\n",
    "The Seaborn.relplot documentation: https://seaborn.pydata.org/generated/seaborn.relplot.html#seaborn.relplot\n",
    "\n",
    "\"This function provides access to several different axes-level functions that show the relationship between two variables with semantic mappings of subsets. The kind parameter selects the underlying axes-level function to use:\"\n",
    "\n",
    "Source: https://seaborn.pydata.org/generated/seaborn.relplot.html#seaborn.relplot"
   ]
  },
  {
   "cell_type": "code",
   "execution_count": 13,
   "metadata": {},
   "outputs": [
    {
     "data": {
      "image/png": "[encoded data removed]",
      "text/plain": [
       "<Figure size 360x360 with 1 Axes>"
      ]
     },
     "metadata": {
      "needs_background": "light"
     },
     "output_type": "display_data"
    }
   ],
   "source": [
    "sns.relplot(x=\"Farm Size\", y=\"Direct Payments\", data=df);"
   ]
  },
  {
   "cell_type": "markdown",
   "metadata": {},
   "source": [
    "From the above plots I can see there is a linear relationship between farm size and direct payment amount claimed. Although it is not a perfect linear relationship, the general rule seems to be the larger the farm the higher the direct payment amount is. There is some variance though which I think accurately reflects the variance that exists in entitlement values per hectare for direct payments. "
   ]
  },
  {
   "cell_type": "markdown",
   "metadata": {},
   "source": [
    "#### What is the average farm size and direct payment amounts?"
   ]
  },
  {
   "cell_type": "code",
   "execution_count": 14,
   "metadata": {},
   "outputs": [
    {
     "name": "stdout",
     "output_type": "stream",
     "text": [
      "The average farm size is 32.38 hectares\n",
      "The average direct payment amount is 11108.13 euros\n"
     ]
    }
   ],
   "source": [
    "print(f\"The average farm size is {np.mean(farm_size).round(2)} hectares\")\n",
    "print(f\"The average direct payment amount is {np.mean(direct_payment).round(2)} euros\")"
   ]
  },
  {
   "cell_type": "markdown",
   "metadata": {},
   "source": [
    "#### What is the average payment per hectare?"
   ]
  },
  {
   "cell_type": "code",
   "execution_count": 15,
   "metadata": {},
   "outputs": [
    {
     "name": "stdout",
     "output_type": "stream",
     "text": [
      "The average rate of payment per hectare is 343.06 euros\n"
     ]
    }
   ],
   "source": [
    "Mean_Rate= np.mean(direct_payment)/np.mean(farm_size)\n",
    "print(f\"The average rate of payment per hectare is {Mean_Rate.round(2)} euros\")"
   ]
  },
  {
   "cell_type": "markdown",
   "metadata": {},
   "source": [
    "#### Section 3.2 References\n",
    "* Teagasc National Farm Survey 2016: https://www.teagasc.ie/media/website/publications/2017/NFS-2016-Final-Report.pdf\n",
    "* Department of Agriculture, Food and The Marine website: https://www.agriculture.gov.ie/farmerschemespayments/basicpaymentschemegreeningareasofnaturalconstraints/\n",
    "* 2019 Basic Payment Scheme terms and conditions: https://www.agriculture.gov.ie/farmerschemespayments/basicpaymentschemegreeningareasofnaturalconstraints/2019basicpaymentschemegreeningareasofnaturalconstraints/\n",
    "* Basic Payment Scheme explained: https://www.agriland.ie/farming-news/basis-payments-scheme-explained/\n",
    "* 2019 National Reserve and Young Farmers Scheme: https://www.agriculture.gov.ie/farmerschemespayments/capentitlementsrelatedinformationandapplicationforms/2019nationalreserveandyoungfarmersscheme/. \n",
    "* BDGP scheme: https://www.agriculture.gov.ie/beefschemes/\n",
    "* BEEP scheme: https://www.agriculture.gov.ie/beep/\n",
    "* BEAM scheme: https://www.agriculture.gov.ie/farmerschemespayments/beam/. \n",
    "* Scottish Government - Rural payments and services: https://www.ruralpayments.org/publicsite/futures/topics/all-schemes/basic-payment-scheme/\n",
    "* Payment Entitlement Update 2019: https://www.agriculture.gov.ie/media/migration/farmingschemesandpayments/capentitlementsrelatedapplicationforms/2019/PaymentEntitlementUpdate240119.pdf\n",
    "* numpy.random.randint: https://docs.scipy.org/doc/numpy-1.14.0/reference/generated/numpy.random.randint.html#numpy.random.randint\n",
    "* The Seaborn.relplot documentation: https://seaborn.pydata.org/generated/seaborn.relplot.html#seaborn.relplot\n",
    "* Seaborn.relplot blog post: https://seaborn.pydata.org/generated/seaborn.relplot.html#seaborn.relplot\n",
    "* The documentation for seaborn.pairplot: https://seaborn.pydata.org/generated/seaborn.pairplot.html\n",
    "* Seaborn.pairplot blog post: https://towardsdatascience.com/visualizing-data-with-pair-plots-in-python-f228cf529166\n",
    "* Irish Independent - Facts and figures on the CAP in Ireland: https://www.independent.ie/business/farming/schemes/facts-and-figures-on-the-cap-in-ireland-where-the-money-comes-from-and-who-gets-it-37774326.html\n",
    "* Proposal in to introduce €100,000 ceiling on CAP payments from 2020: https://www.irishexaminer.com/breakingnews/ireland/around-200-farms-to-be-affected-by-100000-cap-limit-884479.html"
   ]
  },
  {
   "cell_type": "markdown",
   "metadata": {},
   "source": [
    "### Section 3.3- Variable 3: Direct Payment Rate per hectare"
   ]
  },
  {
   "cell_type": "markdown",
   "metadata": {},
   "source": [
    "I have decided to add another variable to the data set after completing the first 2 variables. I want to show the rate per hectare of the direct payment. This is the random integer generated by numpy.random.randint that was used earlier calculating direct payment amount. Rate is a non zero integer. "
   ]
  },
  {
   "cell_type": "code",
   "execution_count": 16,
   "metadata": {},
   "outputs": [
    {
     "data": {
      "text/plain": [
       "array([275, 345, 341, 272, 287, 369, 412, 323, 366, 424, 394, 409, 391,\n",
       "       306, 320, 265, 343, 375, 396, 409, 422, 299, 269, 413, 310, 407,\n",
       "       401, 391, 349, 325, 402, 402, 420, 325, 303, 415, 389, 396, 289,\n",
       "       297, 277, 394, 278, 300, 370, 384, 306, 394, 343, 274, 315, 359,\n",
       "       344, 361, 300, 286, 376, 374, 320, 314, 292, 368, 284, 413, 375,\n",
       "       389, 382, 309, 322, 275, 403, 402, 286, 268, 353, 297, 268, 292,\n",
       "       316, 395, 308, 281, 346, 288, 278, 347, 353, 384, 297, 389, 277,\n",
       "       372, 372, 379, 359, 278, 270, 269, 313, 403, 273, 418, 322, 299,\n",
       "       273, 380, 364, 347, 394, 325, 280, 415, 404, 390, 350, 332, 371,\n",
       "       420, 355, 409, 279, 310, 347, 399, 306, 391, 324, 333, 423, 298,\n",
       "       301, 316, 399, 283, 394, 423, 378, 415, 365, 327, 404, 413, 380,\n",
       "       390, 372, 299, 384, 339, 274, 302, 349, 322, 308, 277, 330, 282,\n",
       "       373, 396, 353, 399, 281, 365, 367, 300, 396, 402, 369, 373, 299,\n",
       "       307, 353, 377, 397, 294, 296, 374, 366, 310, 339, 332, 271, 354,\n",
       "       412, 417, 273, 335, 306, 265, 367, 358, 350, 422, 303, 372, 284,\n",
       "       292, 304, 316, 308, 398])"
      ]
     },
     "execution_count": 16,
     "metadata": {},
     "output_type": "execute_result"
    }
   ],
   "source": [
    "Rate\n",
    "# the rate variable is shown in output below\n",
    "# this is the variable used earlier in calculating direct payment amount "
   ]
  },
  {
   "cell_type": "markdown",
   "metadata": {},
   "source": [
    "### Section 3.4 - Variable 4: Gender of Farmholder"
   ]
  },
  {
   "cell_type": "markdown",
   "metadata": {},
   "source": [
    "The next variable in my data simulation will be a categorical variable showing the gender of farmhoder - male or female.\n",
    "There are many more male farmholders than female farmholders in Ireland. \n",
    "\n",
    "_\"Agriculture is the sector with the highest gender imbalance, stated Louise Lennon of Irish Rural Link at a meeting of the National Women’s Council in Longford last week. She referred to a 2014 study by Tanya Watson of NUI Galway which found that men own 90% of all farmland in Ireland.\"_\n",
    "\n",
    "(Allen C., Agriland, 2018)"
   ]
  },
  {
   "cell_type": "markdown",
   "metadata": {},
   "source": [
    "#### CSO Farm Structure Survey 2016\n",
    "\n",
    "The full results can be viewed at this [link](https://www.cso.ie/en/releasesandpublications/ep/p-fss/farmstructuresurvey2016/da/foli/)\n",
    "\n",
    "Looking at the results for gender of farmholders in Ireland:\n",
    "\n",
    "* Of the 137,500 farms in Ireland in 2016, 137,100 (99.7%) were classified as family farms.\n",
    "* Over 88% (121,100) of family farm holders were male.\n",
    "* In 2016, 265,400 people worked on farms.\n",
    "* Over a quarter (71,700) of those working on farms were female. However, less than one quarter (16,100) were holders of the farms on which they worked.\n",
    "* The farm workforce provided a combined total of 160,700 annual work units (AWU), an average of 1.17 AWU per farm.\n",
    "* Over one quarter (27.0%) of regular family workers were female, providing 19.0% of total AWUs.\n",
    "\n",
    "Source: (CSO Farm Structure Survey, 2016)\n",
    "\n",
    "One stat which I found interesting was that 71,700 females worked on farms but of that total only 16,100 were the farmholders of the farm on which they worked. It is clear that the majority of farmholders in Ireland in 2016 were male."
   ]
  },
  {
   "cell_type": "markdown",
   "metadata": {},
   "source": [
    "#### West Women in Farming Ireland (WWFI)\n",
    "\n",
    "There are moves to encourage more females to become involved in agriculture. One example is the West Women in Farming Ireland (WWFI) group which was set up in 2017 and they are working to encourage more females to become involved in agriculture.  The group were set up to help in empowering and supporting women in agriculture. The difficulty in obtaining a herd number was highlighted in the article I read and there were calls for the Department of Agriculture, Food and the The Marine to make this more accessible to females. \n",
    "\n",
    "_\"The difficulties farm women face in trying to secure a herd number was highlighted at a recent event led by the West Women in Farming Ireland (WWFI) group in conjunction with the Galway-Mayo Institute of Technology (GMIT). More than 250 people attended the event titled ‘Farm Diversification and Enterprise Day’ which was aimed at encouraging women to contribute to the viability of farms and the sustainability of their rural communities.\"_\n",
    "\n",
    "(McCormack C. Agriland 2018)"
   ]
  },
  {
   "cell_type": "markdown",
   "metadata": {},
   "source": [
    "#### Females in Agriculture - Ireland vs rest of European Union"
   ]
  },
  {
   "cell_type": "markdown",
   "metadata": {},
   "source": [
    "I came across an Irish Independent article from January 2018 which cited results from the 2016 Labour Force Survey which gives an insight into the propertion of woman working in agriculture across the European Union. It would seem that Ireland has the least amount of female farmers in Europe.\n",
    "\n",
    "_\"Women accounted for more than 40pc of the agricultural workforce in only five Member States, namely Austria (44.5pc), Romania (43.1pc) Poland, Greece and Slovenia (41.1pc) in each of three countries). By contrast, the lowest proportions of women farmers were reported in Denmark (19.9 pc) and Ireland (11.6pc). There continues to be a significant gender imbalance within agriculture in Ireland with more than 90pc of farm holders being men.\"_\n",
    "\n",
    "Source: (Moran C., Irish Independent, 2018)"
   ]
  },
  {
   "cell_type": "markdown",
   "metadata": {},
   "source": [
    "The below graphic is included in the article which gives a visual representation of the % share of the agricultural workforce made uo by females in 2016.\n",
    "\n",
    "![women.png](https://cdn-01.independent.ie/incoming/article36451838.ece/ee4e9/AUTOCROP/w620/female%20farmers.jpg)\n",
    "\n",
    "Source: (Moran C., Irish Independent, 2018)"
   ]
  },
  {
   "cell_type": "markdown",
   "metadata": {},
   "source": [
    "#### Data Simulation of Gender of farmholder\n",
    "\n",
    "Based on my research, in my data simulation I am going to have 87% of farmholders male and 13% female. "
   ]
  },
  {
   "cell_type": "markdown",
   "metadata": {},
   "source": [
    "**numpy.random.choice**\n",
    "\n",
    "I will use numpy.random.choice to simulate the data for gender of farmholder. The documentation page for numpy.random.choice is here: https://docs.scipy.org/doc/numpy-1.14.1/reference/generated/numpy.random.choice.html. \n",
    "\n",
    "The parameters I need to enter are:\n",
    "* **a** - the array that I want numpy.random.choice to operate on, in my case male or female. \n",
    "* **size** - the output shape (sample size), in this case 200.\n",
    "* **p** - probability of the outputs being returned. I will set the probability of male to 0.87 and female to 0.13 based on the research I carried out.\n",
    "\n",
    "There is also a replace parameter that I will not be using for the purposes of generating this data."
   ]
  },
  {
   "cell_type": "code",
   "execution_count": 24,
   "metadata": {},
   "outputs": [
    {
     "data": {
      "text/plain": [
       "array(['Male', 'Male', 'Male', 'Male', 'Male', 'Male', 'Male', 'Male',\n",
       "       'Male', 'Male', 'Male', 'Male', 'Male', 'Female', 'Male', 'Male',\n",
       "       'Male', 'Male', 'Male', 'Female', 'Female', 'Male', 'Female',\n",
       "       'Female', 'Male', 'Male', 'Male', 'Male', 'Male', 'Male', 'Male',\n",
       "       'Male', 'Male', 'Male', 'Male', 'Male', 'Male', 'Male', 'Male',\n",
       "       'Female', 'Male', 'Female', 'Male', 'Male', 'Female', 'Male',\n",
       "       'Male', 'Male', 'Female', 'Male', 'Male', 'Male', 'Male', 'Male',\n",
       "       'Female', 'Male', 'Male', 'Male', 'Male', 'Male', 'Male', 'Male',\n",
       "       'Female', 'Male', 'Female', 'Male', 'Male', 'Male', 'Male', 'Male',\n",
       "       'Male', 'Female', 'Male', 'Male', 'Male', 'Male', 'Male', 'Female',\n",
       "       'Male', 'Male', 'Male', 'Male', 'Male', 'Male', 'Male', 'Male',\n",
       "       'Male', 'Male', 'Male', 'Female', 'Female', 'Male', 'Male', 'Male',\n",
       "       'Male', 'Male', 'Male', 'Male', 'Male', 'Male', 'Male', 'Male',\n",
       "       'Male', 'Male', 'Female', 'Male', 'Male', 'Male', 'Male', 'Male',\n",
       "       'Male', 'Female', 'Male', 'Male', 'Male', 'Male', 'Male', 'Male',\n",
       "       'Male', 'Female', 'Male', 'Male', 'Male', 'Male', 'Female', 'Male',\n",
       "       'Female', 'Male', 'Male', 'Male', 'Male', 'Male', 'Male', 'Male',\n",
       "       'Male', 'Male', 'Female', 'Female', 'Male', 'Male', 'Male',\n",
       "       'Female', 'Female', 'Male', 'Male', 'Male', 'Male', 'Male', 'Male',\n",
       "       'Male', 'Male', 'Male', 'Male', 'Male', 'Male', 'Female', 'Male',\n",
       "       'Male', 'Male', 'Male', 'Male', 'Male', 'Male', 'Male', 'Male',\n",
       "       'Female', 'Male', 'Male', 'Male', 'Female', 'Female', 'Male',\n",
       "       'Female', 'Male', 'Female', 'Male', 'Female', 'Female', 'Male',\n",
       "       'Female', 'Male', 'Male', 'Male', 'Male', 'Male', 'Male', 'Male',\n",
       "       'Male', 'Female', 'Male', 'Male', 'Male', 'Male', 'Female', 'Male',\n",
       "       'Male', 'Male', 'Male', 'Male', 'Male'], dtype='<U6')"
      ]
     },
     "execution_count": 24,
     "metadata": {},
     "output_type": "execute_result"
    }
   ],
   "source": [
    "Gender = np.random.choice(['Male', 'Female'], size=200, p=[0.87, 0.13])\n",
    "# male or female are passed in as required output strings to be generated\n",
    "# output shape will be 200\n",
    "# probability is 87% male and 13% female\n",
    "Gender\n",
    "# Results shown in output below"
   ]
  },
  {
   "cell_type": "markdown",
   "metadata": {},
   "source": [
    "#### Section 3.4 References\n",
    "* Article- Allen, C., Agriland, 2018, Gender imbalance in agriculture highlighted at conference, 15 April 2018, [online] available from: https://www.agriland.ie/farming-news/gender-imbalance-in-agriculture-highlighted-at-conference/ [viewed 07 December 2019].\n",
    "* Webpage- Central Statistics Office, CSO statistical publication, 23 May 2018, 11am,  Farm Structure Survey 2016, [online] available from: https://www.cso.ie/en/releasesandpublications/ep/p-fss/farmstructuresurvey2016/da/foli/ [viewed 08 December 2019].\n",
    "* Article- Agriland, 2018, ‘Men own 90% of all farmland in Ireland’ – conference told, 03 February 2018, [online] available from: https://www.agriland.ie/farming-news/men-own-90-of-all-farmland-in-ireland-conference-told/ [viewed 08 December 2019].\n",
    "* Article- McCormack C., 2018, Agriland, ‘Herd number obstacles hamper women’s farm business ambitions’, 31 January 2018, [online] available from: https://www.agriland.ie/farming-news/herd-number-obstacles-hamper-womens-farm-business-ambitions/ [viewed 08 December 2019].\n",
    "* Article- Moran C., Irish Independent, 2018, New figures show Ireland has by far the least female farmers in Europe, 03 January 2019, [online] available from: https://www.independent.ie/business/farming/agri-business/new-figures-show-ireland-has-by-far-the-least-female-farmers-in-europe-36451722.html [viewed on 08 December 2019].\n",
    "* Webpage- SciPy.Org, Last updated on Apr 16, 2018, numpy.random.choice [online] available from: https://docs.scipy.org/doc/numpy-1.14.1/reference/generated/numpy.random.choice.html [viewed 08 December 2019].\n",
    "* Blog post - Sharp Sight, June 2019,  HOW TO USE NUMPY RANDOM CHOICE, June 3, 2019 [online] available from: https://www.sharpsightlabs.com/blog/numpy-random-choice/ [viewed 08 December 2019].\n",
    "* Webpage- Pynative, 2019, Python random.choice() function to select random item from a List and Set, 07 December 2019 [online] avilable from: https://pynative.com/python-random-choice/ [viewed on 08 December 2019]."
   ]
  },
  {
   "cell_type": "markdown",
   "metadata": {},
   "source": [
    "### Section 3.5 - Variable 5: Age of Farmholder"
   ]
  },
  {
   "cell_type": "markdown",
   "metadata": {},
   "source": [
    "I expect the result of research in this section to show the majority of farmholders are over the age of 40 and a high proportion of farmholders are over 50. There has been incentives to encourage farmhoders to pass on the land to successors in recent years. This included the National Reserve and Young Farmers Scheme which allowed young farmers under the age of 40 holding a Teagasc level 6 in Agriculture to claim top ups on their basic payment entitlements. In order to claim the top ups the young farmer must have entered into a partnership with a farmholder. Within the partnership this young farmer must have a share in the day to day decision making. Despite this, there seems to be a reluctance from some of the older generation to sign over the land to the younger generation or in some cases there is no successor with the interest in taking over the family farm. \n",
    "\n",
    "Some challenges I see when it comes to succession:\n",
    "\n",
    "* In some cases there isnt a successor to the family farm:\n",
    "\n",
    "    * There may be no relation of the current farmholder with an interest in running the farm.\n",
    "    * What will happen to these farms?\n",
    "    * This can cause a great deal of stress for the current farmholder as they get older. \n",
    "    * Farmers traditionally have a strong attachment to the land and they may worry about what will happen to the land after they are gone. \n",
    "   \n",
    "   \n",
    "* In other cases there is a successor to the family farm but there are still challenges:\n",
    "\n",
    "    * Farming has become less profitable, are younger people willing to work long hours for poor remuneration?\n",
    "    * Rural isolation - are younger people willing to live in rural areas that have become sparsely populated?\n",
    "    * Is farming sustainable into the future? Can people earn an income from agriculture?"
   ]
  },
  {
   "cell_type": "markdown",
   "metadata": {},
   "source": [
    "#### CSO Farm Structure Survey 2016\n",
    "\n",
    "The CSO Farm Structure Survery 2016 gives us an insight into the age profile of farmholders in Ireland:\n",
    "\n",
    "* Of the 137,500 farms in Ireland in 2016, 137,100 (99.7%) were classified as family farms.\n",
    "* More than half of holders were aged 55 or over, while just 5% of farm holders were aged under 35. \n",
    "\n",
    "(CSO Farm Structure Survey, 2016)\n"
   ]
  },
  {
   "cell_type": "markdown",
   "metadata": {},
   "source": [
    "#### CSO Statistical Yearbook of Ireland 2018\n",
    "\n",
    "The Central Statistics Office (CSO) published the Statistical Yearbook of Ireland 2018 on 18 October 2018. This publication aimed to give a representation of Ireland based on statistics gathered by the CSO throughout the year. \n",
    "\n",
    "The publication can be viewed here: https://www.cso.ie/en/releasesandpublications/ep/p-syi/psyi2018/.\n",
    "\n",
    "Within the publication there is a section on Agriculture and fishing: https://www.cso.ie/en/releasesandpublications/ep/p-syi/psyi2018/agri/farmsandfarmers/."
   ]
  },
  {
   "cell_type": "markdown",
   "metadata": {},
   "source": [
    "**According to the Statistical Yearbook of Ireland 2018 the following was the breakdown of farmholders age in Ireland in 2016:**\n",
    "\n",
    "* Under 35: 7,400 farmholdings\n",
    "* 35-44: 21,400 farmholdings\n",
    "* 45-54: 32,500 farmholdings\n",
    "* 55-64: 34,700 farmholdings\n",
    "* 65+: 41,200 farmholdings\n",
    "\n",
    "_\"Agriculture typically has an ageing workforce. In 2016, around a quarter of farm holders in Ireland were aged 65 years and over. Just 5% of people were aged less than 35 years.\"_\n",
    "\n",
    "Source: (CS0), Statistical Yearbook of Ireland 2018 - farms and farmers)"
   ]
  },
  {
   "cell_type": "markdown",
   "metadata": {},
   "source": [
    "#### I will calculate the percentage of land ownership by age category based on the above findings:"
   ]
  },
  {
   "cell_type": "code",
   "execution_count": 18,
   "metadata": {},
   "outputs": [
    {
     "name": "stdout",
     "output_type": "stream",
     "text": [
      "Farmholders under 35 years represented 5.393586005830904 percent of total farmholdings in Ireland\n"
     ]
    }
   ],
   "source": [
    "Under35= 7400/137200*100\n",
    "print(f\"Farmholders under 35 years represented {Under35} percent of total farmholdings in Ireland\")"
   ]
  },
  {
   "cell_type": "code",
   "execution_count": 19,
   "metadata": {},
   "outputs": [
    {
     "name": "stdout",
     "output_type": "stream",
     "text": [
      "Farmholders between the ages of 35 and 44 represented 15.597667638483964 percent of total farmholdings in Ireland\n"
     ]
    }
   ],
   "source": [
    "Over35_Under44= 21400/137200*100\n",
    "print(f\"Farmholders between the ages of 35 and 44 represented {Over35_Under44} percent of total farmholdings in Ireland\")"
   ]
  },
  {
   "cell_type": "code",
   "execution_count": 20,
   "metadata": {},
   "outputs": [
    {
     "name": "stdout",
     "output_type": "stream",
     "text": [
      "Farmholders between the ages of 45 and 54 represented 23.688046647230323 percent of total farmholdings in Ireland\n"
     ]
    }
   ],
   "source": [
    "Over44_Under54= 32500/137200*100\n",
    "print(f\"Farmholders between the ages of 45 and 54 represented {Over44_Under54} percent of total farmholdings in Ireland\")"
   ]
  },
  {
   "cell_type": "code",
   "execution_count": 21,
   "metadata": {},
   "outputs": [
    {
     "name": "stdout",
     "output_type": "stream",
     "text": [
      "Farmholders between the ages of 55 and 64 represented 25.291545189504372 percent of total farmholdings in Ireland\n"
     ]
    }
   ],
   "source": [
    "Over54_Under65= 34700/137200*100\n",
    "print(f\"Farmholders between the ages of 55 and 64 represented {Over54_Under65} percent of total farmholdings in Ireland\")"
   ]
  },
  {
   "cell_type": "code",
   "execution_count": 22,
   "metadata": {},
   "outputs": [
    {
     "name": "stdout",
     "output_type": "stream",
     "text": [
      "Farmholders over the age of 65 represented 30.029154518950435 percent of total farmholdings in Ireland\n"
     ]
    }
   ],
   "source": [
    "Over65= 41200/137200*100\n",
    "print(f\"Farmholders over the age of 65 represented {Over65} percent of total farmholdings in Ireland\")"
   ]
  },
  {
   "cell_type": "markdown",
   "metadata": {},
   "source": [
    "There seems to be a direct relationship between age and number of farmholdings. As you go up through each age bracket there are a higher number of farmholdings than the age bracket below it. "
   ]
  },
  {
   "cell_type": "markdown",
   "metadata": {},
   "source": [
    "#### Data Siumlation of Farmholder Age"
   ]
  },
  {
   "cell_type": "markdown",
   "metadata": {},
   "source": [
    "I will use numpy.random.choice to generate the data for age of farmholder. I will have 5 different age categories and base the probability closely to the outcome of the CSO Statistical Yearbook (2018) findings listed aove."
   ]
  },
  {
   "cell_type": "code",
   "execution_count": 31,
   "metadata": {},
   "outputs": [
    {
     "data": {
      "text/plain": [
       "array(['65 & Over', '55-64', '55-64', '55-64', '65 & Over', '55-64',\n",
       "       '65 & Over', '65 & Over', '45-54', '45-54', '65 & Over', '55-64',\n",
       "       '65 & Over', '65 & Over', '45-54', '45-54', '65 & Over',\n",
       "       '65 & Over', '65 & Over', '55-64', '35 & Under', '65 & Over',\n",
       "       '55-64', '35-44', '55-64', '55-64', '35 & Under', '45-54',\n",
       "       '65 & Over', '65 & Over', '55-64', '45-54', '65 & Over', '45-54',\n",
       "       '35-44', '45-54', '35-44', '65 & Over', '55-64', '65 & Over',\n",
       "       '35 & Under', '45-54', '55-64', '35-44', '65 & Over', '45-54',\n",
       "       '65 & Over', '35-44', '35 & Under', '45-54', '45-54', '55-64',\n",
       "       '45-54', '55-64', '65 & Over', '65 & Over', '55-64', '55-64',\n",
       "       '35-44', '55-64', '45-54', '65 & Over', '55-64', '45-54',\n",
       "       '65 & Over', '65 & Over', '55-64', '35-44', '55-64', '55-64',\n",
       "       '35 & Under', '65 & Over', '35-44', '65 & Over', '65 & Over',\n",
       "       '65 & Over', '65 & Over', '65 & Over', '65 & Over', '65 & Over',\n",
       "       '45-54', '65 & Over', '35-44', '35 & Under', '65 & Over', '55-64',\n",
       "       '45-54', '45-54', '45-54', '65 & Over', '55-64', '55-64',\n",
       "       '65 & Over', '45-54', '65 & Over', '65 & Over', '65 & Over',\n",
       "       '65 & Over', '65 & Over', '45-54', '45-54', '45-54', '65 & Over',\n",
       "       '65 & Over', '65 & Over', '55-64', '35-44', '65 & Over', '35-44',\n",
       "       '65 & Over', '45-54', '65 & Over', '65 & Over', '45-54',\n",
       "       '65 & Over', '65 & Over', '65 & Over', '55-64', '65 & Over',\n",
       "       '55-64', '65 & Over', '65 & Over', '55-64', '45-54', '55-64',\n",
       "       '45-54', '65 & Over', '35-44', '45-54', '55-64', '45-54', '55-64',\n",
       "       '65 & Over', '35-44', '65 & Over', '45-54', '35-44', '55-64',\n",
       "       '55-64', '35-44', '35-44', '35 & Under', '35 & Under', '65 & Over',\n",
       "       '35 & Under', '65 & Over', '55-64', '35-44', '35-44', '45-54',\n",
       "       '45-54', '55-64', '45-54', '65 & Over', '35 & Under', '45-54',\n",
       "       '35-44', '45-54', '65 & Over', '55-64', '45-54', '65 & Over',\n",
       "       '35-44', '35-44', '65 & Over', '35 & Under', '55-64', '45-54',\n",
       "       '65 & Over', '45-54', '45-54', '45-54', '35-44', '65 & Over',\n",
       "       '35-44', '45-54', '55-64', '45-54', '55-64', '65 & Over', '45-54',\n",
       "       '55-64', '45-54', '55-64', '65 & Over', '45-54', '55-64', '35-44',\n",
       "       '65 & Over', '35 & Under', '35 & Under', '35 & Under', '65 & Over',\n",
       "       '45-54', '65 & Over', '65 & Over', '35-44', '45-54', '45-54',\n",
       "       '65 & Over'], dtype='<U10')"
      ]
     },
     "execution_count": 31,
     "metadata": {},
     "output_type": "execute_result"
    }
   ],
   "source": [
    "Age = np.random.choice(['35 & Under', '35-44', '45-54', '55-64', '65 & Over'], size=200, p=[0.06, 0.16, 0.22, 0.27, 0.29])\n",
    "# the probability is set for each of the 5 age categories\n",
    "Age\n",
    "# simulated array of data displayed in output below"
   ]
  },
  {
   "cell_type": "code",
   "execution_count": null,
   "metadata": {},
   "outputs": [],
   "source": [
    "np.count"
   ]
  },
  {
   "cell_type": "markdown",
   "metadata": {},
   "source": [
    "#### Section 3.5: References\n",
    "* Webpage- Central Statistics Office, CSO statistical publication, 23 May 2018, 11am, Farm Structure Survey 2016, [online] available from: https://www.cso.ie/en/releasesandpublications/ep/p-fss/farmstructuresurvey2016/da/foli/ [viewed 08 December 2019].\n",
    "* Webpage- Central Statistics Office, CSO statistical publication, 18 October 2018, 11am, Statistical Yearbook of Ireland 2018, [online] available from: https://www.cso.ie/en/releasesandpublications/ep/p-syi/psyi2018/ [viewed 08 December 2019].\n",
    "* Webpage- Central Statistics Office, CSO statistical publication, 18 October 2018, 11am, Statistical Yearbook of Ireland 2018 - farms and farmers, [online] available from: https://www.cso.ie/en/releasesandpublications/ep/p-syi/psyi2018/agri/farmsandfarmers/ [viewed 08 December 2019].\n"
   ]
  },
  {
   "cell_type": "markdown",
   "metadata": {},
   "source": [
    "### Data simulation as a pandas dataframe:"
   ]
  },
  {
   "cell_type": "code",
   "execution_count": 32,
   "metadata": {},
   "outputs": [
    {
     "data": {
      "text/html": [
       "<div>\n",
       "<style scoped>\n",
       "    .dataframe tbody tr th:only-of-type {\n",
       "        vertical-align: middle;\n",
       "    }\n",
       "\n",
       "    .dataframe tbody tr th {\n",
       "        vertical-align: top;\n",
       "    }\n",
       "\n",
       "    .dataframe thead th {\n",
       "        text-align: right;\n",
       "    }\n",
       "</style>\n",
       "<table border=\"1\" class=\"dataframe\">\n",
       "  <thead>\n",
       "    <tr style=\"text-align: right;\">\n",
       "      <th></th>\n",
       "      <th>Farm Size</th>\n",
       "      <th>Direct Payments</th>\n",
       "      <th>Rate per hectare</th>\n",
       "      <th>Gender</th>\n",
       "      <th>Farmholder Age</th>\n",
       "    </tr>\n",
       "  </thead>\n",
       "  <tbody>\n",
       "    <tr>\n",
       "      <th>0</th>\n",
       "      <td>34.44</td>\n",
       "      <td>9471.00</td>\n",
       "      <td>275</td>\n",
       "      <td>Male</td>\n",
       "      <td>65 &amp; Over</td>\n",
       "    </tr>\n",
       "    <tr>\n",
       "      <th>1</th>\n",
       "      <td>36.56</td>\n",
       "      <td>12613.20</td>\n",
       "      <td>345</td>\n",
       "      <td>Male</td>\n",
       "      <td>55-64</td>\n",
       "    </tr>\n",
       "    <tr>\n",
       "      <th>2</th>\n",
       "      <td>27.21</td>\n",
       "      <td>9278.61</td>\n",
       "      <td>341</td>\n",
       "      <td>Male</td>\n",
       "      <td>55-64</td>\n",
       "    </tr>\n",
       "    <tr>\n",
       "      <th>3</th>\n",
       "      <td>42.74</td>\n",
       "      <td>11625.28</td>\n",
       "      <td>272</td>\n",
       "      <td>Male</td>\n",
       "      <td>55-64</td>\n",
       "    </tr>\n",
       "    <tr>\n",
       "      <th>4</th>\n",
       "      <td>36.82</td>\n",
       "      <td>10567.34</td>\n",
       "      <td>287</td>\n",
       "      <td>Male</td>\n",
       "      <td>65 &amp; Over</td>\n",
       "    </tr>\n",
       "    <tr>\n",
       "      <th>5</th>\n",
       "      <td>38.01</td>\n",
       "      <td>14025.69</td>\n",
       "      <td>369</td>\n",
       "      <td>Male</td>\n",
       "      <td>55-64</td>\n",
       "    </tr>\n",
       "    <tr>\n",
       "      <th>6</th>\n",
       "      <td>28.73</td>\n",
       "      <td>11836.76</td>\n",
       "      <td>412</td>\n",
       "      <td>Male</td>\n",
       "      <td>65 &amp; Over</td>\n",
       "    </tr>\n",
       "    <tr>\n",
       "      <th>7</th>\n",
       "      <td>23.35</td>\n",
       "      <td>7542.05</td>\n",
       "      <td>323</td>\n",
       "      <td>Male</td>\n",
       "      <td>65 &amp; Over</td>\n",
       "    </tr>\n",
       "    <tr>\n",
       "      <th>8</th>\n",
       "      <td>34.33</td>\n",
       "      <td>12564.78</td>\n",
       "      <td>366</td>\n",
       "      <td>Male</td>\n",
       "      <td>45-54</td>\n",
       "    </tr>\n",
       "    <tr>\n",
       "      <th>9</th>\n",
       "      <td>40.45</td>\n",
       "      <td>17150.80</td>\n",
       "      <td>424</td>\n",
       "      <td>Male</td>\n",
       "      <td>45-54</td>\n",
       "    </tr>\n",
       "    <tr>\n",
       "      <th>10</th>\n",
       "      <td>36.98</td>\n",
       "      <td>14570.12</td>\n",
       "      <td>394</td>\n",
       "      <td>Male</td>\n",
       "      <td>65 &amp; Over</td>\n",
       "    </tr>\n",
       "    <tr>\n",
       "      <th>11</th>\n",
       "      <td>11.36</td>\n",
       "      <td>4646.24</td>\n",
       "      <td>409</td>\n",
       "      <td>Male</td>\n",
       "      <td>55-64</td>\n",
       "    </tr>\n",
       "    <tr>\n",
       "      <th>12</th>\n",
       "      <td>9.98</td>\n",
       "      <td>3902.18</td>\n",
       "      <td>391</td>\n",
       "      <td>Male</td>\n",
       "      <td>65 &amp; Over</td>\n",
       "    </tr>\n",
       "    <tr>\n",
       "      <th>13</th>\n",
       "      <td>18.67</td>\n",
       "      <td>5713.02</td>\n",
       "      <td>306</td>\n",
       "      <td>Female</td>\n",
       "      <td>65 &amp; Over</td>\n",
       "    </tr>\n",
       "    <tr>\n",
       "      <th>14</th>\n",
       "      <td>34.33</td>\n",
       "      <td>10985.60</td>\n",
       "      <td>320</td>\n",
       "      <td>Male</td>\n",
       "      <td>45-54</td>\n",
       "    </tr>\n",
       "    <tr>\n",
       "      <th>15</th>\n",
       "      <td>24.31</td>\n",
       "      <td>6442.15</td>\n",
       "      <td>265</td>\n",
       "      <td>Male</td>\n",
       "      <td>45-54</td>\n",
       "    </tr>\n",
       "    <tr>\n",
       "      <th>16</th>\n",
       "      <td>26.87</td>\n",
       "      <td>9216.41</td>\n",
       "      <td>343</td>\n",
       "      <td>Male</td>\n",
       "      <td>65 &amp; Over</td>\n",
       "    </tr>\n",
       "    <tr>\n",
       "      <th>17</th>\n",
       "      <td>16.65</td>\n",
       "      <td>6243.75</td>\n",
       "      <td>375</td>\n",
       "      <td>Male</td>\n",
       "      <td>65 &amp; Over</td>\n",
       "    </tr>\n",
       "    <tr>\n",
       "      <th>18</th>\n",
       "      <td>25.34</td>\n",
       "      <td>10034.64</td>\n",
       "      <td>396</td>\n",
       "      <td>Male</td>\n",
       "      <td>65 &amp; Over</td>\n",
       "    </tr>\n",
       "    <tr>\n",
       "      <th>19</th>\n",
       "      <td>32.38</td>\n",
       "      <td>13243.42</td>\n",
       "      <td>409</td>\n",
       "      <td>Female</td>\n",
       "      <td>55-64</td>\n",
       "    </tr>\n",
       "    <tr>\n",
       "      <th>20</th>\n",
       "      <td>15.33</td>\n",
       "      <td>6469.26</td>\n",
       "      <td>422</td>\n",
       "      <td>Female</td>\n",
       "      <td>35 &amp; Under</td>\n",
       "    </tr>\n",
       "    <tr>\n",
       "      <th>21</th>\n",
       "      <td>35.12</td>\n",
       "      <td>10500.88</td>\n",
       "      <td>299</td>\n",
       "      <td>Male</td>\n",
       "      <td>65 &amp; Over</td>\n",
       "    </tr>\n",
       "    <tr>\n",
       "      <th>22</th>\n",
       "      <td>23.50</td>\n",
       "      <td>6321.50</td>\n",
       "      <td>269</td>\n",
       "      <td>Female</td>\n",
       "      <td>55-64</td>\n",
       "    </tr>\n",
       "    <tr>\n",
       "      <th>23</th>\n",
       "      <td>25.91</td>\n",
       "      <td>10700.83</td>\n",
       "      <td>413</td>\n",
       "      <td>Female</td>\n",
       "      <td>35-44</td>\n",
       "    </tr>\n",
       "    <tr>\n",
       "      <th>24</th>\n",
       "      <td>32.39</td>\n",
       "      <td>10040.90</td>\n",
       "      <td>310</td>\n",
       "      <td>Male</td>\n",
       "      <td>55-64</td>\n",
       "    </tr>\n",
       "    <tr>\n",
       "      <th>25</th>\n",
       "      <td>25.29</td>\n",
       "      <td>10293.03</td>\n",
       "      <td>407</td>\n",
       "      <td>Male</td>\n",
       "      <td>55-64</td>\n",
       "    </tr>\n",
       "    <tr>\n",
       "      <th>26</th>\n",
       "      <td>48.74</td>\n",
       "      <td>19544.74</td>\n",
       "      <td>401</td>\n",
       "      <td>Male</td>\n",
       "      <td>35 &amp; Under</td>\n",
       "    </tr>\n",
       "    <tr>\n",
       "      <th>27</th>\n",
       "      <td>38.05</td>\n",
       "      <td>14877.55</td>\n",
       "      <td>391</td>\n",
       "      <td>Male</td>\n",
       "      <td>45-54</td>\n",
       "    </tr>\n",
       "    <tr>\n",
       "      <th>28</th>\n",
       "      <td>46.78</td>\n",
       "      <td>16326.22</td>\n",
       "      <td>349</td>\n",
       "      <td>Male</td>\n",
       "      <td>65 &amp; Over</td>\n",
       "    </tr>\n",
       "    <tr>\n",
       "      <th>29</th>\n",
       "      <td>23.02</td>\n",
       "      <td>7481.50</td>\n",
       "      <td>325</td>\n",
       "      <td>Male</td>\n",
       "      <td>65 &amp; Over</td>\n",
       "    </tr>\n",
       "    <tr>\n",
       "      <th>...</th>\n",
       "      <td>...</td>\n",
       "      <td>...</td>\n",
       "      <td>...</td>\n",
       "      <td>...</td>\n",
       "      <td>...</td>\n",
       "    </tr>\n",
       "    <tr>\n",
       "      <th>170</th>\n",
       "      <td>25.35</td>\n",
       "      <td>8948.55</td>\n",
       "      <td>353</td>\n",
       "      <td>Female</td>\n",
       "      <td>45-54</td>\n",
       "    </tr>\n",
       "    <tr>\n",
       "      <th>171</th>\n",
       "      <td>41.20</td>\n",
       "      <td>15532.40</td>\n",
       "      <td>377</td>\n",
       "      <td>Male</td>\n",
       "      <td>45-54</td>\n",
       "    </tr>\n",
       "    <tr>\n",
       "      <th>172</th>\n",
       "      <td>49.00</td>\n",
       "      <td>19453.00</td>\n",
       "      <td>397</td>\n",
       "      <td>Female</td>\n",
       "      <td>35-44</td>\n",
       "    </tr>\n",
       "    <tr>\n",
       "      <th>173</th>\n",
       "      <td>26.97</td>\n",
       "      <td>7929.18</td>\n",
       "      <td>294</td>\n",
       "      <td>Male</td>\n",
       "      <td>65 &amp; Over</td>\n",
       "    </tr>\n",
       "    <tr>\n",
       "      <th>174</th>\n",
       "      <td>35.92</td>\n",
       "      <td>10632.32</td>\n",
       "      <td>296</td>\n",
       "      <td>Female</td>\n",
       "      <td>35-44</td>\n",
       "    </tr>\n",
       "    <tr>\n",
       "      <th>175</th>\n",
       "      <td>37.71</td>\n",
       "      <td>14103.54</td>\n",
       "      <td>374</td>\n",
       "      <td>Male</td>\n",
       "      <td>45-54</td>\n",
       "    </tr>\n",
       "    <tr>\n",
       "      <th>176</th>\n",
       "      <td>32.46</td>\n",
       "      <td>11880.36</td>\n",
       "      <td>366</td>\n",
       "      <td>Female</td>\n",
       "      <td>55-64</td>\n",
       "    </tr>\n",
       "    <tr>\n",
       "      <th>177</th>\n",
       "      <td>37.19</td>\n",
       "      <td>11528.90</td>\n",
       "      <td>310</td>\n",
       "      <td>Female</td>\n",
       "      <td>45-54</td>\n",
       "    </tr>\n",
       "    <tr>\n",
       "      <th>178</th>\n",
       "      <td>31.79</td>\n",
       "      <td>10776.81</td>\n",
       "      <td>339</td>\n",
       "      <td>Male</td>\n",
       "      <td>55-64</td>\n",
       "    </tr>\n",
       "    <tr>\n",
       "      <th>179</th>\n",
       "      <td>12.67</td>\n",
       "      <td>4206.44</td>\n",
       "      <td>332</td>\n",
       "      <td>Female</td>\n",
       "      <td>65 &amp; Over</td>\n",
       "    </tr>\n",
       "    <tr>\n",
       "      <th>180</th>\n",
       "      <td>33.97</td>\n",
       "      <td>9205.87</td>\n",
       "      <td>271</td>\n",
       "      <td>Male</td>\n",
       "      <td>45-54</td>\n",
       "    </tr>\n",
       "    <tr>\n",
       "      <th>181</th>\n",
       "      <td>30.87</td>\n",
       "      <td>10927.98</td>\n",
       "      <td>354</td>\n",
       "      <td>Male</td>\n",
       "      <td>55-64</td>\n",
       "    </tr>\n",
       "    <tr>\n",
       "      <th>182</th>\n",
       "      <td>28.29</td>\n",
       "      <td>11655.48</td>\n",
       "      <td>412</td>\n",
       "      <td>Male</td>\n",
       "      <td>45-54</td>\n",
       "    </tr>\n",
       "    <tr>\n",
       "      <th>183</th>\n",
       "      <td>34.42</td>\n",
       "      <td>14353.14</td>\n",
       "      <td>417</td>\n",
       "      <td>Male</td>\n",
       "      <td>55-64</td>\n",
       "    </tr>\n",
       "    <tr>\n",
       "      <th>184</th>\n",
       "      <td>40.68</td>\n",
       "      <td>11105.64</td>\n",
       "      <td>273</td>\n",
       "      <td>Male</td>\n",
       "      <td>65 &amp; Over</td>\n",
       "    </tr>\n",
       "    <tr>\n",
       "      <th>185</th>\n",
       "      <td>29.73</td>\n",
       "      <td>9959.55</td>\n",
       "      <td>335</td>\n",
       "      <td>Male</td>\n",
       "      <td>45-54</td>\n",
       "    </tr>\n",
       "    <tr>\n",
       "      <th>186</th>\n",
       "      <td>38.54</td>\n",
       "      <td>11793.24</td>\n",
       "      <td>306</td>\n",
       "      <td>Male</td>\n",
       "      <td>55-64</td>\n",
       "    </tr>\n",
       "    <tr>\n",
       "      <th>187</th>\n",
       "      <td>41.41</td>\n",
       "      <td>10973.65</td>\n",
       "      <td>265</td>\n",
       "      <td>Male</td>\n",
       "      <td>35-44</td>\n",
       "    </tr>\n",
       "    <tr>\n",
       "      <th>188</th>\n",
       "      <td>30.15</td>\n",
       "      <td>11065.05</td>\n",
       "      <td>367</td>\n",
       "      <td>Female</td>\n",
       "      <td>65 &amp; Over</td>\n",
       "    </tr>\n",
       "    <tr>\n",
       "      <th>189</th>\n",
       "      <td>40.69</td>\n",
       "      <td>14567.02</td>\n",
       "      <td>358</td>\n",
       "      <td>Male</td>\n",
       "      <td>35 &amp; Under</td>\n",
       "    </tr>\n",
       "    <tr>\n",
       "      <th>190</th>\n",
       "      <td>30.29</td>\n",
       "      <td>10601.50</td>\n",
       "      <td>350</td>\n",
       "      <td>Male</td>\n",
       "      <td>35 &amp; Under</td>\n",
       "    </tr>\n",
       "    <tr>\n",
       "      <th>191</th>\n",
       "      <td>3.55</td>\n",
       "      <td>1498.10</td>\n",
       "      <td>422</td>\n",
       "      <td>Male</td>\n",
       "      <td>35 &amp; Under</td>\n",
       "    </tr>\n",
       "    <tr>\n",
       "      <th>192</th>\n",
       "      <td>29.15</td>\n",
       "      <td>8832.45</td>\n",
       "      <td>303</td>\n",
       "      <td>Male</td>\n",
       "      <td>65 &amp; Over</td>\n",
       "    </tr>\n",
       "    <tr>\n",
       "      <th>193</th>\n",
       "      <td>37.70</td>\n",
       "      <td>14024.40</td>\n",
       "      <td>372</td>\n",
       "      <td>Female</td>\n",
       "      <td>45-54</td>\n",
       "    </tr>\n",
       "    <tr>\n",
       "      <th>194</th>\n",
       "      <td>43.84</td>\n",
       "      <td>12450.56</td>\n",
       "      <td>284</td>\n",
       "      <td>Male</td>\n",
       "      <td>65 &amp; Over</td>\n",
       "    </tr>\n",
       "    <tr>\n",
       "      <th>195</th>\n",
       "      <td>36.49</td>\n",
       "      <td>10655.08</td>\n",
       "      <td>292</td>\n",
       "      <td>Male</td>\n",
       "      <td>65 &amp; Over</td>\n",
       "    </tr>\n",
       "    <tr>\n",
       "      <th>196</th>\n",
       "      <td>33.38</td>\n",
       "      <td>10147.52</td>\n",
       "      <td>304</td>\n",
       "      <td>Male</td>\n",
       "      <td>35-44</td>\n",
       "    </tr>\n",
       "    <tr>\n",
       "      <th>197</th>\n",
       "      <td>22.57</td>\n",
       "      <td>7132.12</td>\n",
       "      <td>316</td>\n",
       "      <td>Male</td>\n",
       "      <td>45-54</td>\n",
       "    </tr>\n",
       "    <tr>\n",
       "      <th>198</th>\n",
       "      <td>39.88</td>\n",
       "      <td>12283.04</td>\n",
       "      <td>308</td>\n",
       "      <td>Male</td>\n",
       "      <td>45-54</td>\n",
       "    </tr>\n",
       "    <tr>\n",
       "      <th>199</th>\n",
       "      <td>37.92</td>\n",
       "      <td>15092.16</td>\n",
       "      <td>398</td>\n",
       "      <td>Male</td>\n",
       "      <td>65 &amp; Over</td>\n",
       "    </tr>\n",
       "  </tbody>\n",
       "</table>\n",
       "<p>200 rows × 5 columns</p>\n",
       "</div>"
      ],
      "text/plain": [
       "     Farm Size  Direct Payments  Rate per hectare  Gender Farmholder Age\n",
       "0        34.44          9471.00               275    Male      65 & Over\n",
       "1        36.56         12613.20               345    Male          55-64\n",
       "2        27.21          9278.61               341    Male          55-64\n",
       "3        42.74         11625.28               272    Male          55-64\n",
       "4        36.82         10567.34               287    Male      65 & Over\n",
       "5        38.01         14025.69               369    Male          55-64\n",
       "6        28.73         11836.76               412    Male      65 & Over\n",
       "7        23.35          7542.05               323    Male      65 & Over\n",
       "8        34.33         12564.78               366    Male          45-54\n",
       "9        40.45         17150.80               424    Male          45-54\n",
       "10       36.98         14570.12               394    Male      65 & Over\n",
       "11       11.36          4646.24               409    Male          55-64\n",
       "12        9.98          3902.18               391    Male      65 & Over\n",
       "13       18.67          5713.02               306  Female      65 & Over\n",
       "14       34.33         10985.60               320    Male          45-54\n",
       "15       24.31          6442.15               265    Male          45-54\n",
       "16       26.87          9216.41               343    Male      65 & Over\n",
       "17       16.65          6243.75               375    Male      65 & Over\n",
       "18       25.34         10034.64               396    Male      65 & Over\n",
       "19       32.38         13243.42               409  Female          55-64\n",
       "20       15.33          6469.26               422  Female     35 & Under\n",
       "21       35.12         10500.88               299    Male      65 & Over\n",
       "22       23.50          6321.50               269  Female          55-64\n",
       "23       25.91         10700.83               413  Female          35-44\n",
       "24       32.39         10040.90               310    Male          55-64\n",
       "25       25.29         10293.03               407    Male          55-64\n",
       "26       48.74         19544.74               401    Male     35 & Under\n",
       "27       38.05         14877.55               391    Male          45-54\n",
       "28       46.78         16326.22               349    Male      65 & Over\n",
       "29       23.02          7481.50               325    Male      65 & Over\n",
       "..         ...              ...               ...     ...            ...\n",
       "170      25.35          8948.55               353  Female          45-54\n",
       "171      41.20         15532.40               377    Male          45-54\n",
       "172      49.00         19453.00               397  Female          35-44\n",
       "173      26.97          7929.18               294    Male      65 & Over\n",
       "174      35.92         10632.32               296  Female          35-44\n",
       "175      37.71         14103.54               374    Male          45-54\n",
       "176      32.46         11880.36               366  Female          55-64\n",
       "177      37.19         11528.90               310  Female          45-54\n",
       "178      31.79         10776.81               339    Male          55-64\n",
       "179      12.67          4206.44               332  Female      65 & Over\n",
       "180      33.97          9205.87               271    Male          45-54\n",
       "181      30.87         10927.98               354    Male          55-64\n",
       "182      28.29         11655.48               412    Male          45-54\n",
       "183      34.42         14353.14               417    Male          55-64\n",
       "184      40.68         11105.64               273    Male      65 & Over\n",
       "185      29.73          9959.55               335    Male          45-54\n",
       "186      38.54         11793.24               306    Male          55-64\n",
       "187      41.41         10973.65               265    Male          35-44\n",
       "188      30.15         11065.05               367  Female      65 & Over\n",
       "189      40.69         14567.02               358    Male     35 & Under\n",
       "190      30.29         10601.50               350    Male     35 & Under\n",
       "191       3.55          1498.10               422    Male     35 & Under\n",
       "192      29.15          8832.45               303    Male      65 & Over\n",
       "193      37.70         14024.40               372  Female          45-54\n",
       "194      43.84         12450.56               284    Male      65 & Over\n",
       "195      36.49         10655.08               292    Male      65 & Over\n",
       "196      33.38         10147.52               304    Male          35-44\n",
       "197      22.57          7132.12               316    Male          45-54\n",
       "198      39.88         12283.04               308    Male          45-54\n",
       "199      37.92         15092.16               398    Male      65 & Over\n",
       "\n",
       "[200 rows x 5 columns]"
      ]
     },
     "execution_count": 32,
     "metadata": {},
     "output_type": "execute_result"
    }
   ],
   "source": [
    "df = pd.DataFrame(data={\"Farm Size\": farm_size, \"Direct Payments\": direct_payment.round(2), \"Rate per hectare\": Rate, \"Gender\": Gender, \"Farmholder Age\": Age})\n",
    "df"
   ]
  },
  {
   "cell_type": "code",
   "execution_count": 33,
   "metadata": {},
   "outputs": [
    {
     "data": {
      "text/html": [
       "<div>\n",
       "<style scoped>\n",
       "    .dataframe tbody tr th:only-of-type {\n",
       "        vertical-align: middle;\n",
       "    }\n",
       "\n",
       "    .dataframe tbody tr th {\n",
       "        vertical-align: top;\n",
       "    }\n",
       "\n",
       "    .dataframe thead th {\n",
       "        text-align: right;\n",
       "    }\n",
       "</style>\n",
       "<table border=\"1\" class=\"dataframe\">\n",
       "  <thead>\n",
       "    <tr style=\"text-align: right;\">\n",
       "      <th></th>\n",
       "      <th>Farm Size</th>\n",
       "      <th>Direct Payments</th>\n",
       "      <th>Rate per hectare</th>\n",
       "      <th>Gender</th>\n",
       "    </tr>\n",
       "    <tr>\n",
       "      <th>Farmholder Age</th>\n",
       "      <th></th>\n",
       "      <th></th>\n",
       "      <th></th>\n",
       "      <th></th>\n",
       "    </tr>\n",
       "  </thead>\n",
       "  <tbody>\n",
       "    <tr>\n",
       "      <th>35 &amp; Under</th>\n",
       "      <td>14</td>\n",
       "      <td>14</td>\n",
       "      <td>14</td>\n",
       "      <td>14</td>\n",
       "    </tr>\n",
       "    <tr>\n",
       "      <th>35-44</th>\n",
       "      <td>25</td>\n",
       "      <td>25</td>\n",
       "      <td>25</td>\n",
       "      <td>25</td>\n",
       "    </tr>\n",
       "    <tr>\n",
       "      <th>45-54</th>\n",
       "      <td>48</td>\n",
       "      <td>48</td>\n",
       "      <td>48</td>\n",
       "      <td>48</td>\n",
       "    </tr>\n",
       "    <tr>\n",
       "      <th>55-64</th>\n",
       "      <td>42</td>\n",
       "      <td>42</td>\n",
       "      <td>42</td>\n",
       "      <td>42</td>\n",
       "    </tr>\n",
       "    <tr>\n",
       "      <th>65 &amp; Over</th>\n",
       "      <td>71</td>\n",
       "      <td>71</td>\n",
       "      <td>71</td>\n",
       "      <td>71</td>\n",
       "    </tr>\n",
       "  </tbody>\n",
       "</table>\n",
       "</div>"
      ],
      "text/plain": [
       "                Farm Size  Direct Payments  Rate per hectare  Gender\n",
       "Farmholder Age                                                      \n",
       "35 & Under             14               14                14      14\n",
       "35-44                  25               25                25      25\n",
       "45-54                  48               48                48      48\n",
       "55-64                  42               42                42      42\n",
       "65 & Over              71               71                71      71"
      ]
     },
     "execution_count": 33,
     "metadata": {},
     "output_type": "execute_result"
    }
   ],
   "source": [
    "df.groupby('Farmholder Age').count()"
   ]
  },
  {
   "cell_type": "code",
   "execution_count": null,
   "metadata": {},
   "outputs": [],
   "source": []
  },
  {
   "cell_type": "code",
   "execution_count": null,
   "metadata": {},
   "outputs": [],
   "source": []
  }
 ],
 "metadata": {
  "kernelspec": {
   "display_name": "Python 3",
   "language": "python",
   "name": "python3"
  },
  "language_info": {
   "codemirror_mode": {
    "name": "ipython",
    "version": 3
   },
   "file_extension": ".py",
   "mimetype": "text/x-python",
   "name": "python",
   "nbconvert_exporter": "python",
   "pygments_lexer": "ipython3",
   "version": "3.7.1"
  }
 },
 "nbformat": 4,
 "nbformat_minor": 2
}
