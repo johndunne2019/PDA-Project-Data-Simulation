{
 "cells": [
  {
   "cell_type": "markdown",
   "metadata": {},
   "source": [
    "# Programming for Data Analysis"
   ]
  },
  {
   "cell_type": "markdown",
   "metadata": {},
   "source": [
    "## Project 2019"
   ]
  },
  {
   "cell_type": "markdown",
   "metadata": {},
   "source": [
    "## Problem statement\n",
    "For this project you must create a data set by simulating a real-world phenomenon of\n",
    "your choosing. You may pick any phenomenon you wish – you might pick one that is\n",
    "of interest to you in your personal or professional life. Then, rather than collect data\n",
    "related to the phenomenon, you should model and synthesise such data using Python.\n",
    "We suggest you use the numpy.random package for this purpose.\n",
    "\n",
    "Specifically, in this project you should:\n",
    "\n",
    "• Choose a real-world phenomenon that can be measured and for which you could\n",
    "collect at least one-hundred data points across at least four different variables.\n",
    "\n",
    "• Investigate the types of variables involved, their likely distributions, and their\n",
    "relationships with each other.\n",
    "\n",
    "• Synthesise/simulate a data set as closely matching their properties as possible.\n",
    "\n",
    "• Detail your research and implement the simulation in a Jupyter notebook – the\n",
    "data set itself can simply be displayed in an output cell within the notebook."
   ]
  },
  {
   "cell_type": "markdown",
   "metadata": {},
   "source": [
    "## Project Plan"
   ]
  },
  {
   "cell_type": "markdown",
   "metadata": {},
   "source": [
    "**The following are the steps I will take:**\n",
    "* Investigate possible real-world phenomenons to use to create a data set. \n",
    "* When I have identified a real-world phenomenon of interest to me I will research in order to pick the variables that are of most interest to me.\n",
    "* I will ensure that at least 100 data points across at least 4 variables could be collected when dealing this real-world phenomenon \n",
    "* When I have picked the variables I would like to synthesise in the data set simulation I will research the properties of these varibales, their likely distributions and their relationships with each other.\n",
    "* Use numpy.random to synthesise a data set matching these properties that I have identified as closely as possible. \n",
    "* Detail the research in this jupyter notebook and display the simulated data in an output cell within this notebook. "
   ]
  },
  {
   "cell_type": "markdown",
   "metadata": {},
   "source": [
    "## Table of Contents\n",
    "\n",
    "* Section 1 - Introduction to Data Simulation\n",
    "* Section 2 - Investigation\n",
    "* Section 3 -Variables in my data set"
   ]
  },
  {
   "cell_type": "markdown",
   "metadata": {},
   "source": [
    "## Section 1 - Introduction to Data Simulation\n",
    "\n",
    "\n",
    "\n",
    "\n",
    "### Data Simulation with numpy.random\n",
    "\n",
    "The official documentation of numpy.random is here: https://docs.scipy.org/doc/numpy-1.16.0/reference/routines.random.html where you can read about all the different functions of numpy.random that are available to be used in data analysis.\n",
    "\n",
    "numpy.random is a sub package of the NumPy package within the Python library that has many functions within it that can be used to generate random numbers. As we discovered in the lectures computers do not have the ability to generate random numbers on their own and so we can use packages such as numpy.random to do this.\n",
    "\n",
    "The overall purpose of the package is to generate random numbers. Within the numpy.random package there are many functions. The full list of functions from the official numpy.random documentation page: https://docs.scipy.org/doc/numpy-1.16.0/reference/routines.random.html#simple-random-data\n",
    "\n",
    "**Within the numpy.random package there are 4 different sections:**\n",
    "\n",
    "* **Simple Random Data**\n",
    "    * Simple Random Data is essentially used to generate random numbers. Within the Simple random data there are a number of different functions that can be used to generate random numbers and each function returns results from different distributions, these include uniform distribution, standard normal distribution and continuous uniform distribution.\n",
    "    \n",
    "* **Permutations**\n",
    "    * Within Permutations there are 2 functions shuffle and permutation.The shuffle function is used to shuffle the contents of an array. In other words change the order of an array of numbers. The permutation function randomly permutes a range when given a single argument. So for example if the user enters the argument 15 in numpy.random.permutation a range of 0:14 is permuted in a random order.\n",
    "    \n",
    "* **Distributions**\n",
    "    * A probability distribution shows the relationship between a random variable and each possible outsome for that random variable.\n",
    "    \n",
    "* **Random Generator**\n",
    "    * Truly random numbers are nondeterministic, meaning they cannot be pre determined and are essentially completely random. However, machines are deterministic and they cannot therefore generate true random nondeterministic numbers. Pseudo Random Number Generator(PRNG) is an algorithm used to generate sequences of random numbers. \n"
   ]
  },
  {
   "cell_type": "markdown",
   "metadata": {},
   "source": [
    "#### Section 1 References\n",
    "* Official numpy documentation: https://numpy.org/\n",
    "* Official NumPy tutorial: https://numpy.org/devdocs/user/quickstart.html\n",
    "* What is NumPy: https://docs.scipy.org/doc/numpy-1.13.0/user/whatisnumpy.html\n",
    "* Learn NumPy in 5 minutes tutorial: https://www.youtube.com/watch?v=xECXZ3tyONo\n",
    "* Complete Python NumPy tutorial: https://www.youtube.com/watch?v=GB9ByFAIAH4\n",
    "* NumPy Python image: https://i2.wp.com/www.simplifiedpython.net/wp-content/uploads/2018/11/Python-NumPy-14.png?resize=595%2C233&ssl=1\n",
    "* numpy.random.permutation: https://docs.scipy.org/doc/numpy-1.16.0/reference/generated/numpy.random.permutation.html#numpy.random.permutation\n",
    "* There is a good explanation of the difference between numpy.random.shuffle and numpy.random.permutation here: https://stackoverflow.com/questions/15474159/shuffle-vs-permute-numpy\n",
    "* numpy.random.permutation: https://docs.w3cub.com/numpy~1.14/generated/numpy.random.permutation/\n",
    "* Pseudo Random Number Generator (PRNG)- https://www.geeksforgeeks.org/pseudo-random-number-generator-prng/\n",
    "* Introduction to Randomness and Random Numbers: https://www.random.org/randomness/\n",
    "* What does numpy.random.seed do: https://stackoverflow.com/questions/21494489/what-does-numpy-random-seed0-do\n",
    "* Khan Academy: https://www.khanacademy.org/computing/computer-science/cryptography/crypt/v/random-vs-pseudorandom-number-generators\n",
    "* Random data generation in Python: https://realpython.com/lessons/random-data-generation-python/"
   ]
  },
  {
   "cell_type": "markdown",
   "metadata": {},
   "source": [
    "## Section 2- Investigation"
   ]
  },
  {
   "cell_type": "markdown",
   "metadata": {},
   "source": [
    "#### **I first must identify a real-world phenomenon of interest to me that would be suitable for the purposes of this project.**\n",
    "\n",
    "As I am from a farming background and I have an interest in agriculture I am going to investigate if there are any interesting phenomenons that I could work with in this area.\n",
    "\n",
    "#### **The Irish Agri-Food Industry**\n",
    "\n",
    "The below statement from the Teagasc website shows the importance of agriculture to the Irish Economy:\n",
    "\n",
    "_\"The agri-food sector in Ireland in 2016 generated 7% of gross value added (€13.9 billion), 9.8% of Ireland’s merchandise exports and provided 8.5% of national employment. When employment in inputs, processing and marketing is included, the agri-food sector accounts for almost 10% of employment.\"_\n",
    "\n",
    "Source: https://www.teagasc.ie/rural-economy/rural-economy/agri-food-business/agriculture-in-ireland/"
   ]
  },
  {
   "cell_type": "markdown",
   "metadata": {},
   "source": [
    "**The below graphic from the Department of Agriculture, Food and the Marine website shows the composition of Irish agri food exports in 2010:**\n",
    "![exports.png](https://www.agriculture.gov.ie/media/migration/customerservice/reviewandoutlook2011/thefoodindustry/Figure5.12.gif)\n",
    "\n",
    "Source: https://www.agriculture.gov.ie/publications/2011/annualreviewandoutlookforagriculturefisheriesandfood20102011/thefoodindustry/exportsoffoodanddrink/\n"
   ]
  },
  {
   "cell_type": "markdown",
   "metadata": {},
   "source": [
    "I would be interested in some of the statistics surrounding the average income of farmers, farm size and the average age of farmers. \n",
    "\n",
    "These statistics are of particular importance now more than ever as there are serious threats to the future of farming.  In Ireland the small family farm is the dominant type of holding in contrast to a lot of other countries where the industrial scale farms are more commonplace. Examples include America, Australia and New Zealand. \n",
    "\n",
    "#### **Threats to the future of small farming in Ireland that I have identified:**\n",
    "\n",
    "* Beef prices at an all time low. \n",
    "* Rising costs and falling income level.\n",
    "* Brexit uncertainty -\n",
    "   * Will Brexit affect trade with UK?\n",
    "   * Will European Union direct payments decrease if the UK leave the European Union?\n",
    "* Are younger people willing to carry on the small farmily farm tradition working long hours for litter remuneration?\n",
    "* Has the abolition of milk quotas and the rapid expansion of the dairy herd in Ireland over the past number of years caused us to go into over production and possibly damage our ability to market our produce?\n",
    "* Climate change - has the image of agriculture been damaged?\n",
    "* Veganism and the move away from eating meat - has this caused long term damage to beef sector?\n",
    "* The age of farmholders is increasing all the time and a high proportion of these do not have a successor to take over the farm. What will happen to these farms?\n",
    "\n",
    "**Farm Succession:**\n",
    "\n",
    "I attended a young farmers meeting in Teagasc, Co. Cavan recently and the results of a recent survey were quoted to those in attendance. 43% of farmers surveyed said they have a son or daughter interested in succeeding them in running the family farm but that they would prefer they take a different career path as they do not see farming as a viable option for the future. I found this statistic to be quite scary. \n",
    "\n",
    "**Brexit:**\n",
    "\n",
    "I found an interesting presentation online prepared by the Chief Economist at the Department of Agriculture, Food and The Marine entitled \"Brexit and the Irish Agri-Food Sector:\n",
    "https://igees.gov.ie/wp-content/uploads/2017/06/3-Irish-Agri-Food-Sector-Sin%C3%A9ad-McPhilips-Department-of-Agriculture-Food-and-the-Marine..pdf. One interesting statistic from reading the presentation - in 2016 the UK accounted for 39% of Agri-Food exports from Ireland.\n",
    "\n",
    "**Beef:**\n",
    "\n",
    "The importance of the beef sector within the Irish Agri-Food sector and the current state of the beef market are a concern. According to the Teagasc website:\n",
    "\n",
    "_\"Ireland in 2016 net exports of beef accounted for 85% of production, making Ireland the largest beef net exporter in the EU and fifth largest in the world.\"_\n",
    "\n",
    "Source: https://www.teagasc.ie/rural-economy/rural-economy/agri-food-business/agriculture-in-ireland/\n",
    "\n",
    "Maybe by the end of this project I will have identified even more threats or I will have learnt more about some of the threats I have identified above."
   ]
  },
  {
   "cell_type": "markdown",
   "metadata": {},
   "source": [
    "#### Time to Research\n",
    "\n",
    "My first port of call is the Central Statistics Office website Agriculture section- https://www.cso.ie/en/statistics/agriculture/ where I will conduct some research.\n",
    "\n",
    "Looking at the farm structure survey 2016 on the CSO website I can see some interesting statistics are captured in this area: https://www.cso.ie/en/statistics/agriculture/.\n",
    "\n",
    "Questions I have looking at these statistics:\n",
    "\n",
    "* Are there many females involved in agriculture?\n",
    "* Are there many young people involved in agriculture?\n",
    "* What is the average farm size in Ireland today?\n",
    "* What is the average income of farmers in Ireland today?\n",
    "* What is the averafe age of farmers in Ireland today?\n",
    "* How many hours per week do farmers work on average?\n",
    "* How many unpaid hours per week does the average farmer work in a week?\n",
    "* What is the average direct payment amount received by farmers from the EU?\n",
    "* Is there a relationship between income level and farm size?\n",
    "* Is there a relationship between farm size and hours per week worked?\n",
    "* Is there a relationship between direct payment amounts and farm size?\n",
    "* I cannot answer all of these questions but I will continue the research and see is anything interetsing comes up."
   ]
  },
  {
   "cell_type": "markdown",
   "metadata": {},
   "source": [
    "**The below image is a summary of the main findings of the Farm Structure Survey 2016:**\n",
    "\n",
    "![survey.png](https://pbs.twimg.com/media/DjlXwhUWwAE_2xM.jpg)\n",
    "\n",
    "Source: https://www.cso.ie/en/releasesandpublications/ep/p-fss/farmstructuresurvey2016/"
   ]
  },
  {
   "cell_type": "markdown",
   "metadata": {},
   "source": [
    "#### **Farm Structure Survey 2016 - key statistics:**\n",
    "* 88% of the 137,500 farms are owned by males.\n",
    "* 30% of farmholders are over the age of 65.\n",
    "* Only 5% of farms are held by people under the age of 35.\n",
    "* The average farm size is 32.4 hectares."
   ]
  },
  {
   "cell_type": "markdown",
   "metadata": {},
   "source": [
    "#### **Some interesting statistics listed in the Farm Structure Survey 2016 Key findings section: https://www.cso.ie/en/releasesandpublications/ep/p-fss/farmstructuresurvey2016/kf/**\n",
    "\n",
    "* In 2016 there were 137,500 farms in Ireland. More than half (52.7%) of all farms were located in the Border, Midland and Western (BMW) region.\n",
    "* The average farm was 32.4 hectares.\n",
    "* Farms in the Southern and Eastern (SE) region were 41.3% larger than those in the BMW region, with an average farm size of 38.3 hectares compared to 27.1 hectares.\n",
    "* Almost one in five of all farms (18.0%) were 50 hectares or more in size while just over two in five farms (43.4%) had less than 20 hectares.\n",
    "* Specialist Beef production continued to be the most common farm type or activity, accounting for over half of all farms in 2016 (78,300).\n",
    "* Average Standard Output per farm was €45,855 in 2016. Standard output is the average monetary value of agricultural output at farm-gate prices.\n",
    "\n",
    "\n",
    "**Standard Output (SO)**\n",
    "\n",
    "The below explanation is given in the background notes & appendices section of the Farm Structure Survey:\n",
    "\n",
    "_\"The Standard Output (SO) of an agricultural product is defined as the average monetary value of the agricultural output at farm-gate prices. The SO does not take into account costs, direct payments, value added tax or taxes on products.\"_\n",
    "\n",
    "Source: https://www.cso.ie/en/releasesandpublications/ep/p-fss/farmstructuresurvey2016/bgna/"
   ]
  },
  {
   "cell_type": "markdown",
   "metadata": {},
   "source": [
    "**The below graphic sourced from the Teagasc website shows the composition of employment in the Irish Agri-Food Sector in 2017:**\n",
    "\n",
    "![Employmen.png](https://www.teagasc.ie/media/website/rural-economy/rural-economy/composition-of-employment-in-agrifood-sector-2016-598x357.PNG)\n",
    "\n",
    "Source: https://www.teagasc.ie/rural-economy/rural-economy/agri-food-business/agriculture-in-ireland/\n"
   ]
  },
  {
   "cell_type": "code",
   "execution_count": null,
   "metadata": {},
   "outputs": [],
   "source": []
  },
  {
   "cell_type": "code",
   "execution_count": null,
   "metadata": {},
   "outputs": [],
   "source": []
  },
  {
   "cell_type": "code",
   "execution_count": null,
   "metadata": {},
   "outputs": [],
   "source": []
  },
  {
   "cell_type": "markdown",
   "metadata": {},
   "source": [
    "#### Section 2 - References\n",
    "* CSO Agriculture section: https://www.cso.ie/en/statistics/agriculture/ \n",
    "* CSO Farm Structure Survey 2016: https://www.cso.ie/en/releasesandpublications/ep/p-fss/farmstructuresurvey2016/\n",
    "* Farm Structure Survey 2016 Key Findings: https://www.cso.ie/en/releasesandpublications/ep/p-fss/farmstructuresurvey2016/kf/\n",
    "* Background notes on the collection of data for the Farm Structure Survey 2016: https://www.cso.ie/en/releasesandpublications/ep/p-fss/farmstructuresurvey2016/bgna/\n",
    "* Representation in Ireland: https://ec.europa.eu/ireland/news/key-eu-policy-areas/agriculture_en\n",
    "* Farm Structure Survey 2013: https://www.cso.ie/en/releasesandpublications/ep/p-fss/farmstructuresurvey2013/detailedanalysis/farmstructure/\n",
    "* Agriculture in Ireland: https://www.teagasc.ie/rural-economy/rural-economy/agri-food-business/agriculture-in-ireland/\n",
    "* Teagasc national farm survey: The sustainability of small farming in Ireland: https://www.teagasc.ie/media/website/publications/2017/Small-Farms-Survey.pdf\n",
    "* Brexit and the Irish Agri-Food Sector: https://igees.gov.ie/wp-content/uploads/2017/06/3-Irish-Agri-Food-Sector-Sin%C3%A9ad-McPhilips-Department-of-Agriculture-Food-and-the-Marine..pdf"
   ]
  },
  {
   "cell_type": "markdown",
   "metadata": {},
   "source": [
    "## Section 3 - Variables in my data set"
   ]
  },
  {
   "cell_type": "markdown",
   "metadata": {},
   "source": [
    "#### Section 3.1 - Farm Size"
   ]
  },
  {
   "cell_type": "markdown",
   "metadata": {},
   "source": [
    "The first variable I am interested in farm size. I believe this to be the most interesting variable and one that I think has an impact on the performance of the farm, direct payment amounts, output, hours worked etc. Before completing any research I would expect larger farms, to have higher output, more labour hours and higher direct payments. Let's see if my assumption is correct.\n",
    "\n",
    "I am now going to investigate farm sizes in Ireland, can I find the mean farm size, the distribution of farm sizes etc. \n",
    "\n",
    "My initial search shows up the following sources that look good:\n",
    "* Representation in Ireland: https://ec.europa.eu/ireland/news/key-eu-policy-areas/agriculture_en\n",
    "* Farm Structure Survey 2013: https://www.cso.ie/en/releasesandpublications/ep/p-fss/farmstructuresurvey2013/detailedanalysis/farmstructure/\n",
    "* Agriculture in Ireland: https://www.teagasc.ie/rural-economy/rural-economy/agri-food-business/agriculture-in-ireland/\n",
    "* Teagasc national farm survey: The sustainability of small farming in Ireland: https://www.teagasc.ie/media/website/publications/2017/Small-Farms-Survey.pdf"
   ]
  },
  {
   "cell_type": "code",
   "execution_count": 1,
   "metadata": {},
   "outputs": [],
   "source": [
    "%matplotlib inline\n",
    "# This command is used to show the interactive matplotlib plots in this notebook\n",
    "import numpy as np\n",
    "# numpy imported and given the shortened name np\n",
    "import matplotlib.pyplot as plt\n",
    "# matplotlib.pyplot imported and given the shortened name plt\n",
    "plt.rcParams['figure.figsize'] = (10, 8)\n",
    "# This command increases the size of the plot size from pyplot\n",
    "import pandas as pd\n",
    "# pandas imported and given the shortened name pd"
   ]
  },
  {
   "cell_type": "code",
   "execution_count": 2,
   "metadata": {},
   "outputs": [
    {
     "data": {
      "text/plain": [
       "array([30.44, 36.81, 30.89, 30.06, 30.8 , 34.07, 36.64, 34.82, 33.94,\n",
       "       26.55, 28.91, 31.74, 35.17, 36.15, 36.32, 39.43, 27.47, 27.53,\n",
       "       24.58, 34.01, 38.82, 35.66, 28.54, 35.17, 40.15, 27.69, 33.75,\n",
       "       27.55, 29.16, 32.41, 33.39, 34.06, 34.02, 30.48, 26.53, 31.3 ,\n",
       "       33.59, 28.9 , 32.33, 29.  , 39.18, 34.22, 31.27, 32.22, 33.8 ,\n",
       "       30.54, 31.8 , 29.4 , 30.6 , 26.84, 28.73, 30.68, 34.29, 29.83,\n",
       "       35.02, 33.67, 34.27, 28.55, 27.68, 29.77, 33.97, 32.76, 26.05,\n",
       "       31.46, 28.27, 29.31, 28.12, 34.11, 37.24, 31.58, 28.8 , 34.61,\n",
       "       32.  , 34.32, 30.01, 31.79, 38.59, 36.67, 35.94, 39.21, 27.4 ,\n",
       "       33.89, 29.21, 35.5 , 36.24, 33.24, 30.2 , 41.36, 25.97, 29.06,\n",
       "       32.46, 26.36, 33.3 , 34.51, 29.37, 24.49, 26.72, 36.  , 30.23,\n",
       "       36.2 , 31.57, 39.18, 32.71, 30.76, 36.21, 42.46, 26.37, 32.67,\n",
       "       29.92, 32.36, 36.63, 37.63, 39.69, 33.06, 29.36, 30.15, 27.67,\n",
       "       36.85, 34.57, 36.29, 33.69, 39.39, 33.27, 31.75, 38.15, 34.43,\n",
       "       29.97, 37.39, 35.93, 33.9 , 28.12, 31.51, 28.69, 36.5 , 35.25,\n",
       "       28.56, 29.36, 31.89, 41.37, 30.72, 42.08, 32.18, 27.83, 30.73,\n",
       "       32.  , 31.01, 29.91, 27.64, 35.  , 28.  , 30.45, 35.79, 36.2 ,\n",
       "       37.43, 32.86, 34.85, 24.17, 32.63, 24.9 , 31.16, 33.91, 41.9 ,\n",
       "       31.56, 35.9 , 34.43, 32.44, 38.93, 31.47, 28.75, 33.29, 33.62,\n",
       "       31.06, 32.09, 26.2 , 40.41, 30.88, 32.87, 31.51, 30.9 , 30.4 ,\n",
       "       31.63, 32.33, 37.86, 25.55, 30.36, 33.14, 31.44, 40.05, 23.92,\n",
       "       31.87, 35.21, 31.88, 38.63, 41.24, 37.67, 30.64, 38.12, 29.8 ,\n",
       "       42.73, 39.04])"
      ]
     },
     "execution_count": 2,
     "metadata": {},
     "output_type": "execute_result"
    }
   ],
   "source": [
    "farm_size = np.random.normal(32.4, 4.2, 200).round(2)\n",
    "# normal distribution\n",
    "# mean set to 32.4 hectares\n",
    "# standard deviation set to 4.2 hectares\n",
    "# 200 samples are generated\n",
    "# round(2) to round the result to 2 decimal places\n",
    "farm_size"
   ]
  },
  {
   "cell_type": "code",
   "execution_count": 3,
   "metadata": {},
   "outputs": [
    {
     "name": "stdout",
     "output_type": "stream",
     "text": [
      "The average farm size in hectares:\n",
      "32.68\n"
     ]
    }
   ],
   "source": [
    "print(\"The average farm size in hectares:\")\n",
    "print(np.mean(farm_size).round(2))"
   ]
  },
  {
   "cell_type": "code",
   "execution_count": 4,
   "metadata": {},
   "outputs": [
    {
     "name": "stdout",
     "output_type": "stream",
     "text": [
      "The smallest farm size in hectares\n",
      "23.92\n"
     ]
    }
   ],
   "source": [
    "print(\"The smallest farm size in hectares\")\n",
    "print(np.min(farm_size).round(2))"
   ]
  },
  {
   "cell_type": "code",
   "execution_count": 5,
   "metadata": {},
   "outputs": [
    {
     "name": "stdout",
     "output_type": "stream",
     "text": [
      "The largest farm size in hectares\n",
      "42.73\n"
     ]
    }
   ],
   "source": [
    "print(\"The largest farm size in hectares\")\n",
    "print(np.max(farm_size).round(2))"
   ]
  },
  {
   "cell_type": "code",
   "execution_count": 6,
   "metadata": {},
   "outputs": [
    {
     "data": {
      "text/plain": [
       "(array([ 6., 16., 24., 33., 38., 32., 22., 12., 10.,  7.]),\n",
       " array([23.92 , 25.801, 27.682, 29.563, 31.444, 33.325, 35.206, 37.087,\n",
       "        38.968, 40.849, 42.73 ]),\n",
       " <a list of 10 Patch objects>)"
      ]
     },
     "execution_count": 6,
     "metadata": {},
     "output_type": "execute_result"
    },
    {
     "data": {
      "image/png": "[encoded data removed]",
      "text/plain": [
       "<Figure size 432x288 with 1 Axes>"
      ]
     },
     "metadata": {
      "needs_background": "light"
     },
     "output_type": "display_data"
    }
   ],
   "source": [
    "plt.hist(farm_size)\n",
    "# pyplot.hist to plot a histogram of farm sizes "
   ]
  },
  {
   "cell_type": "code",
   "execution_count": 7,
   "metadata": {},
   "outputs": [
    {
     "data": {
      "text/plain": [
       "[<matplotlib.lines.Line2D at 0x1968f852278>]"
      ]
     },
     "execution_count": 7,
     "metadata": {},
     "output_type": "execute_result"
    },
    {
     "data": {
      "image/png": "[encoded data removed]",
      "text/plain": [
       "<Figure size 432x288 with 1 Axes>"
      ]
     },
     "metadata": {
      "needs_background": "light"
     },
     "output_type": "display_data"
    }
   ],
   "source": [
    "plt.plot(farm_size, 'go--')\n",
    "# line plot of farm_size\n",
    "# 'go--' plots green dots joined by a dotted line"
   ]
  },
  {
   "cell_type": "code",
   "execution_count": null,
   "metadata": {},
   "outputs": [],
   "source": []
  },
  {
   "cell_type": "code",
   "execution_count": null,
   "metadata": {},
   "outputs": [],
   "source": []
  }
 ],
 "metadata": {
  "kernelspec": {
   "display_name": "Python 3",
   "language": "python",
   "name": "python3"
  },
  "language_info": {
   "codemirror_mode": {
    "name": "ipython",
    "version": 3
   },
   "file_extension": ".py",
   "mimetype": "text/x-python",
   "name": "python",
   "nbconvert_exporter": "python",
   "pygments_lexer": "ipython3",
   "version": "3.7.1"
  }
 },
 "nbformat": 4,
 "nbformat_minor": 2
}
