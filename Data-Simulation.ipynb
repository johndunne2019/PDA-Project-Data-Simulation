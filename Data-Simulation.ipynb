{
 "cells": [
  {
   "cell_type": "markdown",
   "metadata": {},
   "source": [
    "# Programming for Data Analysis"
   ]
  },
  {
   "cell_type": "markdown",
   "metadata": {},
   "source": [
    "## Project 2019"
   ]
  },
  {
   "cell_type": "markdown",
   "metadata": {},
   "source": [
    "## Problem statement\n",
    "For this project you must create a data set by simulating a real-world phenomenon of\n",
    "your choosing. You may pick any phenomenon you wish – you might pick one that is\n",
    "of interest to you in your personal or professional life. Then, rather than collect data\n",
    "related to the phenomenon, you should model and synthesise such data using Python.\n",
    "We suggest you use the numpy.random package for this purpose.\n",
    "\n",
    "Specifically, in this project you should:\n",
    "\n",
    "• Choose a real-world phenomenon that can be measured and for which you could\n",
    "collect at least one-hundred data points across at least four different variables.\n",
    "\n",
    "• Investigate the types of variables involved, their likely distributions, and their\n",
    "relationships with each other.\n",
    "\n",
    "• Synthesise/simulate a data set as closely matching their properties as possible.\n",
    "\n",
    "• Detail your research and implement the simulation in a Jupyter notebook – the\n",
    "data set itself can simply be displayed in an output cell within the notebook."
   ]
  },
  {
   "cell_type": "markdown",
   "metadata": {},
   "source": [
    "## Project Plan"
   ]
  },
  {
   "cell_type": "markdown",
   "metadata": {},
   "source": [
    "**The following are the steps I will take:**\n",
    "* Investigate possible real-world phenomenons to use to create a data set. \n",
    "* When I have identified a real-world phenomenon of interest to me I will research in order to pick the variables that are of most interest to me.\n",
    "* I will ensure that at least 100 data points across at least 4 variables could be collected when dealing this real-world phenomenon \n",
    "* When I have picked the variables I would like to synthesise in the data set simulation I will research the properties of these varibales, their likely distributions and their relationships with each other.\n",
    "* Use numpy.random to synthesise a data set matching these properties that I have identified as closely as possible. \n",
    "* Detail the research in this jupyter notebook and display the simulated data in an output cell within this notebook. "
   ]
  },
  {
   "cell_type": "markdown",
   "metadata": {},
   "source": [
    "## Table of Contents\n",
    "\n",
    "* Section 1 - Introduction to Data Simulation\n",
    "* Section 2 - Investigation\n",
    "* Section 3 -Variables in my data set"
   ]
  },
  {
   "cell_type": "markdown",
   "metadata": {},
   "source": [
    "## Import the packages I will use in this project:"
   ]
  },
  {
   "cell_type": "code",
   "execution_count": 1,
   "metadata": {},
   "outputs": [],
   "source": [
    "%matplotlib inline\n",
    "# This command is used to show the interactive matplotlib plots in this notebook\n",
    "import numpy as np\n",
    "# numpy imported and given the shortened name np\n",
    "import matplotlib.pyplot as plt\n",
    "# matplotlib.pyplot imported and given the shortened name plt\n",
    "plt.rcParams['figure.figsize'] = (10, 8)\n",
    "# This command increases the size of the plot size from pyplot\n",
    "import pandas as pd\n",
    "# pandas imported and given the shortened name pd\n",
    "import seaborn as sns\n",
    "# seaborn imported and given the shortened name sns"
   ]
  },
  {
   "cell_type": "markdown",
   "metadata": {},
   "source": [
    "## Section 1 - Introduction to Data Simulation\n",
    "\n",
    "\n",
    "\n",
    "\n",
    "### Data Simulation with numpy.random\n",
    "\n",
    "The official documentation of numpy.random is here: https://docs.scipy.org/doc/numpy-1.16.0/reference/routines.random.html where you can read about all the different functions of numpy.random that are available to be used in data analysis.\n",
    "\n",
    "numpy.random is a sub package of the NumPy package within the Python library that has many functions within it that can be used to generate random numbers. As we discovered in the lectures computers do not have the ability to generate random numbers on their own and so we can use packages such as numpy.random to do this.\n",
    "\n",
    "The overall purpose of the package is to generate random numbers. Within the numpy.random package there are many functions. The full list of functions from the official numpy.random documentation page: https://docs.scipy.org/doc/numpy-1.16.0/reference/routines.random.html#simple-random-data\n",
    "\n",
    "**Within the numpy.random package there are 4 different sections:**\n",
    "\n",
    "* **Simple Random Data**\n",
    "    * Simple Random Data is essentially used to generate random numbers. Within the Simple random data there are a number of different functions that can be used to generate random numbers and each function returns results from different distributions, these include uniform distribution, standard normal distribution and continuous uniform distribution.\n",
    "    \n",
    "* **Permutations**\n",
    "    * Within Permutations there are 2 functions shuffle and permutation.The shuffle function is used to shuffle the contents of an array. In other words change the order of an array of numbers. The permutation function randomly permutes a range when given a single argument. So for example if the user enters the argument 15 in numpy.random.permutation a range of 0:14 is permuted in a random order.\n",
    "    \n",
    "* **Distributions**\n",
    "    * A probability distribution shows the relationship between a random variable and each possible outsome for that random variable.\n",
    "    \n",
    "* **Random Generator**\n",
    "    * Truly random numbers are nondeterministic, meaning they cannot be pre determined and are essentially completely random. However, machines are deterministic and they cannot therefore generate true random nondeterministic numbers. Pseudo Random Number Generator(PRNG) is an algorithm used to generate sequences of random numbers. \n"
   ]
  },
  {
   "cell_type": "markdown",
   "metadata": {},
   "source": [
    "### The role of seeds in data simulation\n",
    "\n",
    "If I wanted the same result to be given every time that I generate random data with numpy.random I could use a seed. The seed function allows the user to set the starting point for generation of random data. The numpy.random package uses the Mersenne Twister pseudo-random number generator.\n",
    "\n",
    "\"NumPy random seed is simply a function that sets the random seed of the NumPy pseudo-random number generator. It provides an essential input that enables NumPy to generate pseudo-random numbers for random processes.\"\n",
    "\n",
    "Quote taken from: https://www.sharpsightlabs.com/blog/numpy-random-seed/\n",
    "\n",
    "The numpy.random.seed documentation page: https://docs.scipy.org/doc/numpy-1.14.0/reference/generated/numpy.random.seed.html#numpy.random.seed\n",
    "\n",
    "**However for the purpose of the data simulation that I will complete in this project I will not use seeds when generating my data. The reason being I would like a different data set to be generated each time my notebook is downloaded and ran.**"
   ]
  },
  {
   "cell_type": "markdown",
   "metadata": {},
   "source": [
    "#### Section 1 References\n",
    "* Official numpy documentation: https://numpy.org/\n",
    "* Official NumPy tutorial: https://numpy.org/devdocs/user/quickstart.html\n",
    "* What is NumPy: https://docs.scipy.org/doc/numpy-1.13.0/user/whatisnumpy.html\n",
    "* Learn NumPy in 5 minutes tutorial: https://www.youtube.com/watch?v=xECXZ3tyONo\n",
    "* Complete Python NumPy tutorial: https://www.youtube.com/watch?v=GB9ByFAIAH4\n",
    "* NumPy Python image: https://i2.wp.com/www.simplifiedpython.net/wp-content/uploads/2018/11/Python-NumPy-14.png?resize=595%2C233&ssl=1\n",
    "* numpy.random.permutation: https://docs.scipy.org/doc/numpy-1.16.0/reference/generated/numpy.random.permutation.html#numpy.random.permutation\n",
    "* There is a good explanation of the difference between numpy.random.shuffle and numpy.random.permutation here: https://stackoverflow.com/questions/15474159/shuffle-vs-permute-numpy\n",
    "* numpy.random.permutation: https://docs.w3cub.com/numpy~1.14/generated/numpy.random.permutation/\n",
    "* Pseudo Random Number Generator (PRNG)- https://www.geeksforgeeks.org/pseudo-random-number-generator-prng/\n",
    "* Introduction to Randomness and Random Numbers: https://www.random.org/randomness/\n",
    "* What does numpy.random.seed do: https://stackoverflow.com/questions/21494489/what-does-numpy-random-seed0-do\n",
    "* Khan Academy: https://www.khanacademy.org/computing/computer-science/cryptography/crypt/v/random-vs-pseudorandom-number-generators\n",
    "* Random data generation in Python: https://realpython.com/lessons/random-data-generation-python/\n",
    "* The numpy.random.seed documentation page: https://docs.scipy.org/doc/numpy-1.14.0/reference/generated/numpy.random.seed.html#numpy.random.seed\n",
    "* Numpy.random.seed: https://www.sharpsightlabs.com/blog/numpy-random-seed/"
   ]
  },
  {
   "cell_type": "markdown",
   "metadata": {},
   "source": [
    "## Section 2- Investigation"
   ]
  },
  {
   "cell_type": "markdown",
   "metadata": {},
   "source": [
    "**I first must identify a real-world phenomenon of interest to me that would be suitable for the purposes of this project. I also must ensure that the real world phenomenon is measureable and at least 100 data points across 4 variables could be collected.**\n",
    "\n",
    "As I am from a farming background and I have an interest in agriculture I am going to investigate if there are any interesting phenomenons that I could work with in this area.\n",
    "\n",
    "#### **The Irish Agri-Food Industry**\n",
    "\n",
    "The below statement from the Teagasc website shows the importance of agriculture to the Irish Economy:\n",
    "\n",
    "_\"The agri-food sector in Ireland in 2016 generated 7% of gross value added (€13.9 billion), 9.8% of Ireland’s merchandise exports and provided 8.5% of national employment. When employment in inputs, processing and marketing is included, the agri-food sector accounts for almost 10% of employment.\"_\n",
    "\n",
    "Source: https://www.teagasc.ie/rural-economy/rural-economy/agri-food-business/agriculture-in-ireland/"
   ]
  },
  {
   "cell_type": "markdown",
   "metadata": {},
   "source": [
    "**The below graphic from the Department of Agriculture, Food and the Marine website shows the composition of Irish agri food exports in 2010:**\n",
    "![exports.png](https://www.agriculture.gov.ie/media/migration/customerservice/reviewandoutlook2011/thefoodindustry/Figure5.12.gif)\n",
    "\n",
    "Source: https://www.agriculture.gov.ie/publications/2011/annualreviewandoutlookforagriculturefisheriesandfood20102011/thefoodindustry/exportsoffoodanddrink/\n"
   ]
  },
  {
   "cell_type": "markdown",
   "metadata": {},
   "source": [
    "I would be interested in some of the statistics surrounding the average income of farmers, farm size and the average age of farmers. \n",
    "\n",
    "These statistics are of particular importance now more than ever as there are serious threats to the future of farming.  In Ireland the small family farm is the dominant type of holding in contrast to a lot of other countries where the industrial scale farms are more commonplace. Examples include America, Australia and New Zealand. \n",
    "\n",
    "#### **Threats to the future of small farming in Ireland that I have identified:**\n",
    "\n",
    "* Beef prices at an all time low. \n",
    "* Rising costs and falling income level.\n",
    "* Brexit uncertainty -\n",
    "   * Will Brexit affect trade with UK?\n",
    "   * Will European Union direct payments decrease if the UK leave the European Union?\n",
    "* Are younger people willing to carry on the small farmily farm tradition working long hours for litter remuneration?\n",
    "* Has the abolition of milk quotas and the rapid expansion of the dairy herd in Ireland over the past number of years caused us to go into over production and possibly damage our ability to market our produce?\n",
    "* Climate change - has the image of agriculture been damaged?\n",
    "* Veganism and the move away from eating meat - has this caused long term damage to beef sector?\n",
    "* The age of farmholders is increasing all the time and a high proportion of these do not have a successor to take over the farm. What will happen to these farms?\n",
    "\n",
    "**Farm Succession:**\n",
    "\n",
    "I attended a young farmers meeting in Teagasc, Co. Cavan recently and the results of a recent survey were quoted to those in attendance. 43% of farmers surveyed said they have a son or daughter interested in succeeding them in running the family farm but that they would prefer they take a different career path as they do not see farming as a viable option for the future. I found this statistic to be quite scary. \n",
    "\n",
    "**Brexit:**\n",
    "\n",
    "I found an interesting presentation online prepared by the Chief Economist at the Department of Agriculture, Food and The Marine entitled \"Brexit and the Irish Agri-Food Sector:\n",
    "https://igees.gov.ie/wp-content/uploads/2017/06/3-Irish-Agri-Food-Sector-Sin%C3%A9ad-McPhilips-Department-of-Agriculture-Food-and-the-Marine..pdf. One interesting statistic from reading the presentation - in 2016 the UK accounted for 39% of Agri-Food exports from Ireland. Farmers are concerned about the possible impact of Brexit on both exports and also the possibility of reduced Common Agricultural Policy pool of funds which may decrease payments available to Irish farmers.\n",
    "\n",
    "**Beef:**\n",
    "\n",
    "The importance of the beef sector within the Irish Agri-Food sector and the current state of the beef market are a concern. According to the Teagasc website:\n",
    "\n",
    "_\"Ireland in 2016 net exports of beef accounted for 85% of production, making Ireland the largest beef net exporter in the EU and fifth largest in the world.\"_\n",
    "\n",
    "Source: https://www.teagasc.ie/rural-economy/rural-economy/agri-food-business/agriculture-in-ireland/\n",
    "\n",
    "Maybe by the end of this project I will have identified even more threats or I will have learnt more about some of the threats I have identified above.\n",
    "\n",
    "**European Union support and the Common Agricultural Policy:**\n",
    "\n",
    "One advantage that Irish agriculture has in the wake of all the threats I have identified above, is our membership of the European Union. This give Irish farmers access to payments under the Comon Agricultural Policy (CAP) which helps sustain the small farms that are dotted throughout the country. Without the support of these payments many small Irish family farms may not survive through some of the threats facing them. \n",
    "\n",
    "_\"Like their ancestors, modern Irish farmers face numerous challenges but many of today’s problems can’t be solved locally. Farming is now facing real threats from climate change, rising energy costs, food security and rural decline, as well as uncertainty surrounding Brexit.\"_\n",
    "\n",
    "_\"Thankfully, being a Member State of the European Union means Irish farmers don’t have to face these issues alone and can co-ordinate with the other EU nations through the Common Agricultural Policy (CAP) to find solutions to global, as well as local, issues.\"_\n",
    "\n",
    "Source: https://ec.europa.eu/ireland/news/key-eu-policy-areas/agriculture_en"
   ]
  },
  {
   "cell_type": "markdown",
   "metadata": {},
   "source": [
    "### Time to Research\n",
    "\n",
    "#### Central Statistics Office (CSO figures):\n",
    "\n",
    "My first port of call is the Central Statistics Office website Agriculture section- https://www.cso.ie/en/statistics/agriculture/ where I will conduct some research.\n",
    "\n",
    "Looking at the farm structure survey 2016 on the CSO website I can see some interesting statistics are captured in this area: https://www.cso.ie/en/statistics/agriculture/.\n",
    "\n",
    "Questions I have looking at these statistics:\n",
    "\n",
    "* Are there many females involved in agriculture?\n",
    "* Are there many young people involved in agriculture?\n",
    "* What is the average farm size in Ireland today?\n",
    "* What is the average income of farmers in Ireland today?\n",
    "* What is the averafe age of farmers in Ireland today?\n",
    "* How many hours per week do farmers work on average?\n",
    "* How many unpaid hours per week does the average farmer work in a week?\n",
    "* What is the average direct payment amount received by farmers from the EU?\n",
    "* Is there a relationship between income level and farm size?\n",
    "* Is there a relationship between farm size and hours per week worked?\n",
    "* Is there a relationship between direct payment amounts and farm size?\n",
    "* I cannot answer all of these questions but I will continue the research and see is anything interetsing comes up."
   ]
  },
  {
   "cell_type": "markdown",
   "metadata": {},
   "source": [
    "**The below image is a summary of the main findings of the Farm Structure Survey 2016:**\n",
    "\n",
    "![survey.png](https://pbs.twimg.com/media/DjlXwhUWwAE_2xM.jpg)\n",
    "\n",
    "Source: https://www.cso.ie/en/releasesandpublications/ep/p-fss/farmstructuresurvey2016/"
   ]
  },
  {
   "cell_type": "markdown",
   "metadata": {},
   "source": [
    "#### Farm Structure Survey 2016 - key statistics:\n",
    "* 88% of the 137,500 farms are owned by males.\n",
    "* 30% of farmholders are over the age of 65.\n",
    "* Only 5% of farms are held by people under the age of 35.\n",
    "* The average farm size is 32.4 hectares."
   ]
  },
  {
   "cell_type": "markdown",
   "metadata": {},
   "source": [
    "#### Some interesting statistics listed in the Farm Structure Survey 2016 Key findings section: https://www.cso.ie/en/releasesandpublications/ep/p-fss/farmstructuresurvey2016/kf/\n",
    "\n",
    "* In 2016 there were 137,500 farms in Ireland. More than half (52.7%) of all farms were located in the Border, Midland and Western (BMW) region.\n",
    "* The average farm was 32.4 hectares.\n",
    "* Farms in the Southern and Eastern (SE) region were 41.3% larger than those in the BMW region, with an average farm size of 38.3 hectares compared to 27.1 hectares.\n",
    "* Almost one in five of all farms (18.0%) were 50 hectares or more in size while just over two in five farms (43.4%) had less than 20 hectares.\n",
    "* Specialist Beef production continued to be the most common farm type or activity, accounting for over half of all farms in 2016 (78,300).\n",
    "* Average Standard Output per farm was €45,855 in 2016. Standard output is the average monetary value of agricultural output at farm-gate prices.\n",
    "\n",
    "\n",
    "**Standard Output (SO)**\n",
    "\n",
    "The below explanation is given in the background notes & appendices section of the Farm Structure Survey:\n",
    "\n",
    "_\"The Standard Output (SO) of an agricultural product is defined as the average monetary value of the agricultural output at farm-gate prices. The SO does not take into account costs, direct payments, value added tax or taxes on products.\"_\n",
    "\n",
    "Source: https://www.cso.ie/en/releasesandpublications/ep/p-fss/farmstructuresurvey2016/bgna/"
   ]
  },
  {
   "cell_type": "markdown",
   "metadata": {},
   "source": [
    "**The below graphic sourced from the Teagasc website shows the composition of employment in the Irish Agri-Food Sector in 2017:**\n",
    "\n",
    "![Employmen.png](https://www.teagasc.ie/media/website/rural-economy/rural-economy/composition-of-employment-in-agrifood-sector-2016-598x357.PNG)\n",
    "\n",
    "Source: https://www.teagasc.ie/rural-economy/rural-economy/agri-food-business/agriculture-in-ireland/\n"
   ]
  },
  {
   "cell_type": "markdown",
   "metadata": {},
   "source": [
    "#### European Commission - Europa Statistics:\n",
    "\n",
    "I sourced the below statistics from the European Commisssion website: https://ec.europa.eu/ireland/news/key-eu-policy-areas/agriculture_en\n",
    "\n",
    "* Ireland covers an area of 6.9 million hectares, of which 4.5 million hectares is used for agriculture and a further 730,000 hectares for forestry.\n",
    "* There are 137,500 farms in Ireland – the vast majority of which are family owned - and the average size is 32.4 hectares.\n",
    "* Employment in the agri-food sector accounted for 173,800 jobs, 7.9% of total employment, on average in 2017, according to the CSO Labour Force Survey.\n",
    "* Agriculture typically has an ageing workforce. In 2016, around a quarter of farm holders in Ireland were aged 65 years and over. Just 5% of farmers were aged less than 35 years.\n",
    "\n",
    "Source: https://ec.europa.eu/ireland/news/key-eu-policy-areas/agriculture_en"
   ]
  },
  {
   "cell_type": "markdown",
   "metadata": {},
   "source": [
    "**The European Commission website shows the below interesteding graphic on the value of Irish Agri-Food exports and the destinations (2016):**\n",
    "\n",
    "![exports](https://ec.europa.eu/ireland/sites/ireland/files/agrifood_exports_2016.jpg)\n",
    "\n",
    "Source: https://ec.europa.eu/ireland/news/key-eu-policy-areas/agriculture_en"
   ]
  },
  {
   "cell_type": "markdown",
   "metadata": {},
   "source": [
    "## Variables to be simulated in my data set"
   ]
  },
  {
   "cell_type": "markdown",
   "metadata": {},
   "source": [
    "After this exploratory research I think I have narrowed down a list of the variables that I might like to try to simulate in my data set:\n",
    "* Farm Size\n",
    "* Standard Output\n",
    "* Direct Payment\n",
    "* Gender of farmholder\n",
    "* Successer identified yes/no\n",
    "* Age of farmholder\n",
    "* Hours worked on the farm per week\n",
    "\n",
    "I will now investigate some of the listed variables to find out their likely distributions and if there is any relationship between the variables."
   ]
  },
  {
   "cell_type": "markdown",
   "metadata": {},
   "source": [
    "#### Section 2 - References\n",
    "* CSO Agriculture section: https://www.cso.ie/en/statistics/agriculture/ \n",
    "* CSO Farm Structure Survey 2016: https://www.cso.ie/en/releasesandpublications/ep/p-fss/farmstructuresurvey2016/\n",
    "* Farm Structure Survey 2016 Key Findings: https://www.cso.ie/en/releasesandpublications/ep/p-fss/farmstructuresurvey2016/kf/\n",
    "* Background notes on the collection of data for the Farm Structure Survey 2016: https://www.cso.ie/en/releasesandpublications/ep/p-fss/farmstructuresurvey2016/bgna/\n",
    "* Representation in Ireland: https://ec.europa.eu/ireland/news/key-eu-policy-areas/agriculture_en\n",
    "* Farm Structure Survey 2013: https://www.cso.ie/en/releasesandpublications/ep/p-fss/farmstructuresurvey2013/detailedanalysis/farmstructure/\n",
    "* Agriculture in Ireland: https://www.teagasc.ie/rural-economy/rural-economy/agri-food-business/agriculture-in-ireland/\n",
    "* Teagasc national farm survey: The sustainability of small farming in Ireland: https://www.teagasc.ie/media/website/publications/2017/Small-Farms-Survey.pdf\n",
    "* Brexit and the Irish Agri-Food Sector: https://igees.gov.ie/wp-content/uploads/2017/06/3-Irish-Agri-Food-Sector-Sin%C3%A9ad-McPhilips-Department-of-Agriculture-Food-and-the-Marine..pdf"
   ]
  },
  {
   "cell_type": "markdown",
   "metadata": {},
   "source": [
    "## Section 3 - Investigation on the types of variables and their likely distributions\n",
    "\n",
    "**In this section I will undertake an investigation into what variables are of interest, their likely distributions and their relationships with each other.**"
   ]
  },
  {
   "cell_type": "markdown",
   "metadata": {},
   "source": [
    "#### Section 3.1 - Farm Size"
   ]
  },
  {
   "cell_type": "markdown",
   "metadata": {},
   "source": [
    "The first variable I am interested in farm size. I believe this to be the most interesting variable and one that I think has an impact on the performance of the farm, direct payment amounts, output, hours worked etc. Before completing any research I would expect larger farms, to have higher output, more labour hours and higher direct payments. Let's see if my assumption is correct.\n",
    "\n",
    "I am now going to investigate farm sizes in Ireland, can I find the mean farm size, the distribution of farm sizes etc. \n",
    "\n",
    "My initial search shows up the following sources that look good:\n",
    "* Representation in Ireland: https://ec.europa.eu/ireland/news/key-eu-policy-areas/agriculture_en\n",
    "* Farm Structure Survey 2013: https://www.cso.ie/en/releasesandpublications/ep/p-fss/farmstructuresurvey2013/detailedanalysis/farmstructure/\n",
    "* Agriculture in Ireland: https://www.teagasc.ie/rural-economy/rural-economy/agri-food-business/agriculture-in-ireland/\n",
    "* Teagasc national farm survey: The sustainability of small farming in Ireland: https://www.teagasc.ie/media/website/publications/2017/Small-Farms-Survey.pdf\n",
    "* CSO Farm Structure Durvey 2016: https://www.cso.ie/en/releasesandpublications/ep/p-fss/farmstructuresurvey2016/da/fs/\n",
    "\n",
    "**According to the CSO Farm Structure Survey 2016 the average farm size in Ireland at that time was 32.4 hectares.**\n",
    "\n",
    "* The CSO in their Farm Structure Survey broke Ireland into 2 categories by region- **Border, Midland and Western** and **Southern and Eastern**. \n",
    "* Border, Midland and Western is also further subdividied into 4 segments- **Border**, **Midland** and **West**.\n",
    "* Southern and Eastern is further subdivided into 4 segments- **Mid-East and Dublin**, **Mid-West**, **South-East** and **South-West**.\n",
    "* The breakdown of farm sizes by each region is shown on the CSO website here: https://www.cso.ie/en/releasesandpublications/ep/p-fss/farmstructuresurvey2016/da/fs/\n",
    "* You can also visit this link and create a table of data drawing in which ever statistics you find interesting: https://statbank.cso.ie/px/pxeirestat/Statire/SelectVarVal/Define.asp?Maintable=FSA01&PLanguage=0\n",
    "\n",
    "**Border, Midland and Western:**\n",
    "* Average farm size- 27.1 hectares\n",
    "* Total number of farms in this region- 72,500\n",
    "* Breakdown by farm type:\n",
    "    * Specialist tillage- 1,000\n",
    "    * Specialist dairy- 3,600\n",
    "    * Specialist beef production- 46,000\n",
    "    * Specialist sheep- 10,300\n",
    "    * Mixed grazing livestock- 6,500\n",
    "    * Mixed crops and livestock- 600\n",
    "    * Mixed field crops- 3,900\n",
    "    * Other- 600\n",
    "* Average standard Output (SO) of farms in the Border, Mildlands and Western region- €28.935\n",
    "\n",
    "**Southern and Eastern:**\n",
    "* Average farm size- 38.3 hectares\n",
    "* Total number of farms in this region- 65,000\n",
    "* Breakdown by farm type:\n",
    "    * Specialist tillage- 3,700\n",
    "    * Specialist dairy- 12,600\n",
    "    * Specialist beef production- 32,300\n",
    "    * Specialist sheep- 4,800\n",
    "    * Mixed grazing livestock- 5,100\n",
    "    * Mixed crops and livestock- 1,500\n",
    "    * Mixed field crops- 4,300\n",
    "    * Other- 700\n",
    "* Average standard Output (SO) of farms in the Southern and Eastern region- €64,734\n",
    "\n",
    "Comparing the the 2 regions there are is a stark contrast in standard output between them with Southern and Eastern having a much higher standard output. The farm sizes are also larger which suggest to me that there is a relationship between farm size and output. However, I also know from my own knowledge of the agricultural sector in Ireland that the type of land also has an impact on output. The land in the West of Ireland and the border areas is more marginal land that tends to be be wetter in the spring and winter time and presents more challenges to farmers in farming the land. In contrast the land in the South and South East of Ireland is prime agricultual land and farmers can return a better crop and grass output with less inputs. \n",
    "\n",
    "Taking the case of beef production as an example, a farmer on marginal land in the West of Ireland or the border area would grow less grass than a farmer in the more affluent land in the South East of Ireland. This would mean that farmer in the West or border area would have higher input costs in supplementary feed costs and fertiliser to grow grass. The land would also become too wet for cattle earlier in the year and that farmer would have to house cattle for a longer time in the winter which also leads to increased input costs. Where a farmer in the West of Co.Galway for example could expect to house cattle from the end of September until the middle or end of April, a farmer in Co.Wexford would hope to house cattle from the beginning of November until the beginning of March"
   ]
  },
  {
   "cell_type": "markdown",
   "metadata": {},
   "source": [
    "#### Choosing distribution for farm size variable\n",
    "\n",
    "I have chosen to use the normal distribution for the farm size variable in the data set that I am going to simulate. Some reasons for my decision:\n",
    "\n",
    "* I know the average farm size from the CSO Farm Structure Survey 2016.\n",
    "* It is extremely hard to simulate data for farm sizes in Ireland as there is such a large variance in farm sizes. \n",
    "* Ireland has an extremely high ratio of farms to land area. \n",
    "* On one end of the scale there are a small number of large industrial farms that employ multiple people and on the other end of the scale are the small traditional family farms with some being very small in size and what some in Ireland term as \"hobby farms\" where the landownder is working full time off farm and they are farming the land in their free time to kepp the tradition alive. These small size holdings do not exist in most other European countries.\n",
    "* So I have to make a decision on what is the best distribution to accurately represent farm size in Ireland. Since, I know the average size of farms in Ireland and I know that their are a large number of farms in Ireland from my research, and I know from my personal knowledge of the agriculture sector in Ireand that there are many farms of similiar sizes I am going to use the normal distribution for farm size in my data simulation."
   ]
  },
  {
   "cell_type": "markdown",
   "metadata": {},
   "source": [
    "#### Normal distribution\n",
    "\n",
    "numpy.random.normal documentation: https://docs.scipy.org/doc/numpy-1.16.0/reference/generated/numpy.random.normal.html#numpy.random.normal\n",
    "\n",
    "_\"Draw random samples from a normal (Gaussian) distribution. The probability density function of the normal distribution, first derived by De Moivre and 200 years later by both Gauss and Laplace independently [2], is often called the bell curve because of its characteristic shape\"_\n",
    "\n",
    "Source- https://docs.scipy.org/doc/numpy-1.16.0/reference/generated/numpy.random.normal.html#numpy.random.normal\n",
    "\n",
    "A normal distribution often described as a bell curve distributon because of the shape, often occurs naturally within statistics. One example would be in measuring height of a group of people there would tend to be a central tendency of data with the majority of data gathering around this point.\n",
    "\n",
    "Below are some properties that could be associated with a normal distribution:\n",
    "\n",
    "* The mean, mode and median are all equal\n",
    "* The bell curve is symmetric at the centre\n",
    "* 50% of the values are to the left of the centre and 50% to the right of centre\n",
    "* 99.7% of the data occurs within 3 standard deviations of the mean\n",
    "* Some further reading on characteristics of a normal distribution: https://www.statisticshowto.datasciencecentral.com/probability-and-statistics/normal-distributions/ and https://mathbitsnotebook.com/Algebra2/Statistics/STstandardNormalDistribution.html\n",
    "\n",
    "**numpy.random.normal takes 3 arguments:**\n",
    "\n",
    "* loc : float or array_like of floats - the Mean of the distribution.\n",
    "* scale : float or array_like of floats - the Standard deviation of the distribution or in simple terms the width of the distribution.\n",
    "* size : int or tuple of ints, optional - the size of the distribution"
   ]
  },
  {
   "cell_type": "markdown",
   "metadata": {},
   "source": [
    "**Below is an image of a normal distribution showing the bell shape curve:**\n",
    "\n",
    "![normal.png](https://www.researchgate.net/profile/Zacharie_Mbaitiga/publication/47554522/figure/fig3/AS:669306094358551@1536586416576/Bell-curve-and-standard-deviation.jpg)\n",
    "\n",
    "Source: https://www.researchgate.net/figure/Bell-curve-and-standard-deviation_fig3_47554522"
   ]
  },
  {
   "cell_type": "markdown",
   "metadata": {},
   "source": [
    "**The Empirical rule**\n",
    "\n",
    "The Empirical rule states that within a normal distribution almost all of the data falls within 3 standard deviations of the mean.\n",
    "\n",
    "According to the Empirical rule we should expect to see:\n",
    "\n",
    "* 68% of the data within the first standard deviation from the mean\n",
    "* 95% of the data within 2 standard deviations of the mean\n",
    "* 99.7% of the data within 3 standard deviations of the mean\n",
    "\n",
    "Further reading on the Empirical rule: https://www.statisticshowto.datasciencecentral.com/empirical-rule-2/ and https://mathbitsnotebook.com/Algebra2/Statistics/STstandardNormalDistribution.html\n",
    "\n",
    "Video tutorial on the Empirical rule: https://www.youtube.com/watch?time_continue=6&v=hQTvdD8vtio"
   ]
  },
  {
   "cell_type": "markdown",
   "metadata": {},
   "source": [
    "**Image showing the Empirical Rule on a normal distribution:**\n",
    "\n",
    "![empirical.png](https://www.statisticshowto.datasciencecentral.com/wp-content/uploads/2013/09/standard-normal-distribution.jpg)\n",
    "\n",
    "Source: https://www.statisticshowto.datasciencecentral.com/probability-and-statistics/normal-distributions/"
   ]
  },
  {
   "cell_type": "markdown",
   "metadata": {},
   "source": [
    "#### Parameters for my data simulation\n",
    "\n",
    "**1. Mean of farm sizes in Ireland:**\n",
    "\n",
    "From the CSO Farm Structure Survey I know the mean farm size is 32.4 hectares so I will use this in my distribution.\n",
    "\n",
    "**2. Standard deviation of farm sizes in Ireland:**\n",
    "\n",
    "After some investigation I have decided that a good standard deviation measure to use is 8.2 hectares. When I use the standard deviation of 8.2 hectares with a sample of 200 farm sizes from the normal distribution, the range of farm sizes returned is between 12.98 and 52.18 hectares, which I believe to be a reasonably accurate representation of the distribution of farm sizes in Ireland today. Using the normal distribution I can expect 68% of farm sizes to fall within one standard deviation of the mean value of 32.4 hectares. This would be the range 24 to 40 hectares. I am satisfied that this represents the most frequently occurring farm sizes in Ireland today. \n",
    "\n",
    "**3. Sample size:**\n",
    "\n",
    "I have decided to generate data for a sample size of 200 farmholdings."
   ]
  },
  {
   "cell_type": "markdown",
   "metadata": {},
   "source": [
    "#### Data Simulation of farm sizes in Ireland using the Normal distribution:"
   ]
  },
  {
   "cell_type": "code",
   "execution_count": 2,
   "metadata": {},
   "outputs": [
    {
     "data": {
      "text/plain": [
       "array([28.78, 30.14, 33.05, 29.73, 26.14, 34.07, 29.23, 29.63, 31.83,\n",
       "       25.09, 33.16, 39.45, 32.37, 37.09, 33.43, 26.19, 35.28, 25.03,\n",
       "       56.88, 26.11, 35.4 , 39.68, 37.4 , 47.56, 31.41, 36.04, 32.32,\n",
       "       29.64, 27.32, 30.39, 31.7 , 26.03, 20.91, 21.62, 21.68, 38.45,\n",
       "       31.64, 36.94, 45.2 , 20.34, 27.34, 24.59, 40.6 , 29.56, 10.39,\n",
       "       34.32, 32.04, 25.95, 36.8 , 18.28, 25.09, 23.2 , 44.93, 28.39,\n",
       "       29.62, 47.21, 35.84, 22.95, 34.96, 31.48, 29.04, 25.58, 14.15,\n",
       "       35.38, 21.69, 17.23, 27.08, 27.05, 45.64, 33.1 , 35.7 , 25.09,\n",
       "       25.36, 43.57, 40.1 , 26.08, 24.87, 41.63, 43.59, 24.25, 46.26,\n",
       "       33.49, 33.53, 30.42, 30.5 , 17.88, 21.8 , 32.46, 17.33, 47.91,\n",
       "       39.72, 27.92, 26.61, 22.08, 22.56, 45.37, 38.04, 32.47, 17.7 ,\n",
       "       36.49, 34.08, 24.85, 37.57, 34.24, 35.48, 40.94, 30.63, 22.59,\n",
       "       30.  , 29.3 , 33.77, 12.76, 27.45, 26.25, 35.68, 18.  , 26.85,\n",
       "       23.79, 20.07, 22.06, 21.51, 40.29, 26.77, 34.45, 24.04, 31.72,\n",
       "       39.66, 40.73, 42.71, 26.05, 31.87, 29.71, 15.91, 24.57, 27.5 ,\n",
       "       24.33, 36.89, 27.36, 30.22, 47.61, 23.55, 30.58, 34.27, 39.05,\n",
       "       31.23, 14.47, 34.05, 40.42, 45.5 , 35.93, 22.47, 28.64, 38.55,\n",
       "       23.62, 13.66, 35.04, 23.86, 46.71, 38.14, 31.01, 40.51, 36.58,\n",
       "       24.22, 31.99, 25.08, 33.87, 25.51, 39.75, 21.26, 45.29, 24.54,\n",
       "       28.73, 39.  , 34.85, 33.41, 46.99, 30.94, 37.19, 36.9 , 43.25,\n",
       "       23.3 , 29.83, 48.97, 28.77, 24.7 , 38.1 , 38.85, 51.96, 27.88,\n",
       "       22.68, 49.67, 38.38, 30.  , 29.47, 51.38, 49.25, 46.51, 41.72,\n",
       "       33.76, 32.77])"
      ]
     },
     "execution_count": 2,
     "metadata": {},
     "output_type": "execute_result"
    }
   ],
   "source": [
    "# If I wanted the same data to be generated each time I would set a seed using numpy.random.seed\n",
    "farm_size = np.random.normal(32.4, 8.2, 200).round(2)\n",
    "# normal distribution\n",
    "# mean set to 32.4 hectares\n",
    "# standard deviation set to 4.6 hectares\n",
    "# 200 samples are generated\n",
    "# round(2) to round the result to 2 decimal places\n",
    "farm_size"
   ]
  },
  {
   "cell_type": "code",
   "execution_count": 3,
   "metadata": {},
   "outputs": [
    {
     "name": "stdout",
     "output_type": "stream",
     "text": [
      "The average farm size in hectares:\n",
      "31.77\n"
     ]
    }
   ],
   "source": [
    "print(\"The average farm size in hectares:\")\n",
    "print(np.mean(farm_size).round(2))"
   ]
  },
  {
   "cell_type": "code",
   "execution_count": 4,
   "metadata": {},
   "outputs": [
    {
     "name": "stdout",
     "output_type": "stream",
     "text": [
      "The smallest farm size in hectares\n",
      "10.39\n"
     ]
    }
   ],
   "source": [
    "print(\"The smallest farm size in hectares\")\n",
    "print(np.min(farm_size).round(2))"
   ]
  },
  {
   "cell_type": "code",
   "execution_count": 5,
   "metadata": {},
   "outputs": [
    {
     "name": "stdout",
     "output_type": "stream",
     "text": [
      "The largest farm size in hectares\n",
      "56.88\n"
     ]
    }
   ],
   "source": [
    "print(\"The largest farm size in hectares\")\n",
    "print(np.max(farm_size).round(2))"
   ]
  },
  {
   "cell_type": "markdown",
   "metadata": {},
   "source": [
    "**Histogram of the farm sizes:**"
   ]
  },
  {
   "cell_type": "code",
   "execution_count": 6,
   "metadata": {},
   "outputs": [
    {
     "data": {
      "text/plain": [
       "Text(0, 0.5, 'Number of farms')"
      ]
     },
     "execution_count": 6,
     "metadata": {},
     "output_type": "execute_result"
    },
    {
     "data": {
      "image/png": "[encoded data removed]",
      "text/plain": [
       "<Figure size 720x576 with 1 Axes>"
      ]
     },
     "metadata": {
      "needs_background": "light"
     },
     "output_type": "display_data"
    }
   ],
   "source": [
    "plt.rcParams['figure.figsize'] = (10, 8)\n",
    "plt.hist(farm_size)\n",
    "plt.title('Farm sizes in Ireland - sample size of 200')\n",
    "plt.xlabel('Farm sizes in hectares')\n",
    "plt.ylabel('Number of farms')\n",
    "\n",
    "# pyplot.hist to plot a histogram of farm sizes "
   ]
  },
  {
   "cell_type": "markdown",
   "metadata": {},
   "source": [
    "**Scatter plot of the farm sizes:**"
   ]
  },
  {
   "cell_type": "code",
   "execution_count": 7,
   "metadata": {},
   "outputs": [
    {
     "data": {
      "text/plain": [
       "Text(0, 0.5, 'Number of farms')"
      ]
     },
     "execution_count": 7,
     "metadata": {},
     "output_type": "execute_result"
    },
    {
     "data": {
      "image/png": "[encoded data removed]",
      "text/plain": [
       "<Figure size 720x576 with 1 Axes>"
      ]
     },
     "metadata": {
      "needs_background": "light"
     },
     "output_type": "display_data"
    }
   ],
   "source": [
    "plt.rcParams['figure.figsize'] = (10, 8)\n",
    "plt.plot(farm_size, 'go--')\n",
    "plt.title('Farm sizes in Ireland - sample size of 200')\n",
    "plt.xlabel('Farm sizes in hectares')\n",
    "plt.ylabel('Number of farms')\n",
    "# line plot of farm_size\n",
    "# 'go--' plots green dots joined by a dotted line"
   ]
  },
  {
   "cell_type": "markdown",
   "metadata": {},
   "source": [
    "**Display the farm sizes using padas.dataframe:**\n",
    "\n",
    "I have commented out the code to save space for now."
   ]
  },
  {
   "cell_type": "code",
   "execution_count": 8,
   "metadata": {},
   "outputs": [],
   "source": [
    "##df = pd.DataFrame(farm_size, columns=['Farm Size'])\n",
    "##df\n",
    "# pandas.dataframe used to read in the \n",
    "# documentation page: https://pandas.pydata.org/pandas-docs/stable/reference/api/pandas.DataFrame.html\n",
    "# Columns parameter passed in to name the columns in the dataframe\n",
    "# https://www.tutorialspoint.com/python_pandas/python_pandas_dataframe.htm\n",
    "# https://www.geeksforgeeks.org/python-pandas-dataframe/"
   ]
  },
  {
   "cell_type": "markdown",
   "metadata": {},
   "source": [
    "#### Section 3.1 References\n",
    "* Representation in Ireland: https://ec.europa.eu/ireland/news/key-eu-policy-areas/agriculture_en\n",
    "* Farm Structure Survey 2013: https://www.cso.ie/en/releasesandpublications/ep/p-fss/farmstructuresurvey2013/detailedanalysis/farmstructure/\n",
    "* Agriculture in Ireland: https://www.teagasc.ie/rural-economy/rural-economy/agri-food-business/agriculture-in-ireland/\n",
    "* Teagasc national farm survey: The sustainability of small farming in Ireland: https://www.teagasc.ie/media/website/publications/2017/Small-Farms-Survey.pdf\n",
    "* CSO Farm Structure Survey 2016: https://www.cso.ie/en/releasesandpublications/ep/p-fss/farmstructuresurvey2016/da/fs/\n",
    "* numpy.random.normal: https://docs.scipy.org/doc/numpy-1.15.0/reference/generated/numpy.random.normal.html\n",
    "* Normal distribution: https://www.statisticshowto.datasciencecentral.com/probability-and-statistics/normal-distributions/\n",
    "* Normal distribution: https://mathbitsnotebook.com/Algebra2/Statistics/STstandardNormalDistribution.html\n",
    "* The Empirical rule Youtube video: https://www.youtube.com/watch?time_continue=6&v=hQTvdD8vtio\n",
    "* What is the Empirical rule: https://www.statisticshowto.datasciencecentral.com/empirical-rule-2/ and https://mathbitsnotebook.com/Algebra2/Statistics/STstandardNormalDistribution.html\n",
    "* Image of the Empirical rule: https://www.statisticshowto.datasciencecentral.com/probability-and-statistics/normal-distributions/\n",
    "* Image of normal distribution: https://www.researchgate.net/figure/Bell-curve-and-standard-deviation_fig3_47554522"
   ]
  },
  {
   "cell_type": "markdown",
   "metadata": {},
   "source": [
    "#### Section 3.2 - Direct Payments Received\n",
    "\n",
    "The second variable I am going to look at is the amount of direct payment received per farmholding. I think this is an extremely important and insightful variable to look at as direct paymets are crucial to the survival of the small farms in Ireland.\n",
    "\n",
    "The results of the Teagasc National Farm Survey 2016 are listed in a report here: https://www.teagasc.ie/media/website/publications/2017/NFS-2016-Final-Report.pdf ad there are some interesting statistics surrounding direct payments."
   ]
  },
  {
   "cell_type": "markdown",
   "metadata": {},
   "source": [
    "_\"The average direct payment\n",
    "was €17,804 in 2016,\n",
    "accounting for 75% of income.\"_\n",
    "\n",
    "Source: Teagasc National Farm Survey 2016 https://www.teagasc.ie/media/website/publications/2017/NFS-2016-Final-Report.pdf"
   ]
  },
  {
   "cell_type": "markdown",
   "metadata": {},
   "source": [
    "The Teagasc National Farm Survey goes on to give a breakdown of the contribution of direct payments to income by sector. In the beef sector direct payments made  up 115% of income while in the sheep sector direct payments made up 114% of income. I think this statistic alone shows the importance of direct payments to the sustainsbility of Irish agriculture."
   ]
  },
  {
   "cell_type": "markdown",
   "metadata": {},
   "source": [
    "#### Basic Payment Scheme (BPS)\n",
    "\n",
    "The BPS previously known as the Single Farm Payment is the main direct payment that farmers in Ireland can avail of. The basic payment amount that can be claimed is based on the number of hectares farmed. Despite their being a common misconception this is \"free\" money, in order to avail of the payments farmers must comply with strict regulations surrounding animal health and welfare, environmental protection and food traceability. Failure to comply with these regulations could lead to clawback of payments claimed and possible expulsion from future entry to the scheme. There are rigorous inspections carried out without notice and also in recent years satellite inspections have been introduced. The maximum payment amount that can be claimed for one holding under the BPS scheme is currently €150,000. However, there are talks of reducing this amount to €100,000 from 2020 onwards in a reform of the CAP payments system. \n",
    "\n",
    "I found a nice explanation of the Basic Payment Scheme on the Scottish Government website: https://www.ruralpayments.org/publicsite/futures/topics/all-schemes/basic-payment-scheme/\n"
   ]
  },
  {
   "cell_type": "markdown",
   "metadata": {},
   "source": [
    "_\"The Basic Payment Scheme acts as a safety net for farmers and crofters by supplementing their main business income. \n",
    "To qualify for this support, you must actively farm your land. \n",
    "Support under the Basic Payment Scheme is available to farmers who are allocated payment entitlements. \n",
    "You can apply for entitlements based on the land you farm and the activity you undertake.\"_\n",
    "\n",
    "Source: https://www.ruralpayments.org/publicsite/futures/topics/all-schemes/basic-payment-scheme/"
   ]
  },
  {
   "cell_type": "markdown",
   "metadata": {},
   "source": [
    "**Further reading on the Basic Payment Scheme:**\n",
    "* Department of Agriculture, Food and The Marine website:\n",
    "https://www.agriculture.gov.ie/farmerschemespayments/basicpaymentschemegreeningareasofnaturalconstraints/\n",
    "* 2019 Basic Payment Scheme terms and conditions: https://www.agriculture.gov.ie/farmerschemespayments/basicpaymentschemegreeningareasofnaturalconstraints/2019basicpaymentschemegreeningareasofnaturalconstraints/\n",
    "* Basic Payment Scheme explained: https://www.agriland.ie/farming-news/basis-payments-scheme-explained/\n"
   ]
  },
  {
   "cell_type": "markdown",
   "metadata": {},
   "source": [
    "**There are also othe direct payments available to farmers including:**\n",
    "\n",
    "* **Young Farmers Scheme** which is a top up payment that can be claimed by young trained farmers under the age of 40 who have complete their level 6 agriculture certificate training with Teagasc and have entered into a partnership on a farm. The aim of this scheme is to encourage older farmers to bring their successor into  parthership with them in running the farm as a stepping stone to the fill handover of the farm. 2019 National Reserve and Young Farmers Scheme- https://www.agriculture.gov.ie/farmerschemespayments/capentitlementsrelatedinformationandapplicationforms/2019nationalreserveandyoungfarmersscheme/. \n",
    "* **Beef Data and Genomics Scheme (BDGP)** which offers payments to suckler farmers who complete DNA genotyping of animals on their holdings in order to build a database of DNA of the beef herd in Ireland. The aim of this scheme is to gather data on the beef herd in Ireland and use the data to identify more efficient animals to use for breeding. BDGP scheme- https://www.agriculture.gov.ie/beefschemes/.\n",
    "* In 2019, there were 2 more schemes made available to beed farmers due to the poor state of the beef sector:\n",
    "    * **Beef Environmental Efficiency Pilot (BEEP)**- farmers who weighed cows and calves receivced a payment, the aim of the scheme is to identify the most efficient     cows to use for breeding to lower the carbon footprint of the beef sector. BEEP scheme- https://www.agriculture.gov.ie/beep/. \n",
    "    * **Beef Emergency Aid Measure (BEAM)** - a compensation scheme where beef farmers could claim a payment to compensate them for the poor price beef animals were making at market throughout 2019. BEAM scheme- https://www.agriculture.gov.ie/farmerschemespayments/beam/. "
   ]
  },
  {
   "cell_type": "markdown",
   "metadata": {},
   "source": [
    "#### Relationship between farm size and direct payments variables\n",
    "\n",
    "There is a relationship between farm size and direct payment amount received in that the larger the farm, the more entitlements (one entitlement per hectare) a farmer can claim and thus the higher the amount of direct payment is payable. Is this fair? Do smaller farmers need extra support?\n",
    "\n",
    "_\"Although the role of direct payments in stabilising farm income is generally welcomed, the fact that 20% of farmers receive 80% of the payments prompts accusations of \"unfairness\".These numbers are a reflection of a system where payments are linked to land which is concentrated among a minority of farmers.\"_\n",
    "\n",
    "(Irish Independent: https://www.independent.ie/business/farming/schemes/facts-and-figures-on-the-cap-in-ireland-where-the-money-comes-from-and-who-gets-it-37774326.html)"
   ]
  },
  {
   "cell_type": "markdown",
   "metadata": {},
   "source": [
    "#### Data Simulation of Direct Payment amount per farmholding"
   ]
  },
  {
   "cell_type": "markdown",
   "metadata": {},
   "source": [
    "After research I have concluded there is no exact science to measuring the direct payment amounts per farm in Ireland. However, there is a clear relationship between farm size and direct payment amount received. In 2019 the maximum entitlement per hectare that can be claimed is €486.09, entitlements values can range up to this value. \n",
    "\n",
    "I have chosen to use €412 as the base value of entitlements, it may be higher than the amouunt claimed by a lot of farmholders but it also allows for some auxilliary payments that farmholders claim, some of which I listed earlier. "
   ]
  },
  {
   "cell_type": "markdown",
   "metadata": {},
   "source": [
    "**Add some variation with numpy.random.randint:**"
   ]
  },
  {
   "cell_type": "markdown",
   "metadata": {},
   "source": [
    "I will use numpy.random.randint to capture the variation in direct payments that can occur due to the variation in entitlement values that exist. The numpy.random.randint function returns random integers between the low and high values passed in by the user. \n",
    "\n",
    "The documentation page: https://docs.scipy.org/doc/numpy-1.14.0/reference/generated/numpy.random.randint.html#numpy.random.randint\n",
    "\n",
    "I have one example below:"
   ]
  },
  {
   "cell_type": "code",
   "execution_count": 9,
   "metadata": {},
   "outputs": [
    {
     "data": {
      "text/plain": [
       "108"
      ]
     },
     "execution_count": 9,
     "metadata": {},
     "output_type": "execute_result"
    }
   ],
   "source": [
    "np.random.randint( 102, 110)\n",
    "# return random integer between 102 and 110"
   ]
  },
  {
   "cell_type": "markdown",
   "metadata": {},
   "source": [
    "I think using numpy.random.randint in this way will be useful in capturing the variation in direct payment amounts as there is no exact science to calculating direct paymenta amounts."
   ]
  },
  {
   "cell_type": "markdown",
   "metadata": {},
   "source": [
    "**Complete the simulation:**"
   ]
  },
  {
   "cell_type": "code",
   "execution_count": 10,
   "metadata": {},
   "outputs": [
    {
     "data": {
      "text/plain": [
       "array([11643.36, 12127.68, 13376.6 , 11967.76, 10489.68, 13824.84,\n",
       "       11786.76, 12001.56, 12854.96, 10089.08, 13439.92, 15994.4 ,\n",
       "       13089.44, 15063.08, 13521.16, 10507.28, 14298.36, 10088.36,\n",
       "       23224.56, 10510.32, 14351.8 , 16102.16, 15171.8 , 19321.72,\n",
       "       12643.92, 14590.48, 13110.84, 11965.68, 11054.84, 12281.68,\n",
       "       12824.4 , 10447.36,  8315.92,  8671.44,  8646.16, 15600.4 ,\n",
       "       12736.68, 14979.28, 18402.4 ,  8128.08, 11055.08,  9892.08,\n",
       "       16515.2 , 11957.72,  3983.68, 13908.84, 12957.48, 10406.4 ,\n",
       "       14915.6 ,  7303.36, 10101.08,  9312.4 , 18277.16, 11483.68,\n",
       "       11985.44, 19234.52, 14496.08,  9165.4 , 14203.52, 12682.76,\n",
       "       11716.48, 10313.96,  5570.8 , 14307.56,  8696.28,  6857.76,\n",
       "       10872.96, 10904.6 , 18522.68, 13415.2 , 14481.4 , 10043.08,\n",
       "       10231.32, 17706.84, 16306.2 , 10512.96, 10014.44, 16867.56,\n",
       "       17697.08,  9725.  , 18778.12, 13591.88, 13590.36, 12239.04,\n",
       "       12305.  ,  7088.56,  8779.6 , 13086.52,  6856.96, 19512.92,\n",
       "       16105.64, 11255.04, 10708.32,  8815.96,  9079.72, 18479.44,\n",
       "       15421.48, 13153.64,  7016.4 , 14830.88, 13781.96,  9967.2 ,\n",
       "       15274.84, 13830.88, 14331.76, 16595.28, 12339.56,  9031.08,\n",
       "       12142.  , 11843.6 , 13646.24,  5009.12, 11048.4 , 10577.  ,\n",
       "       14475.16,  7210.  , 10836.2 ,  9583.48,  7997.84,  8879.72,\n",
       "        8615.12, 16380.48, 10783.24, 13927.4 ,  9639.48, 12816.64,\n",
       "       16040.92, 16493.76, 17309.52, 10515.6 , 12863.44, 11963.52,\n",
       "        6261.92,  9907.84, 11083.  ,  9780.96, 14904.68, 10984.32,\n",
       "       12183.64, 19351.32,  9446.6 , 12325.96, 13876.24, 15845.6 ,\n",
       "       12659.76,  5746.64, 13771.6 , 16411.04, 18514.  , 14538.16,\n",
       "        8991.64, 11522.68, 15638.6 ,  9473.44,  5398.92, 14199.48,\n",
       "        9587.32, 19031.52, 15469.68, 12576.12, 16474.12, 14782.96,\n",
       "        9771.64, 12928.88, 10126.96, 13729.44, 10235.12, 16154.  ,\n",
       "        8478.12, 18391.48,  9874.48, 11631.76, 15802.  , 14135.2 ,\n",
       "       13478.92, 19065.88, 12463.28, 15084.28, 14963.8 , 17526.  ,\n",
       "        9394.6 , 12043.96, 19960.64, 11567.24,  9974.4 , 15481.2 ,\n",
       "       15753.2 , 21180.52, 11285.56,  9107.16, 20244.04, 15589.56,\n",
       "       12159.  , 11867.64, 20916.56, 20051.  , 18919.12, 16953.64,\n",
       "       13627.12, 13215.24])"
      ]
     },
     "execution_count": 10,
     "metadata": {},
     "output_type": "execute_result"
    }
   ],
   "source": [
    "direct_payment= farm_size* 412 - np.random.randint(200, 300, farm_size.size)\n",
    "# I have generated direct payment amounts bases on number of hectares\n",
    "# I have added noise to ths distribution using numpy.random.randint to add some random integer to the basic calculation\n",
    "# The reason for this is their is a variation in entitlement amount per farm\n",
    "direct_payment.round(2)\n",
    "# print direct payment rounded to decimal places"
   ]
  },
  {
   "cell_type": "markdown",
   "metadata": {},
   "source": [
    "#### Relationship between farm size and direct payment amount:"
   ]
  },
  {
   "cell_type": "code",
   "execution_count": 11,
   "metadata": {},
   "outputs": [],
   "source": [
    "df = pd.DataFrame(data={\"Farm Size\": farm_size, \"Direct Payments\": direct_payment})\n",
    "# pandas dataframe created containing the values for farm size and direct payment \n",
    "# df\n",
    "# I have commented out df above to save space in this notebook. "
   ]
  },
  {
   "cell_type": "markdown",
   "metadata": {},
   "source": [
    "##### Seaborn.pairplot\n",
    "\n",
    "The documentation for seaborn.pairplot is here: https://seaborn.pydata.org/generated/seaborn.pairplot.html\n",
    "\n",
    "I read about seaborn.pairplot on the following blog post: https://towardsdatascience.com/visualizing-data-with-pair-plots-in-python-f228cf529166 and I found the below section interesting:\n",
    "\n",
    "\"I’m still amazed that one simple line of code gives us this entire plot! The pairs plot builds on two basic figures, the histogram and the scatter plot. The histogram on the diagonal allows us to see the distribution of a single variable while the scatter plots on the upper and lower triangles show the relationship (or lack thereof) between two variables.\"\n",
    "\n",
    "From: https://towardsdatascience.com/visualizing-data-with-pair-plots-in-python-f228cf529166"
   ]
  },
  {
   "cell_type": "code",
   "execution_count": 12,
   "metadata": {},
   "outputs": [
    {
     "data": {
      "text/plain": [
       "<seaborn.axisgrid.PairGrid at 0x21c5ae5ff28>"
      ]
     },
     "execution_count": 12,
     "metadata": {},
     "output_type": "execute_result"
    },
    {
     "data": {
      "image/png": "[encoded data removed]",
      "text/plain": [
       "<Figure size 360x360 with 6 Axes>"
      ]
     },
     "metadata": {
      "needs_background": "light"
     },
     "output_type": "display_data"
    }
   ],
   "source": [
    "sns.pairplot(df)"
   ]
  },
  {
   "cell_type": "markdown",
   "metadata": {},
   "source": [
    "#### Seaborn.relplot\n",
    "\n",
    "A relplot in seaborn is used to show the relationship between two variables, and also allows the mapping of subsets. \n",
    "\n",
    "The Seaborn.relplot documentation: https://seaborn.pydata.org/generated/seaborn.relplot.html#seaborn.relplot\n",
    "\n",
    "\"This function provides access to several different axes-level functions that show the relationship between two variables with semantic mappings of subsets. The kind parameter selects the underlying axes-level function to use:\"\n",
    "\n",
    "Source: https://seaborn.pydata.org/generated/seaborn.relplot.html#seaborn.relplot"
   ]
  },
  {
   "cell_type": "code",
   "execution_count": 13,
   "metadata": {},
   "outputs": [
    {
     "data": {
      "image/png": "[encoded data removed]",
      "text/plain": [
       "<Figure size 360x360 with 1 Axes>"
      ]
     },
     "metadata": {
      "needs_background": "light"
     },
     "output_type": "display_data"
    }
   ],
   "source": [
    "sns.relplot(x=\"Farm Size\", y=\"Direct Payments\", data=df);"
   ]
  },
  {
   "cell_type": "markdown",
   "metadata": {},
   "source": [
    "From the above plots I can see there is a linear relationshop between farm size and direct payment amount claimed. "
   ]
  },
  {
   "cell_type": "markdown",
   "metadata": {},
   "source": [
    "#### What is the average farm size and direct payment amounts?"
   ]
  },
  {
   "cell_type": "code",
   "execution_count": 14,
   "metadata": {},
   "outputs": [
    {
     "name": "stdout",
     "output_type": "stream",
     "text": [
      "The average farm size is:\n",
      "31.77\n",
      "The average direct payment amount is:\n",
      "12840.83\n"
     ]
    }
   ],
   "source": [
    "print(\"The average farm size is:\")\n",
    "print(np.mean(farm_size).round(2))\n",
    "print(\"The average direct payment amount is:\")\n",
    "print(np.mean(direct_payment).round(2))"
   ]
  },
  {
   "cell_type": "markdown",
   "metadata": {},
   "source": [
    "#### What is the average payment per hectare?"
   ]
  },
  {
   "cell_type": "code",
   "execution_count": 15,
   "metadata": {},
   "outputs": [
    {
     "data": {
      "text/plain": [
       "404.22"
      ]
     },
     "execution_count": 15,
     "metadata": {},
     "output_type": "execute_result"
    }
   ],
   "source": [
    "Rate=np.mean(direct_payment)/np.mean(farm_size)\n",
    "Rate.round(2)"
   ]
  },
  {
   "cell_type": "code",
   "execution_count": 16,
   "metadata": {},
   "outputs": [
    {
     "data": {
      "text/plain": [
       "array([404.56428075, 402.3782349 , 404.73827534, 402.54826774,\n",
       "       401.28844682, 405.77751688, 403.24187479, 405.04758691,\n",
       "       403.86302231, 402.1155839 , 405.30518697, 405.4347275 ,\n",
       "       404.36947791, 406.12240496, 404.4618606 , 401.19434899,\n",
       "       405.28231293, 403.05073911, 408.30801688, 402.54002298,\n",
       "       405.4180791 , 405.80040323, 405.6631016 , 406.25988225,\n",
       "       402.54441261, 404.84128746, 405.65717822, 403.70040486,\n",
       "       404.64275256, 404.13557091, 404.55520505, 401.35843258,\n",
       "       397.70062171, 401.08418131, 398.80811808, 405.73211964,\n",
       "       402.54993679, 405.5029778 , 407.13274336, 399.61061947,\n",
       "       404.35552304, 402.28060187, 406.77832512, 404.52368065,\n",
       "       383.41482194, 405.26923077, 404.41573034, 401.01734104,\n",
       "       405.31521739, 399.5273523 , 402.5938621 , 401.39655172,\n",
       "       406.79189851, 404.49735822, 404.64010804, 407.42469816,\n",
       "       404.46651786, 399.36383442, 406.2791762 , 402.88310038,\n",
       "       403.4600551 , 403.20406568, 393.69611307, 404.39683437,\n",
       "       400.93499308, 398.01276843, 401.51255539, 403.12754159,\n",
       "       405.84312007, 405.29305136, 405.64145658, 400.28218414,\n",
       "       403.44321767, 406.39981639, 406.63840399, 403.10429448,\n",
       "       402.67149176, 405.17799664, 405.98944712, 401.03092784,\n",
       "       405.9256377 , 405.84891012, 405.31941545, 402.33530572,\n",
       "       403.44262295, 396.45190157, 402.73394495, 403.15834874,\n",
       "       395.66993653, 407.28282196, 405.47935549, 403.11747851,\n",
       "       402.41713641, 399.27355072, 402.46985816, 407.3052678 ,\n",
       "       405.40168244, 405.1013243 , 396.40677966, 406.43683201,\n",
       "       404.40023474, 401.0945674 , 406.57013575, 403.93925234,\n",
       "       403.93912063, 405.35613092, 402.85863532, 399.78220452,\n",
       "       404.73333333, 404.21843003, 404.09357418, 392.56426332,\n",
       "       402.49180328, 402.93333333, 405.69394619, 400.55555556,\n",
       "       403.58286778, 402.83648592, 398.49725959, 402.52583862,\n",
       "       400.51696885, 406.56440804, 402.81060889, 404.27866473,\n",
       "       400.97670549, 404.0554855 , 404.4609178 , 404.95359686,\n",
       "       405.28026223, 403.66986564, 403.62221525, 402.67653989,\n",
       "       393.58390949, 403.24949125, 403.01818182, 402.01233046,\n",
       "       404.03036053, 401.47368421, 403.16479153, 406.45494644,\n",
       "       401.12951168, 403.07259647, 404.90925007, 405.77720871,\n",
       "       405.37175793, 397.14167243, 404.45227606, 406.01286492,\n",
       "       406.9010989 , 404.62454773, 400.16199377, 402.32821229,\n",
       "       405.67055772, 401.07705334, 395.23572474, 405.23630137,\n",
       "       401.81559095, 407.43994862, 405.60251704, 405.55046759,\n",
       "       406.66798321, 404.12684527, 403.45334434, 404.15379806,\n",
       "       403.78628389, 405.35695306, 401.21991376, 406.38993711,\n",
       "       398.7826905 , 406.08257894, 402.38304808, 404.86460146,\n",
       "       405.17948718, 405.60114778, 403.43968872, 405.74334965,\n",
       "       402.82094376, 405.60043022, 405.52303523, 405.22543353,\n",
       "       403.20171674, 403.75326852, 407.60955687, 402.05908933,\n",
       "       403.82186235, 406.33070866, 405.48777349, 407.63125481,\n",
       "       404.79053085, 401.55026455, 407.57076706, 406.18968213,\n",
       "       405.3       , 402.70240923, 407.09536785, 407.12690355,\n",
       "       406.77531714, 406.36720997, 403.64691943, 403.27250534])"
      ]
     },
     "execution_count": 16,
     "metadata": {},
     "output_type": "execute_result"
    }
   ],
   "source": [
    "Rate_All= direct_payment/farm_size\n",
    "Rate_All"
   ]
  },
  {
   "cell_type": "markdown",
   "metadata": {},
   "source": [
    "#### Section 3.2 References\n",
    "* Teagasc National Farm Survey 2016: https://www.teagasc.ie/media/website/publications/2017/NFS-2016-Final-Report.pdf\n",
    "* Department of Agriculture, Food and The Marine website: https://www.agriculture.gov.ie/farmerschemespayments/basicpaymentschemegreeningareasofnaturalconstraints/\n",
    "* 2019 Basic Payment Scheme terms and conditions: https://www.agriculture.gov.ie/farmerschemespayments/basicpaymentschemegreeningareasofnaturalconstraints/2019basicpaymentschemegreeningareasofnaturalconstraints/\n",
    "* Basic Payment Scheme explained: https://www.agriland.ie/farming-news/basis-payments-scheme-explained/\n",
    "* 2019 National Reserve and Young Farmers Scheme: https://www.agriculture.gov.ie/farmerschemespayments/capentitlementsrelatedinformationandapplicationforms/2019nationalreserveandyoungfarmersscheme/. \n",
    "* BDGP scheme: https://www.agriculture.gov.ie/beefschemes/\n",
    "* BEEP scheme: https://www.agriculture.gov.ie/beep/\n",
    "* BEAM scheme: https://www.agriculture.gov.ie/farmerschemespayments/beam/. \n",
    "* Scottish Government - Rural payments and services: https://www.ruralpayments.org/publicsite/futures/topics/all-schemes/basic-payment-scheme/\n",
    "* Payment Entitlement Update 2019: https://www.agriculture.gov.ie/media/migration/farmingschemesandpayments/capentitlementsrelatedapplicationforms/2019/PaymentEntitlementUpdate240119.pdf\n",
    "* numpy.random.randint: https://docs.scipy.org/doc/numpy-1.14.0/reference/generated/numpy.random.randint.html#numpy.random.randint\n",
    "* The Seaborn.relplot documentation: https://seaborn.pydata.org/generated/seaborn.relplot.html#seaborn.relplot\n",
    "* Seaborn.relplot blog post: https://seaborn.pydata.org/generated/seaborn.relplot.html#seaborn.relplot\n",
    "* The documentation for seaborn.pairplot: https://seaborn.pydata.org/generated/seaborn.pairplot.html\n",
    "* Seaborn.pairplot blog post: https://towardsdatascience.com/visualizing-data-with-pair-plots-in-python-f228cf529166\n",
    "* Irish Independent - Facts and figures on the CAP in Ireland: https://www.independent.ie/business/farming/schemes/facts-and-figures-on-the-cap-in-ireland-where-the-money-comes-from-and-who-gets-it-37774326.html\n",
    "* Proposal in to introduce €100,000 ceiling on CAP payments from 2020: https://www.irishexaminer.com/breakingnews/ireland/around-200-farms-to-be-affected-by-100000-cap-limit-884479.html"
   ]
  },
  {
   "cell_type": "markdown",
   "metadata": {},
   "source": [
    "#### Variable 3 - Gender of Farmholder"
   ]
  },
  {
   "cell_type": "code",
   "execution_count": 17,
   "metadata": {},
   "outputs": [
    {
     "data": {
      "text/plain": [
       "array(['Male', 'Male', 'Female', 'Male', 'Female', 'Female', 'Male',\n",
       "       'Male', 'Male', 'Male', 'Male', 'Male', 'Male', 'Female', 'Male',\n",
       "       'Male', 'Male', 'Male', 'Female', 'Male', 'Male', 'Male', 'Male',\n",
       "       'Male', 'Male', 'Male', 'Male', 'Male', 'Male', 'Male', 'Male',\n",
       "       'Male', 'Male', 'Female', 'Female', 'Male', 'Male', 'Male', 'Male',\n",
       "       'Male', 'Male', 'Male', 'Male', 'Male', 'Female', 'Male', 'Male',\n",
       "       'Male', 'Female', 'Male', 'Male', 'Female', 'Male', 'Male', 'Male',\n",
       "       'Male', 'Male', 'Male', 'Male', 'Male', 'Male', 'Male', 'Male',\n",
       "       'Female', 'Male', 'Male', 'Male', 'Male', 'Male', 'Male', 'Male',\n",
       "       'Male', 'Female', 'Male', 'Male', 'Male', 'Male', 'Male', 'Male',\n",
       "       'Male', 'Male', 'Male', 'Male', 'Male', 'Male', 'Male', 'Male',\n",
       "       'Male', 'Male', 'Male', 'Male', 'Male', 'Male', 'Male', 'Male',\n",
       "       'Female', 'Male', 'Male', 'Male', 'Male', 'Male', 'Male', 'Male',\n",
       "       'Male', 'Male', 'Male', 'Male', 'Male', 'Male', 'Male', 'Male',\n",
       "       'Male', 'Male', 'Female', 'Male', 'Male', 'Male', 'Male', 'Male',\n",
       "       'Male', 'Male', 'Male', 'Male', 'Male', 'Male', 'Male', 'Male',\n",
       "       'Male', 'Male', 'Male', 'Male', 'Male', 'Female', 'Male', 'Male',\n",
       "       'Male', 'Female', 'Male', 'Female', 'Male', 'Female', 'Male',\n",
       "       'Female', 'Male', 'Male', 'Male', 'Male', 'Male', 'Male', 'Male',\n",
       "       'Male', 'Male', 'Female', 'Male', 'Male', 'Male', 'Male', 'Male',\n",
       "       'Male', 'Male', 'Male', 'Male', 'Male', 'Male', 'Male', 'Male',\n",
       "       'Male', 'Male', 'Female', 'Male', 'Male', 'Male', 'Male', 'Male',\n",
       "       'Male', 'Male', 'Male', 'Male', 'Male', 'Male', 'Male', 'Male',\n",
       "       'Male', 'Male', 'Male', 'Male', 'Male', 'Male', 'Male', 'Male',\n",
       "       'Male', 'Female', 'Male', 'Male', 'Male', 'Male', 'Male', 'Male',\n",
       "       'Male', 'Male'], dtype='<U6')"
      ]
     },
     "execution_count": 17,
     "metadata": {},
     "output_type": "execute_result"
    }
   ],
   "source": [
    "Gender = np.random.choice(['Male', 'Female'], 200, p=[0.9, 0.1])\n",
    "Gender"
   ]
  },
  {
   "cell_type": "markdown",
   "metadata": {},
   "source": [
    "### Data simulation as a pandas dataframe:"
   ]
  },
  {
   "cell_type": "code",
   "execution_count": 18,
   "metadata": {},
   "outputs": [
    {
     "data": {
      "text/html": [
       "<div>\n",
       "<style scoped>\n",
       "    .dataframe tbody tr th:only-of-type {\n",
       "        vertical-align: middle;\n",
       "    }\n",
       "\n",
       "    .dataframe tbody tr th {\n",
       "        vertical-align: top;\n",
       "    }\n",
       "\n",
       "    .dataframe thead th {\n",
       "        text-align: right;\n",
       "    }\n",
       "</style>\n",
       "<table border=\"1\" class=\"dataframe\">\n",
       "  <thead>\n",
       "    <tr style=\"text-align: right;\">\n",
       "      <th></th>\n",
       "      <th>Farm Size</th>\n",
       "      <th>Direct Payments</th>\n",
       "      <th>Gender</th>\n",
       "      <th>BPS Rate</th>\n",
       "    </tr>\n",
       "  </thead>\n",
       "  <tbody>\n",
       "    <tr>\n",
       "      <th>0</th>\n",
       "      <td>28.78</td>\n",
       "      <td>11643.36</td>\n",
       "      <td>Male</td>\n",
       "      <td>404.56</td>\n",
       "    </tr>\n",
       "    <tr>\n",
       "      <th>1</th>\n",
       "      <td>30.14</td>\n",
       "      <td>12127.68</td>\n",
       "      <td>Male</td>\n",
       "      <td>402.38</td>\n",
       "    </tr>\n",
       "    <tr>\n",
       "      <th>2</th>\n",
       "      <td>33.05</td>\n",
       "      <td>13376.60</td>\n",
       "      <td>Female</td>\n",
       "      <td>404.74</td>\n",
       "    </tr>\n",
       "    <tr>\n",
       "      <th>3</th>\n",
       "      <td>29.73</td>\n",
       "      <td>11967.76</td>\n",
       "      <td>Male</td>\n",
       "      <td>402.55</td>\n",
       "    </tr>\n",
       "    <tr>\n",
       "      <th>4</th>\n",
       "      <td>26.14</td>\n",
       "      <td>10489.68</td>\n",
       "      <td>Female</td>\n",
       "      <td>401.29</td>\n",
       "    </tr>\n",
       "    <tr>\n",
       "      <th>5</th>\n",
       "      <td>34.07</td>\n",
       "      <td>13824.84</td>\n",
       "      <td>Female</td>\n",
       "      <td>405.78</td>\n",
       "    </tr>\n",
       "    <tr>\n",
       "      <th>6</th>\n",
       "      <td>29.23</td>\n",
       "      <td>11786.76</td>\n",
       "      <td>Male</td>\n",
       "      <td>403.24</td>\n",
       "    </tr>\n",
       "    <tr>\n",
       "      <th>7</th>\n",
       "      <td>29.63</td>\n",
       "      <td>12001.56</td>\n",
       "      <td>Male</td>\n",
       "      <td>405.05</td>\n",
       "    </tr>\n",
       "    <tr>\n",
       "      <th>8</th>\n",
       "      <td>31.83</td>\n",
       "      <td>12854.96</td>\n",
       "      <td>Male</td>\n",
       "      <td>403.86</td>\n",
       "    </tr>\n",
       "    <tr>\n",
       "      <th>9</th>\n",
       "      <td>25.09</td>\n",
       "      <td>10089.08</td>\n",
       "      <td>Male</td>\n",
       "      <td>402.12</td>\n",
       "    </tr>\n",
       "    <tr>\n",
       "      <th>10</th>\n",
       "      <td>33.16</td>\n",
       "      <td>13439.92</td>\n",
       "      <td>Male</td>\n",
       "      <td>405.31</td>\n",
       "    </tr>\n",
       "    <tr>\n",
       "      <th>11</th>\n",
       "      <td>39.45</td>\n",
       "      <td>15994.40</td>\n",
       "      <td>Male</td>\n",
       "      <td>405.43</td>\n",
       "    </tr>\n",
       "    <tr>\n",
       "      <th>12</th>\n",
       "      <td>32.37</td>\n",
       "      <td>13089.44</td>\n",
       "      <td>Male</td>\n",
       "      <td>404.37</td>\n",
       "    </tr>\n",
       "    <tr>\n",
       "      <th>13</th>\n",
       "      <td>37.09</td>\n",
       "      <td>15063.08</td>\n",
       "      <td>Female</td>\n",
       "      <td>406.12</td>\n",
       "    </tr>\n",
       "    <tr>\n",
       "      <th>14</th>\n",
       "      <td>33.43</td>\n",
       "      <td>13521.16</td>\n",
       "      <td>Male</td>\n",
       "      <td>404.46</td>\n",
       "    </tr>\n",
       "    <tr>\n",
       "      <th>15</th>\n",
       "      <td>26.19</td>\n",
       "      <td>10507.28</td>\n",
       "      <td>Male</td>\n",
       "      <td>401.19</td>\n",
       "    </tr>\n",
       "    <tr>\n",
       "      <th>16</th>\n",
       "      <td>35.28</td>\n",
       "      <td>14298.36</td>\n",
       "      <td>Male</td>\n",
       "      <td>405.28</td>\n",
       "    </tr>\n",
       "    <tr>\n",
       "      <th>17</th>\n",
       "      <td>25.03</td>\n",
       "      <td>10088.36</td>\n",
       "      <td>Male</td>\n",
       "      <td>403.05</td>\n",
       "    </tr>\n",
       "    <tr>\n",
       "      <th>18</th>\n",
       "      <td>56.88</td>\n",
       "      <td>23224.56</td>\n",
       "      <td>Female</td>\n",
       "      <td>408.31</td>\n",
       "    </tr>\n",
       "    <tr>\n",
       "      <th>19</th>\n",
       "      <td>26.11</td>\n",
       "      <td>10510.32</td>\n",
       "      <td>Male</td>\n",
       "      <td>402.54</td>\n",
       "    </tr>\n",
       "    <tr>\n",
       "      <th>20</th>\n",
       "      <td>35.40</td>\n",
       "      <td>14351.80</td>\n",
       "      <td>Male</td>\n",
       "      <td>405.42</td>\n",
       "    </tr>\n",
       "    <tr>\n",
       "      <th>21</th>\n",
       "      <td>39.68</td>\n",
       "      <td>16102.16</td>\n",
       "      <td>Male</td>\n",
       "      <td>405.80</td>\n",
       "    </tr>\n",
       "    <tr>\n",
       "      <th>22</th>\n",
       "      <td>37.40</td>\n",
       "      <td>15171.80</td>\n",
       "      <td>Male</td>\n",
       "      <td>405.66</td>\n",
       "    </tr>\n",
       "    <tr>\n",
       "      <th>23</th>\n",
       "      <td>47.56</td>\n",
       "      <td>19321.72</td>\n",
       "      <td>Male</td>\n",
       "      <td>406.26</td>\n",
       "    </tr>\n",
       "    <tr>\n",
       "      <th>24</th>\n",
       "      <td>31.41</td>\n",
       "      <td>12643.92</td>\n",
       "      <td>Male</td>\n",
       "      <td>402.54</td>\n",
       "    </tr>\n",
       "    <tr>\n",
       "      <th>25</th>\n",
       "      <td>36.04</td>\n",
       "      <td>14590.48</td>\n",
       "      <td>Male</td>\n",
       "      <td>404.84</td>\n",
       "    </tr>\n",
       "    <tr>\n",
       "      <th>26</th>\n",
       "      <td>32.32</td>\n",
       "      <td>13110.84</td>\n",
       "      <td>Male</td>\n",
       "      <td>405.66</td>\n",
       "    </tr>\n",
       "    <tr>\n",
       "      <th>27</th>\n",
       "      <td>29.64</td>\n",
       "      <td>11965.68</td>\n",
       "      <td>Male</td>\n",
       "      <td>403.70</td>\n",
       "    </tr>\n",
       "    <tr>\n",
       "      <th>28</th>\n",
       "      <td>27.32</td>\n",
       "      <td>11054.84</td>\n",
       "      <td>Male</td>\n",
       "      <td>404.64</td>\n",
       "    </tr>\n",
       "    <tr>\n",
       "      <th>29</th>\n",
       "      <td>30.39</td>\n",
       "      <td>12281.68</td>\n",
       "      <td>Male</td>\n",
       "      <td>404.14</td>\n",
       "    </tr>\n",
       "    <tr>\n",
       "      <th>...</th>\n",
       "      <td>...</td>\n",
       "      <td>...</td>\n",
       "      <td>...</td>\n",
       "      <td>...</td>\n",
       "    </tr>\n",
       "    <tr>\n",
       "      <th>170</th>\n",
       "      <td>24.54</td>\n",
       "      <td>9874.48</td>\n",
       "      <td>Male</td>\n",
       "      <td>402.38</td>\n",
       "    </tr>\n",
       "    <tr>\n",
       "      <th>171</th>\n",
       "      <td>28.73</td>\n",
       "      <td>11631.76</td>\n",
       "      <td>Male</td>\n",
       "      <td>404.86</td>\n",
       "    </tr>\n",
       "    <tr>\n",
       "      <th>172</th>\n",
       "      <td>39.00</td>\n",
       "      <td>15802.00</td>\n",
       "      <td>Male</td>\n",
       "      <td>405.18</td>\n",
       "    </tr>\n",
       "    <tr>\n",
       "      <th>173</th>\n",
       "      <td>34.85</td>\n",
       "      <td>14135.20</td>\n",
       "      <td>Male</td>\n",
       "      <td>405.60</td>\n",
       "    </tr>\n",
       "    <tr>\n",
       "      <th>174</th>\n",
       "      <td>33.41</td>\n",
       "      <td>13478.92</td>\n",
       "      <td>Male</td>\n",
       "      <td>403.44</td>\n",
       "    </tr>\n",
       "    <tr>\n",
       "      <th>175</th>\n",
       "      <td>46.99</td>\n",
       "      <td>19065.88</td>\n",
       "      <td>Male</td>\n",
       "      <td>405.74</td>\n",
       "    </tr>\n",
       "    <tr>\n",
       "      <th>176</th>\n",
       "      <td>30.94</td>\n",
       "      <td>12463.28</td>\n",
       "      <td>Male</td>\n",
       "      <td>402.82</td>\n",
       "    </tr>\n",
       "    <tr>\n",
       "      <th>177</th>\n",
       "      <td>37.19</td>\n",
       "      <td>15084.28</td>\n",
       "      <td>Male</td>\n",
       "      <td>405.60</td>\n",
       "    </tr>\n",
       "    <tr>\n",
       "      <th>178</th>\n",
       "      <td>36.90</td>\n",
       "      <td>14963.80</td>\n",
       "      <td>Male</td>\n",
       "      <td>405.52</td>\n",
       "    </tr>\n",
       "    <tr>\n",
       "      <th>179</th>\n",
       "      <td>43.25</td>\n",
       "      <td>17526.00</td>\n",
       "      <td>Male</td>\n",
       "      <td>405.23</td>\n",
       "    </tr>\n",
       "    <tr>\n",
       "      <th>180</th>\n",
       "      <td>23.30</td>\n",
       "      <td>9394.60</td>\n",
       "      <td>Male</td>\n",
       "      <td>403.20</td>\n",
       "    </tr>\n",
       "    <tr>\n",
       "      <th>181</th>\n",
       "      <td>29.83</td>\n",
       "      <td>12043.96</td>\n",
       "      <td>Male</td>\n",
       "      <td>403.75</td>\n",
       "    </tr>\n",
       "    <tr>\n",
       "      <th>182</th>\n",
       "      <td>48.97</td>\n",
       "      <td>19960.64</td>\n",
       "      <td>Male</td>\n",
       "      <td>407.61</td>\n",
       "    </tr>\n",
       "    <tr>\n",
       "      <th>183</th>\n",
       "      <td>28.77</td>\n",
       "      <td>11567.24</td>\n",
       "      <td>Male</td>\n",
       "      <td>402.06</td>\n",
       "    </tr>\n",
       "    <tr>\n",
       "      <th>184</th>\n",
       "      <td>24.70</td>\n",
       "      <td>9974.40</td>\n",
       "      <td>Male</td>\n",
       "      <td>403.82</td>\n",
       "    </tr>\n",
       "    <tr>\n",
       "      <th>185</th>\n",
       "      <td>38.10</td>\n",
       "      <td>15481.20</td>\n",
       "      <td>Male</td>\n",
       "      <td>406.33</td>\n",
       "    </tr>\n",
       "    <tr>\n",
       "      <th>186</th>\n",
       "      <td>38.85</td>\n",
       "      <td>15753.20</td>\n",
       "      <td>Male</td>\n",
       "      <td>405.49</td>\n",
       "    </tr>\n",
       "    <tr>\n",
       "      <th>187</th>\n",
       "      <td>51.96</td>\n",
       "      <td>21180.52</td>\n",
       "      <td>Male</td>\n",
       "      <td>407.63</td>\n",
       "    </tr>\n",
       "    <tr>\n",
       "      <th>188</th>\n",
       "      <td>27.88</td>\n",
       "      <td>11285.56</td>\n",
       "      <td>Male</td>\n",
       "      <td>404.79</td>\n",
       "    </tr>\n",
       "    <tr>\n",
       "      <th>189</th>\n",
       "      <td>22.68</td>\n",
       "      <td>9107.16</td>\n",
       "      <td>Male</td>\n",
       "      <td>401.55</td>\n",
       "    </tr>\n",
       "    <tr>\n",
       "      <th>190</th>\n",
       "      <td>49.67</td>\n",
       "      <td>20244.04</td>\n",
       "      <td>Male</td>\n",
       "      <td>407.57</td>\n",
       "    </tr>\n",
       "    <tr>\n",
       "      <th>191</th>\n",
       "      <td>38.38</td>\n",
       "      <td>15589.56</td>\n",
       "      <td>Female</td>\n",
       "      <td>406.19</td>\n",
       "    </tr>\n",
       "    <tr>\n",
       "      <th>192</th>\n",
       "      <td>30.00</td>\n",
       "      <td>12159.00</td>\n",
       "      <td>Male</td>\n",
       "      <td>405.30</td>\n",
       "    </tr>\n",
       "    <tr>\n",
       "      <th>193</th>\n",
       "      <td>29.47</td>\n",
       "      <td>11867.64</td>\n",
       "      <td>Male</td>\n",
       "      <td>402.70</td>\n",
       "    </tr>\n",
       "    <tr>\n",
       "      <th>194</th>\n",
       "      <td>51.38</td>\n",
       "      <td>20916.56</td>\n",
       "      <td>Male</td>\n",
       "      <td>407.10</td>\n",
       "    </tr>\n",
       "    <tr>\n",
       "      <th>195</th>\n",
       "      <td>49.25</td>\n",
       "      <td>20051.00</td>\n",
       "      <td>Male</td>\n",
       "      <td>407.13</td>\n",
       "    </tr>\n",
       "    <tr>\n",
       "      <th>196</th>\n",
       "      <td>46.51</td>\n",
       "      <td>18919.12</td>\n",
       "      <td>Male</td>\n",
       "      <td>406.78</td>\n",
       "    </tr>\n",
       "    <tr>\n",
       "      <th>197</th>\n",
       "      <td>41.72</td>\n",
       "      <td>16953.64</td>\n",
       "      <td>Male</td>\n",
       "      <td>406.37</td>\n",
       "    </tr>\n",
       "    <tr>\n",
       "      <th>198</th>\n",
       "      <td>33.76</td>\n",
       "      <td>13627.12</td>\n",
       "      <td>Male</td>\n",
       "      <td>403.65</td>\n",
       "    </tr>\n",
       "    <tr>\n",
       "      <th>199</th>\n",
       "      <td>32.77</td>\n",
       "      <td>13215.24</td>\n",
       "      <td>Male</td>\n",
       "      <td>403.27</td>\n",
       "    </tr>\n",
       "  </tbody>\n",
       "</table>\n",
       "<p>200 rows × 4 columns</p>\n",
       "</div>"
      ],
      "text/plain": [
       "     Farm Size  Direct Payments  Gender  BPS Rate\n",
       "0        28.78         11643.36    Male    404.56\n",
       "1        30.14         12127.68    Male    402.38\n",
       "2        33.05         13376.60  Female    404.74\n",
       "3        29.73         11967.76    Male    402.55\n",
       "4        26.14         10489.68  Female    401.29\n",
       "5        34.07         13824.84  Female    405.78\n",
       "6        29.23         11786.76    Male    403.24\n",
       "7        29.63         12001.56    Male    405.05\n",
       "8        31.83         12854.96    Male    403.86\n",
       "9        25.09         10089.08    Male    402.12\n",
       "10       33.16         13439.92    Male    405.31\n",
       "11       39.45         15994.40    Male    405.43\n",
       "12       32.37         13089.44    Male    404.37\n",
       "13       37.09         15063.08  Female    406.12\n",
       "14       33.43         13521.16    Male    404.46\n",
       "15       26.19         10507.28    Male    401.19\n",
       "16       35.28         14298.36    Male    405.28\n",
       "17       25.03         10088.36    Male    403.05\n",
       "18       56.88         23224.56  Female    408.31\n",
       "19       26.11         10510.32    Male    402.54\n",
       "20       35.40         14351.80    Male    405.42\n",
       "21       39.68         16102.16    Male    405.80\n",
       "22       37.40         15171.80    Male    405.66\n",
       "23       47.56         19321.72    Male    406.26\n",
       "24       31.41         12643.92    Male    402.54\n",
       "25       36.04         14590.48    Male    404.84\n",
       "26       32.32         13110.84    Male    405.66\n",
       "27       29.64         11965.68    Male    403.70\n",
       "28       27.32         11054.84    Male    404.64\n",
       "29       30.39         12281.68    Male    404.14\n",
       "..         ...              ...     ...       ...\n",
       "170      24.54          9874.48    Male    402.38\n",
       "171      28.73         11631.76    Male    404.86\n",
       "172      39.00         15802.00    Male    405.18\n",
       "173      34.85         14135.20    Male    405.60\n",
       "174      33.41         13478.92    Male    403.44\n",
       "175      46.99         19065.88    Male    405.74\n",
       "176      30.94         12463.28    Male    402.82\n",
       "177      37.19         15084.28    Male    405.60\n",
       "178      36.90         14963.80    Male    405.52\n",
       "179      43.25         17526.00    Male    405.23\n",
       "180      23.30          9394.60    Male    403.20\n",
       "181      29.83         12043.96    Male    403.75\n",
       "182      48.97         19960.64    Male    407.61\n",
       "183      28.77         11567.24    Male    402.06\n",
       "184      24.70          9974.40    Male    403.82\n",
       "185      38.10         15481.20    Male    406.33\n",
       "186      38.85         15753.20    Male    405.49\n",
       "187      51.96         21180.52    Male    407.63\n",
       "188      27.88         11285.56    Male    404.79\n",
       "189      22.68          9107.16    Male    401.55\n",
       "190      49.67         20244.04    Male    407.57\n",
       "191      38.38         15589.56  Female    406.19\n",
       "192      30.00         12159.00    Male    405.30\n",
       "193      29.47         11867.64    Male    402.70\n",
       "194      51.38         20916.56    Male    407.10\n",
       "195      49.25         20051.00    Male    407.13\n",
       "196      46.51         18919.12    Male    406.78\n",
       "197      41.72         16953.64    Male    406.37\n",
       "198      33.76         13627.12    Male    403.65\n",
       "199      32.77         13215.24    Male    403.27\n",
       "\n",
       "[200 rows x 4 columns]"
      ]
     },
     "execution_count": 18,
     "metadata": {},
     "output_type": "execute_result"
    }
   ],
   "source": [
    "df = pd.DataFrame(data={\"Farm Size\": farm_size, \"Direct Payments\": direct_payment.round(2), \"Gender\": Gender, \"BPS Rate\": Rate_All.round(2)})\n",
    "df"
   ]
  },
  {
   "cell_type": "code",
   "execution_count": null,
   "metadata": {},
   "outputs": [],
   "source": []
  },
  {
   "cell_type": "code",
   "execution_count": null,
   "metadata": {},
   "outputs": [],
   "source": []
  },
  {
   "cell_type": "code",
   "execution_count": null,
   "metadata": {},
   "outputs": [],
   "source": []
  }
 ],
 "metadata": {
  "kernelspec": {
   "display_name": "Python 3",
   "language": "python",
   "name": "python3"
  },
  "language_info": {
   "codemirror_mode": {
    "name": "ipython",
    "version": 3
   },
   "file_extension": ".py",
   "mimetype": "text/x-python",
   "name": "python",
   "nbconvert_exporter": "python",
   "pygments_lexer": "ipython3",
   "version": "3.7.1"
  }
 },
 "nbformat": 4,
 "nbformat_minor": 2
}
