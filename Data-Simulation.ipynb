{
 "cells": [
  {
   "cell_type": "markdown",
   "metadata": {},
   "source": [
    "# Programming for Data Analysis"
   ]
  },
  {
   "cell_type": "markdown",
   "metadata": {},
   "source": [
    "## Project 2019"
   ]
  },
  {
   "cell_type": "markdown",
   "metadata": {},
   "source": [
    "## Problem statement\n",
    "For this project you must create a data set by simulating a real-world phenomenon of\n",
    "your choosing. You may pick any phenomenon you wish – you might pick one that is\n",
    "of interest to you in your personal or professional life. Then, rather than collect data\n",
    "related to the phenomenon, you should model and synthesise such data using Python.\n",
    "We suggest you use the numpy.random package for this purpose.\n",
    "\n",
    "Specifically, in this project you should:\n",
    "\n",
    "• Choose a real-world phenomenon that can be measured and for which you could\n",
    "collect at least one-hundred data points across at least four different variables.\n",
    "\n",
    "• Investigate the types of variables involved, their likely distributions, and their\n",
    "relationships with each other.\n",
    "\n",
    "• Synthesise/simulate a data set as closely matching their properties as possible.\n",
    "\n",
    "• Detail your research and implement the simulation in a Jupyter notebook – the\n",
    "data set itself can simply be displayed in an output cell within the notebook."
   ]
  },
  {
   "cell_type": "markdown",
   "metadata": {},
   "source": [
    "## Project Plan"
   ]
  },
  {
   "cell_type": "markdown",
   "metadata": {},
   "source": [
    "**The following are the steps I will take:**\n",
    "* Investigate possible real-world phenomenons to use to create a data set. \n",
    "* When I have identified a real-world phenomenon of interest to me I will research in order to pick the variables that are of most interest to me.\n",
    "* I will ensure that at least 100 data points across at least 4 variables could be collected when dealing this real-world phenomenon \n",
    "* When I have picked the variables I would like to synthesise in the data set simulation I will research the properties of these varibales, their likely distributions and their relationships with each other.\n",
    "* Use numpy.random to synthesise a data set matching these properties that I have identified as closely as possible. \n",
    "* Detail the research in this jupyter notebook and display the simulated data in an output cell within this notebook. "
   ]
  },
  {
   "cell_type": "markdown",
   "metadata": {},
   "source": [
    "## Table of Contents\n",
    "\n",
    "* Section 1 - Introduction to Data Simulation\n",
    "* Section 2 - Investigation\n",
    "* Section 3 -Variables in my data set"
   ]
  },
  {
   "cell_type": "markdown",
   "metadata": {},
   "source": [
    "## Import the packages I will use in this project:"
   ]
  },
  {
   "cell_type": "code",
   "execution_count": 1,
   "metadata": {},
   "outputs": [],
   "source": [
    "%matplotlib inline\n",
    "# This command is used to show the interactive matplotlib plots in this notebook\n",
    "import numpy as np\n",
    "# numpy imported and given the shortened name np\n",
    "import matplotlib.pyplot as plt\n",
    "# matplotlib.pyplot imported and given the shortened name plt\n",
    "plt.rcParams['figure.figsize'] = (10, 8)\n",
    "# This command increases the size of the plot size from pyplot\n",
    "import pandas as pd\n",
    "# pandas imported and given the shortened name pd\n",
    "import seaborn as sns\n",
    "# seaborn imported and given the shortened name sns"
   ]
  },
  {
   "cell_type": "markdown",
   "metadata": {},
   "source": [
    "## Section 1 - Introduction to Data Simulation\n",
    "\n",
    "\n",
    "\n",
    "\n",
    "### Data Simulation with numpy.random\n",
    "\n",
    "The official documentation of numpy.random is here: https://docs.scipy.org/doc/numpy-1.16.0/reference/routines.random.html where you can read about all the different functions of numpy.random that are available to be used in data analysis.\n",
    "\n",
    "numpy.random is a sub package of the NumPy package within the Python library that has many functions within it that can be used to generate random numbers. As we discovered in the lectures computers do not have the ability to generate random numbers on their own and so we can use packages such as numpy.random to do this.\n",
    "\n",
    "The overall purpose of the package is to generate random numbers. Within the numpy.random package there are many functions. The full list of functions from the official numpy.random documentation page: https://docs.scipy.org/doc/numpy-1.16.0/reference/routines.random.html#simple-random-data\n",
    "\n",
    "**Within the numpy.random package there are 4 different sections:**\n",
    "\n",
    "* **Simple Random Data**\n",
    "    * Simple Random Data is essentially used to generate random numbers. Within the Simple random data there are a number of different functions that can be used to generate random numbers and each function returns results from different distributions, these include uniform distribution, standard normal distribution and continuous uniform distribution.\n",
    "    \n",
    "* **Permutations**\n",
    "    * Within Permutations there are 2 functions shuffle and permutation.The shuffle function is used to shuffle the contents of an array. In other words change the order of an array of numbers. The permutation function randomly permutes a range when given a single argument. So for example if the user enters the argument 15 in numpy.random.permutation a range of 0:14 is permuted in a random order.\n",
    "    \n",
    "* **Distributions**\n",
    "    * A probability distribution shows the relationship between a random variable and each possible outsome for that random variable.\n",
    "    \n",
    "* **Random Generator**\n",
    "    * Truly random numbers are nondeterministic, meaning they cannot be pre determined and are essentially completely random. However, machines are deterministic and they cannot therefore generate true random nondeterministic numbers. Pseudo Random Number Generator(PRNG) is an algorithm used to generate sequences of random numbers. \n"
   ]
  },
  {
   "cell_type": "markdown",
   "metadata": {},
   "source": [
    "### The role of seeds in data simulation\n",
    "\n",
    "If I wanted the same result to be given every time that I generate random data with numpy.random I could use a seed. The seed function allows the user to set the starting point for generation of random data. The numpy.random package uses the Mersenne Twister pseudo-random number generator.\n",
    "\n",
    "\"NumPy random seed is simply a function that sets the random seed of the NumPy pseudo-random number generator. It provides an essential input that enables NumPy to generate pseudo-random numbers for random processes.\"\n",
    "\n",
    "Quote taken from: https://www.sharpsightlabs.com/blog/numpy-random-seed/\n",
    "\n",
    "The numpy.random.seed documentation page: https://docs.scipy.org/doc/numpy-1.14.0/reference/generated/numpy.random.seed.html#numpy.random.seed\n",
    "\n",
    "**However for the purpose of the data simulation that I will complete in this project I will not use seeds when generating my data. The reason being I would like a different data set to be generated each time my notebook is downloaded and ran.**"
   ]
  },
  {
   "cell_type": "markdown",
   "metadata": {},
   "source": [
    "#### Section 1 References\n",
    "* Official numpy documentation: https://numpy.org/\n",
    "* Official NumPy tutorial: https://numpy.org/devdocs/user/quickstart.html\n",
    "* What is NumPy: https://docs.scipy.org/doc/numpy-1.13.0/user/whatisnumpy.html\n",
    "* Learn NumPy in 5 minutes tutorial: https://www.youtube.com/watch?v=xECXZ3tyONo\n",
    "* Complete Python NumPy tutorial: https://www.youtube.com/watch?v=GB9ByFAIAH4\n",
    "* NumPy Python image: https://i2.wp.com/www.simplifiedpython.net/wp-content/uploads/2018/11/Python-NumPy-14.png?resize=595%2C233&ssl=1\n",
    "* numpy.random.permutation: https://docs.scipy.org/doc/numpy-1.16.0/reference/generated/numpy.random.permutation.html#numpy.random.permutation\n",
    "* There is a good explanation of the difference between numpy.random.shuffle and numpy.random.permutation here: https://stackoverflow.com/questions/15474159/shuffle-vs-permute-numpy\n",
    "* numpy.random.permutation: https://docs.w3cub.com/numpy~1.14/generated/numpy.random.permutation/\n",
    "* Pseudo Random Number Generator (PRNG)- https://www.geeksforgeeks.org/pseudo-random-number-generator-prng/\n",
    "* Introduction to Randomness and Random Numbers: https://www.random.org/randomness/\n",
    "* What does numpy.random.seed do: https://stackoverflow.com/questions/21494489/what-does-numpy-random-seed0-do\n",
    "* Khan Academy: https://www.khanacademy.org/computing/computer-science/cryptography/crypt/v/random-vs-pseudorandom-number-generators\n",
    "* Random data generation in Python: https://realpython.com/lessons/random-data-generation-python/\n",
    "* The numpy.random.seed documentation page: https://docs.scipy.org/doc/numpy-1.14.0/reference/generated/numpy.random.seed.html#numpy.random.seed\n",
    "* Numpy.random.seed: https://www.sharpsightlabs.com/blog/numpy-random-seed/"
   ]
  },
  {
   "cell_type": "markdown",
   "metadata": {},
   "source": [
    "## Section 2- Investigation"
   ]
  },
  {
   "cell_type": "markdown",
   "metadata": {},
   "source": [
    "**I first must identify a real-world phenomenon of interest to me that would be suitable for the purposes of this project. I also must ensure that the real world phenomenon is measureable and at least 100 data points across 4 variables could be collected.**\n",
    "\n",
    "As I am from a farming background and I have an interest in agriculture I am going to investigate if there are any interesting phenomenons that I could work with in this area.\n",
    "\n",
    "#### **The Irish Agri-Food Industry**\n",
    "\n",
    "The below statement from the Teagasc website shows the importance of agriculture to the Irish Economy:\n",
    "\n",
    "_\"The agri-food sector in Ireland in 2016 generated 7% of gross value added (€13.9 billion), 9.8% of Ireland’s merchandise exports and provided 8.5% of national employment. When employment in inputs, processing and marketing is included, the agri-food sector accounts for almost 10% of employment.\"_\n",
    "\n",
    "Source: https://www.teagasc.ie/rural-economy/rural-economy/agri-food-business/agriculture-in-ireland/"
   ]
  },
  {
   "cell_type": "markdown",
   "metadata": {},
   "source": [
    "**The below graphic from the Department of Agriculture, Food and the Marine website shows the composition of Irish agri food exports in 2010:**\n",
    "![exports.png](https://www.agriculture.gov.ie/media/migration/customerservice/reviewandoutlook2011/thefoodindustry/Figure5.12.gif)\n",
    "\n",
    "Source: https://www.agriculture.gov.ie/publications/2011/annualreviewandoutlookforagriculturefisheriesandfood20102011/thefoodindustry/exportsoffoodanddrink/\n"
   ]
  },
  {
   "cell_type": "markdown",
   "metadata": {},
   "source": [
    "I would be interested in some of the statistics surrounding the average income of farmers, farm size and the average age of farmers. \n",
    "\n",
    "These statistics are of particular importance now more than ever as there are serious threats to the future of farming.  In Ireland the small family farm is the dominant type of holding in contrast to a lot of other countries where the industrial scale farms are more commonplace. Examples include America, Australia and New Zealand. \n",
    "\n",
    "#### **Threats to the future of small farming in Ireland that I have identified:**\n",
    "\n",
    "* Beef prices at an all time low. \n",
    "* Rising costs and falling income level.\n",
    "* Brexit uncertainty -\n",
    "   * Will Brexit affect trade with UK?\n",
    "   * Will European Union direct payments decrease if the UK leave the European Union?\n",
    "* Are younger people willing to carry on the small farmily farm tradition working long hours for litter remuneration?\n",
    "* Has the abolition of milk quotas and the rapid expansion of the dairy herd in Ireland over the past number of years caused us to go into over production and possibly damage our ability to market our produce?\n",
    "* Climate change - has the image of agriculture been damaged?\n",
    "* Veganism and the move away from eating meat - has this caused long term damage to beef sector?\n",
    "* The age of farmholders is increasing all the time and a high proportion of these do not have a successor to take over the farm. What will happen to these farms?\n",
    "\n",
    "**Farm Succession:**\n",
    "\n",
    "I attended a young farmers meeting in Teagasc, Co. Cavan recently and the results of a recent survey were quoted to those in attendance. 43% of farmers surveyed said they have a son or daughter interested in succeeding them in running the family farm but that they would prefer they take a different career path as they do not see farming as a viable option for the future. I found this statistic to be quite scary. \n",
    "\n",
    "**Brexit:**\n",
    "\n",
    "I found an interesting presentation online prepared by the Chief Economist at the Department of Agriculture, Food and The Marine entitled \"Brexit and the Irish Agri-Food Sector:\n",
    "https://igees.gov.ie/wp-content/uploads/2017/06/3-Irish-Agri-Food-Sector-Sin%C3%A9ad-McPhilips-Department-of-Agriculture-Food-and-the-Marine..pdf. One interesting statistic from reading the presentation - in 2016 the UK accounted for 39% of Agri-Food exports from Ireland. Farmers are concerned about the possible impact of Brexit on both exports and also the possibility of reduced Common Agricultural Policy pool of funds which may decrease payments available to Irish farmers.\n",
    "\n",
    "**Beef:**\n",
    "\n",
    "The importance of the beef sector within the Irish Agri-Food sector and the current state of the beef market are a concern. According to the Teagasc website:\n",
    "\n",
    "_\"Ireland in 2016 net exports of beef accounted for 85% of production, making Ireland the largest beef net exporter in the EU and fifth largest in the world.\"_\n",
    "\n",
    "Source: https://www.teagasc.ie/rural-economy/rural-economy/agri-food-business/agriculture-in-ireland/\n",
    "\n",
    "Maybe by the end of this project I will have identified even more threats or I will have learnt more about some of the threats I have identified above.\n",
    "\n",
    "**European Union support and the Common Agricultural Policy:**\n",
    "\n",
    "One advantage that Irish agriculture has in the wake of all the threats I have identified above, is our membership of the European Union. This give Irish farmers access to payments under the Comon Agricultural Policy (CAP) which helps sustain the small farms that are dotted throughout the country. Without the support of these payments many small Irish family farms may not survive through some of the threats facing them. \n",
    "\n",
    "_\"Like their ancestors, modern Irish farmers face numerous challenges but many of today’s problems can’t be solved locally. Farming is now facing real threats from climate change, rising energy costs, food security and rural decline, as well as uncertainty surrounding Brexit.\"_\n",
    "\n",
    "_\"Thankfully, being a Member State of the European Union means Irish farmers don’t have to face these issues alone and can co-ordinate with the other EU nations through the Common Agricultural Policy (CAP) to find solutions to global, as well as local, issues.\"_\n",
    "\n",
    "Source: https://ec.europa.eu/ireland/news/key-eu-policy-areas/agriculture_en"
   ]
  },
  {
   "cell_type": "markdown",
   "metadata": {},
   "source": [
    "### Time to Research\n",
    "\n",
    "#### Central Statistics Office (CSO figures):\n",
    "\n",
    "My first port of call is the Central Statistics Office website Agriculture section- https://www.cso.ie/en/statistics/agriculture/ where I will conduct some research.\n",
    "\n",
    "Looking at the farm structure survey 2016 on the CSO website I can see some interesting statistics are captured in this area: https://www.cso.ie/en/statistics/agriculture/.\n",
    "\n",
    "Questions I have looking at these statistics:\n",
    "\n",
    "* Are there many females involved in agriculture?\n",
    "* Are there many young people involved in agriculture?\n",
    "* What is the average farm size in Ireland today?\n",
    "* What is the average income of farmers in Ireland today?\n",
    "* What is the averafe age of farmers in Ireland today?\n",
    "* How many hours per week do farmers work on average?\n",
    "* How many unpaid hours per week does the average farmer work in a week?\n",
    "* What is the average direct payment amount received by farmers from the EU?\n",
    "* Is there a relationship between income level and farm size?\n",
    "* Is there a relationship between farm size and hours per week worked?\n",
    "* Is there a relationship between direct payment amounts and farm size?\n",
    "* I cannot answer all of these questions but I will continue the research and see is anything interetsing comes up."
   ]
  },
  {
   "cell_type": "markdown",
   "metadata": {},
   "source": [
    "**The below image is a summary of the main findings of the Farm Structure Survey 2016:**\n",
    "\n",
    "![survey.png](https://pbs.twimg.com/media/DjlXwhUWwAE_2xM.jpg)\n",
    "\n",
    "Source: https://www.cso.ie/en/releasesandpublications/ep/p-fss/farmstructuresurvey2016/"
   ]
  },
  {
   "cell_type": "markdown",
   "metadata": {},
   "source": [
    "#### Farm Structure Survey 2016 - key statistics:\n",
    "* 88% of the 137,500 farms are owned by males.\n",
    "* 30% of farmholders are over the age of 65.\n",
    "* Only 5% of farms are held by people under the age of 35.\n",
    "* The average farm size is 32.4 hectares."
   ]
  },
  {
   "cell_type": "markdown",
   "metadata": {},
   "source": [
    "#### Some interesting statistics listed in the Farm Structure Survey 2016 Key findings section: https://www.cso.ie/en/releasesandpublications/ep/p-fss/farmstructuresurvey2016/kf/\n",
    "\n",
    "* In 2016 there were 137,500 farms in Ireland. More than half (52.7%) of all farms were located in the Border, Midland and Western (BMW) region.\n",
    "* The average farm was 32.4 hectares.\n",
    "* Farms in the Southern and Eastern (SE) region were 41.3% larger than those in the BMW region, with an average farm size of 38.3 hectares compared to 27.1 hectares.\n",
    "* Almost one in five of all farms (18.0%) were 50 hectares or more in size while just over two in five farms (43.4%) had less than 20 hectares.\n",
    "* Specialist Beef production continued to be the most common farm type or activity, accounting for over half of all farms in 2016 (78,300).\n",
    "* Average Standard Output per farm was €45,855 in 2016. Standard output is the average monetary value of agricultural output at farm-gate prices.\n",
    "\n",
    "\n",
    "**Standard Output (SO)**\n",
    "\n",
    "The below explanation is given in the background notes & appendices section of the Farm Structure Survey:\n",
    "\n",
    "_\"The Standard Output (SO) of an agricultural product is defined as the average monetary value of the agricultural output at farm-gate prices. The SO does not take into account costs, direct payments, value added tax or taxes on products.\"_\n",
    "\n",
    "Source: https://www.cso.ie/en/releasesandpublications/ep/p-fss/farmstructuresurvey2016/bgna/"
   ]
  },
  {
   "cell_type": "markdown",
   "metadata": {},
   "source": [
    "**The below graphic sourced from the Teagasc website shows the composition of employment in the Irish Agri-Food Sector in 2017:**\n",
    "\n",
    "![Employmen.png](https://www.teagasc.ie/media/website/rural-economy/rural-economy/composition-of-employment-in-agrifood-sector-2016-598x357.PNG)\n",
    "\n",
    "Source: https://www.teagasc.ie/rural-economy/rural-economy/agri-food-business/agriculture-in-ireland/\n"
   ]
  },
  {
   "cell_type": "markdown",
   "metadata": {},
   "source": [
    "#### European Commission - Europa Statistics:\n",
    "\n",
    "I sourced the below statistics from the European Commisssion website: https://ec.europa.eu/ireland/news/key-eu-policy-areas/agriculture_en\n",
    "\n",
    "* Ireland covers an area of 6.9 million hectares, of which 4.5 million hectares is used for agriculture and a further 730,000 hectares for forestry.\n",
    "* There are 137,500 farms in Ireland – the vast majority of which are family owned - and the average size is 32.4 hectares.\n",
    "* Employment in the agri-food sector accounted for 173,800 jobs, 7.9% of total employment, on average in 2017, according to the CSO Labour Force Survey.\n",
    "* Agriculture typically has an ageing workforce. In 2016, around a quarter of farm holders in Ireland were aged 65 years and over. Just 5% of farmers were aged less than 35 years.\n",
    "\n",
    "Source: https://ec.europa.eu/ireland/news/key-eu-policy-areas/agriculture_en"
   ]
  },
  {
   "cell_type": "markdown",
   "metadata": {},
   "source": [
    "**The European Commission website shows the below interesteding graphic on the value of Irish Agri-Food exports and the destinations (2016):**\n",
    "\n",
    "![exports](https://ec.europa.eu/ireland/sites/ireland/files/agrifood_exports_2016.jpg)\n",
    "\n",
    "Source: https://ec.europa.eu/ireland/news/key-eu-policy-areas/agriculture_en"
   ]
  },
  {
   "cell_type": "markdown",
   "metadata": {},
   "source": [
    "## Variables to be simulated in my data set"
   ]
  },
  {
   "cell_type": "markdown",
   "metadata": {},
   "source": [
    "After this exploratory research I think I have narrowed down a list of the variables that I might like to try to simulate in my data set:\n",
    "* Farm Size\n",
    "* Standard Output\n",
    "* Direct Payment\n",
    "* Gender of farmholder\n",
    "* Successer identified yes/no\n",
    "* Age of farmholder\n",
    "* Hours worked on the farm per week\n",
    "\n",
    "I will now investigate some of the listed variables to find out their likely distributions and if there is any relationship between the variables."
   ]
  },
  {
   "cell_type": "markdown",
   "metadata": {},
   "source": [
    "#### Section 2 - References\n",
    "* CSO Agriculture section: https://www.cso.ie/en/statistics/agriculture/ \n",
    "* CSO Farm Structure Survey 2016: https://www.cso.ie/en/releasesandpublications/ep/p-fss/farmstructuresurvey2016/\n",
    "* Farm Structure Survey 2016 Key Findings: https://www.cso.ie/en/releasesandpublications/ep/p-fss/farmstructuresurvey2016/kf/\n",
    "* Background notes on the collection of data for the Farm Structure Survey 2016: https://www.cso.ie/en/releasesandpublications/ep/p-fss/farmstructuresurvey2016/bgna/\n",
    "* Representation in Ireland: https://ec.europa.eu/ireland/news/key-eu-policy-areas/agriculture_en\n",
    "* Farm Structure Survey 2013: https://www.cso.ie/en/releasesandpublications/ep/p-fss/farmstructuresurvey2013/detailedanalysis/farmstructure/\n",
    "* Agriculture in Ireland: https://www.teagasc.ie/rural-economy/rural-economy/agri-food-business/agriculture-in-ireland/\n",
    "* Teagasc national farm survey: The sustainability of small farming in Ireland: https://www.teagasc.ie/media/website/publications/2017/Small-Farms-Survey.pdf\n",
    "* Brexit and the Irish Agri-Food Sector: https://igees.gov.ie/wp-content/uploads/2017/06/3-Irish-Agri-Food-Sector-Sin%C3%A9ad-McPhilips-Department-of-Agriculture-Food-and-the-Marine..pdf"
   ]
  },
  {
   "cell_type": "markdown",
   "metadata": {},
   "source": [
    "## Section 3 - Investigation on the types of variables and their likely distributions\n",
    "\n",
    "**In this section I will undertake an investigation into what variables are of interest, their likely distributions and their relationships with each other.**"
   ]
  },
  {
   "cell_type": "markdown",
   "metadata": {},
   "source": [
    "#### Section 3.1 - Farm Size"
   ]
  },
  {
   "cell_type": "markdown",
   "metadata": {},
   "source": [
    "The first variable I am interested in farm size. I believe this to be the most interesting variable and one that I think has an impact on the performance of the farm, direct payment amounts, output, hours worked etc. Before completing any research I would expect larger farms, to have higher output, more labour hours and higher direct payments. Let's see if my assumption is correct.\n",
    "\n",
    "I am now going to investigate farm sizes in Ireland, can I find the mean farm size, the distribution of farm sizes etc. \n",
    "\n",
    "My initial search shows up the following sources that look good:\n",
    "* Representation in Ireland: https://ec.europa.eu/ireland/news/key-eu-policy-areas/agriculture_en\n",
    "* Farm Structure Survey 2013: https://www.cso.ie/en/releasesandpublications/ep/p-fss/farmstructuresurvey2013/detailedanalysis/farmstructure/\n",
    "* Agriculture in Ireland: https://www.teagasc.ie/rural-economy/rural-economy/agri-food-business/agriculture-in-ireland/\n",
    "* Teagasc national farm survey: The sustainability of small farming in Ireland: https://www.teagasc.ie/media/website/publications/2017/Small-Farms-Survey.pdf\n",
    "* CSO Farm Structure Durvey 2016: https://www.cso.ie/en/releasesandpublications/ep/p-fss/farmstructuresurvey2016/da/fs/\n",
    "\n",
    "**According to the CSO Farm Structure Survey 2016 the average farm size in Ireland at that time was 32.4 hectares.**\n",
    "\n",
    "* The CSO in their Farm Structure Survey broke Ireland into 2 categories by region- **Border, Midland and Western** and **Southern and Eastern**. \n",
    "* Border, Midland and Western is also further subdividied into 4 segments- **Border**, **Midland** and **West**.\n",
    "* Southern and Eastern is further subdivided into 4 segments- **Mid-East and Dublin**, **Mid-West**, **South-East** and **South-West**.\n",
    "* The breakdown of farm sizes by each region is shown on the CSO website here: https://www.cso.ie/en/releasesandpublications/ep/p-fss/farmstructuresurvey2016/da/fs/\n",
    "* You can also visit this link and create a table of data drawing in which ever statistics you find interesting: https://statbank.cso.ie/px/pxeirestat/Statire/SelectVarVal/Define.asp?Maintable=FSA01&PLanguage=0\n",
    "\n",
    "**Border, Midland and Western:**\n",
    "* Average farm size- 27.1 hectares\n",
    "* Total number of farms in this region- 72,500\n",
    "* Breakdown by farm type:\n",
    "    * Specialist tillage- 1,000\n",
    "    * Specialist dairy- 3,600\n",
    "    * Specialist beef production- 46,000\n",
    "    * Specialist sheep- 10,300\n",
    "    * Mixed grazing livestock- 6,500\n",
    "    * Mixed crops and livestock- 600\n",
    "    * Mixed field crops- 3,900\n",
    "    * Other- 600\n",
    "* Average standard Output (SO) of farms in the Border, Mildlands and Western region- €28.935\n",
    "\n",
    "**Southern and Eastern:**\n",
    "* Average farm size- 38.3 hectares\n",
    "* Total number of farms in this region- 65,000\n",
    "* Breakdown by farm type:\n",
    "    * Specialist tillage- 3,700\n",
    "    * Specialist dairy- 12,600\n",
    "    * Specialist beef production- 32,300\n",
    "    * Specialist sheep- 4,800\n",
    "    * Mixed grazing livestock- 5,100\n",
    "    * Mixed crops and livestock- 1,500\n",
    "    * Mixed field crops- 4,300\n",
    "    * Other- 700\n",
    "* Average standard Output (SO) of farms in the Southern and Eastern region- €64,734\n",
    "\n",
    "Comparing the the 2 regions there are is a stark contrast in standard output between them with Southern and Eastern having a much higher standard output. The farm sizes are also larger which suggest to me that there is a relationship between farm size and output. However, I also know from my own knowledge of the agricultural sector in Ireland that the type of land also has an impact on output. The land in the West of Ireland and the border areas is more marginal land that tends to be be wetter in the spring and winter time and presents more challenges to farmers in farming the land. In contrast the land in the South and South East of Ireland is prime agricultual land and farmers can return a better crop and grass output with less inputs. \n",
    "\n",
    "Taking the case of beef production as an example, a farmer on marginal land in the West of Ireland or the border area would grow less grass than a farmer in the more affluent land in the South East of Ireland. This would mean that farmer in the West or border area would have higher input costs in supplementary feed costs and fertiliser to grow grass. The land would also become too wet for cattle earlier in the year and that farmer would have to house cattle for a longer time in the winter which also leads to increased input costs. Where a farmer in the West of Co.Galway for example could expect to house cattle from the end of September until the middle or end of April, a farmer in Co.Wexford would hope to house cattle from the beginning of November until the beginning of March"
   ]
  },
  {
   "cell_type": "markdown",
   "metadata": {},
   "source": [
    "#### Choosing distribution for farm size variable\n",
    "\n",
    "I have chosen to use the normal distribution for the farm size variable in the data set that I am going to simulate. Some reasons for my decision:\n",
    "\n",
    "* I know the average farm size from the CSO Farm Structure Survey 2016.\n",
    "* It is extremely hard to simulate data for farm sizes in Ireland as there is such a large variance in farm sizes. \n",
    "* Ireland has an extremely high ratio of farms to land area. \n",
    "* On one end of the scale there are a small number of large industrial farms that employ multiple people and on the other end of the scale are the small traditional family farms with some being very small in size and what some in Ireland term as \"hobby farms\" where the landownder is working full time off farm and they are farming the land in their free time to kepp the tradition alive. These small size holdings do not exist in most other European countries.\n",
    "* So I have to make a decision on what is the best distribution to accurately represent farm size in Ireland. Since, I know the average size of farms in Ireland and I know that their are a large number of farms in Ireland from my research, and I know from my personal knowledge of the agriculture sector in Ireand that there are many farms of similiar sizes I am going to use the normal distribution for farm size in my data simulation."
   ]
  },
  {
   "cell_type": "markdown",
   "metadata": {},
   "source": [
    "#### Normal distribution\n",
    "\n",
    "numpy.random.normal documentation: https://docs.scipy.org/doc/numpy-1.16.0/reference/generated/numpy.random.normal.html#numpy.random.normal\n",
    "\n",
    "_\"Draw random samples from a normal (Gaussian) distribution. The probability density function of the normal distribution, first derived by De Moivre and 200 years later by both Gauss and Laplace independently [2], is often called the bell curve because of its characteristic shape\"_\n",
    "\n",
    "Source- https://docs.scipy.org/doc/numpy-1.16.0/reference/generated/numpy.random.normal.html#numpy.random.normal\n",
    "\n",
    "A normal distribution often described as a bell curve distributon because of the shape, often occurs naturally within statistics. One example would be in measuring height of a group of people there would tend to be a central tendency of data with the majority of data gathering around this point.\n",
    "\n",
    "Below are some properties that could be associated with a normal distribution:\n",
    "\n",
    "* The mean, mode and median are all equal\n",
    "* The bell curve is symmetric at the centre\n",
    "* 50% of the values are to the left of the centre and 50% to the right of centre\n",
    "* 99.7% of the data occurs within 3 standard deviations of the mean\n",
    "* Some further reading on characteristics of a normal distribution: https://www.statisticshowto.datasciencecentral.com/probability-and-statistics/normal-distributions/ and https://mathbitsnotebook.com/Algebra2/Statistics/STstandardNormalDistribution.html\n",
    "\n",
    "**numpy.random.normal takes 3 arguments:**\n",
    "\n",
    "* loc : float or array_like of floats - the Mean of the distribution.\n",
    "* scale : float or array_like of floats - the Standard deviation of the distribution or in simple terms the width of the distribution.\n",
    "* size : int or tuple of ints, optional - the size of the distribution"
   ]
  },
  {
   "cell_type": "markdown",
   "metadata": {},
   "source": [
    "**Below is an image of a normal distribution showing the bell shape curve:**\n",
    "\n",
    "![normal.png](https://www.researchgate.net/profile/Zacharie_Mbaitiga/publication/47554522/figure/fig3/AS:669306094358551@1536586416576/Bell-curve-and-standard-deviation.jpg)\n",
    "\n",
    "Source: https://www.researchgate.net/figure/Bell-curve-and-standard-deviation_fig3_47554522"
   ]
  },
  {
   "cell_type": "markdown",
   "metadata": {},
   "source": [
    "**The Empirical rule**\n",
    "\n",
    "The Empirical rule states that within a normal distribution almost all of the data falls within 3 standard deviations of the mean.\n",
    "\n",
    "According to the Empirical rule we should expect to see:\n",
    "\n",
    "* 68% of the data within the first standard deviation from the mean\n",
    "* 95% of the data within 2 standard deviations of the mean\n",
    "* 99.7% of the data within 3 standard deviations of the mean\n",
    "\n",
    "Further reading on the Empirical rule: https://www.statisticshowto.datasciencecentral.com/empirical-rule-2/ and https://mathbitsnotebook.com/Algebra2/Statistics/STstandardNormalDistribution.html\n",
    "\n",
    "Video tutorial on the Empirical rule: https://www.youtube.com/watch?time_continue=6&v=hQTvdD8vtio"
   ]
  },
  {
   "cell_type": "markdown",
   "metadata": {},
   "source": [
    "**Image showing the Empirical Rule on a normal distribution:**\n",
    "\n",
    "![empirical.png](https://www.statisticshowto.datasciencecentral.com/wp-content/uploads/2013/09/standard-normal-distribution.jpg)\n",
    "\n",
    "Source: https://www.statisticshowto.datasciencecentral.com/probability-and-statistics/normal-distributions/"
   ]
  },
  {
   "cell_type": "markdown",
   "metadata": {},
   "source": [
    "#### Parameters for my data simulation\n",
    "\n",
    "**1. Mean of farm sizes in Ireland:**\n",
    "\n",
    "From the CSO Farm Structure Survey I know the mean farm size is 32.4 hectares so I will use this in my distribution.\n",
    "\n",
    "**2. Standard deviation of farm sizes in Ireland:**\n",
    "\n",
    "After some investigation I have decided that a good standard deviation measure to use is 8.2 hectares. When I use the standard deviation of 8.2 hectares with a sample of 200 farm sizes from the normal distribution, the range of farm sizes returned is between 12.98 and 52.18 hectares, which I believe to be a reasonably accurate representation of the distribution of farm sizes in Ireland today. Using the normal distribution I can expect 68% of farm sizes to fall within one standard deviation of the mean value of 32.4 hectares. This would be the range 24 to 40 hectares. I am satisfied that this represents the most frequently occurring farm sizes in Ireland today. \n",
    "\n",
    "**3. Sample size:**\n",
    "\n",
    "I have decided to generate data for a sample size of 200 farmholdings."
   ]
  },
  {
   "cell_type": "markdown",
   "metadata": {},
   "source": [
    "#### Data Simulation of farm sizes in Ireland using the Normal distribution:"
   ]
  },
  {
   "cell_type": "code",
   "execution_count": 2,
   "metadata": {},
   "outputs": [
    {
     "data": {
      "text/plain": [
       "array([29.25, 28.87, 35.52, 29.92, 28.38, 32.57, 37.43, 39.43, 27.41,\n",
       "       39.94, 12.98, 31.46, 44.42, 27.78, 37.  , 32.18, 40.56, 53.32,\n",
       "       44.51, 46.43, 44.74, 31.3 , 40.88, 29.37, 37.71, 29.43, 37.18,\n",
       "       31.41, 33.75, 32.35, 30.19, 37.6 , 23.62, 42.17, 36.78, 52.55,\n",
       "       36.41, 25.77, 22.58, 31.96, 31.56, 35.12, 22.74, 26.61, 37.92,\n",
       "       33.83, 34.7 , 38.38, 35.8 , 18.67, 36.52, 33.32, 27.5 , 17.08,\n",
       "       36.98, 22.39, 29.4 , 33.71, 27.58, 33.19, 33.47, 42.87, 28.75,\n",
       "       25.81, 27.11, 32.79, 31.26, 26.77, 33.95, 31.87, 30.84, 27.13,\n",
       "       43.88, 17.84, 32.2 , 23.48, 33.88, 25.54, 42.86, 28.79, 34.99,\n",
       "       21.06, 37.91, 41.93, 40.67, 30.08, 36.72, 26.75, 27.37, 41.39,\n",
       "       42.53, 27.17, 35.23, 33.95, 35.89, 41.43, 28.36, 27.67, 38.6 ,\n",
       "       23.3 , 31.67, 33.97, 30.5 , 41.31, 40.8 , 45.62, 32.62, 36.52,\n",
       "       34.31, 29.65, 29.44, 45.24, 29.59, 46.86, 26.23, 26.78, 29.57,\n",
       "       27.11, 36.47, 34.88, 40.78, 24.6 , 15.95, 29.8 , 36.87, 40.22,\n",
       "       40.85, 40.7 , 35.25, 21.64, 32.66, 18.83, 30.33, 37.07, 33.9 ,\n",
       "       36.37, 14.56, 29.95, 38.34, 47.19, 45.61, 26.12, 27.37, 22.51,\n",
       "       23.58, 23.81, 35.99, 36.51, 34.44, 20.43, 30.9 , 21.83, 32.1 ,\n",
       "       25.45, 35.47, 35.14, 21.69, 32.19, 29.76, 39.22, 33.9 , 26.5 ,\n",
       "       43.58, 38.64, 39.22, 26.94, 21.98, 31.65, 26.8 , 22.36, 45.36,\n",
       "       32.16, 28.72, 32.86, 29.82, 26.85, 43.29, 21.51, 49.15, 40.75,\n",
       "       20.56, 28.02, 28.98, 31.7 , 38.15, 34.49, 40.98, 44.4 , 43.38,\n",
       "       28.61, 14.25, 29.55, 25.77, 39.69, 25.1 , 23.65, 29.08, 31.99,\n",
       "       35.41,  8.43])"
      ]
     },
     "execution_count": 2,
     "metadata": {},
     "output_type": "execute_result"
    }
   ],
   "source": [
    "# If I wanted the same data to be generated each time I would set a seed using numpy.random.seed\n",
    "farm_size = np.random.normal(32.4, 8.2, 200).round(2)\n",
    "# normal distribution\n",
    "# mean set to 32.4 hectares\n",
    "# standard deviation set to 4.6 hectares\n",
    "# 200 samples are generated\n",
    "# round(2) to round the result to 2 decimal places\n",
    "farm_size"
   ]
  },
  {
   "cell_type": "code",
   "execution_count": 39,
   "metadata": {},
   "outputs": [
    {
     "name": "stdout",
     "output_type": "stream",
     "text": [
      "The average farm size is 32.47 hectares\n"
     ]
    }
   ],
   "source": [
    "print(f\"The average farm size is {np.mean(farm_size).round(2)} hectares\")"
   ]
  },
  {
   "cell_type": "code",
   "execution_count": 42,
   "metadata": {},
   "outputs": [
    {
     "name": "stdout",
     "output_type": "stream",
     "text": [
      "The smallest farm size is 8.43 hectares\n"
     ]
    }
   ],
   "source": [
    "print(f\"The smallest farm size is {np.min(farm_size).round(2)} hectares\")"
   ]
  },
  {
   "cell_type": "code",
   "execution_count": 43,
   "metadata": {},
   "outputs": [
    {
     "name": "stdout",
     "output_type": "stream",
     "text": [
      "The largest farm size is 53.32 hectares\n"
     ]
    }
   ],
   "source": [
    "print(f\"The largest farm size is {np.max(farm_size).round(2)} hectares\")"
   ]
  },
  {
   "cell_type": "markdown",
   "metadata": {},
   "source": [
    "**Histogram of the farm sizes:**"
   ]
  },
  {
   "cell_type": "code",
   "execution_count": 6,
   "metadata": {},
   "outputs": [
    {
     "data": {
      "text/plain": [
       "Text(0, 0.5, 'Number of farms')"
      ]
     },
     "execution_count": 6,
     "metadata": {},
     "output_type": "execute_result"
    },
    {
     "data": {
      "image/png": "[encoded data removed]",
      "text/plain": [
       "<Figure size 720x576 with 1 Axes>"
      ]
     },
     "metadata": {
      "needs_background": "light"
     },
     "output_type": "display_data"
    }
   ],
   "source": [
    "plt.rcParams['figure.figsize'] = (10, 8)\n",
    "plt.hist(farm_size)\n",
    "plt.title('Farm sizes in Ireland - sample size of 200')\n",
    "plt.xlabel('Farm sizes in hectares')\n",
    "plt.ylabel('Number of farms')\n",
    "\n",
    "# pyplot.hist to plot a histogram of farm sizes "
   ]
  },
  {
   "cell_type": "markdown",
   "metadata": {},
   "source": [
    "**Scatter plot of the farm sizes:**"
   ]
  },
  {
   "cell_type": "code",
   "execution_count": 7,
   "metadata": {},
   "outputs": [
    {
     "data": {
      "text/plain": [
       "Text(0, 0.5, 'Number of farms')"
      ]
     },
     "execution_count": 7,
     "metadata": {},
     "output_type": "execute_result"
    },
    {
     "data": {
      "image/png": "[encoded data removed]",
      "text/plain": [
       "<Figure size 720x576 with 1 Axes>"
      ]
     },
     "metadata": {
      "needs_background": "light"
     },
     "output_type": "display_data"
    }
   ],
   "source": [
    "plt.rcParams['figure.figsize'] = (10, 8)\n",
    "plt.plot(farm_size, 'go--')\n",
    "plt.title('Farm sizes in Ireland - sample size of 200')\n",
    "plt.xlabel('Farm sizes in hectares')\n",
    "plt.ylabel('Number of farms')\n",
    "# line plot of farm_size\n",
    "# 'go--' plots green dots joined by a dotted line"
   ]
  },
  {
   "cell_type": "markdown",
   "metadata": {},
   "source": [
    "**Display the farm sizes using padas.dataframe:**\n",
    "\n",
    "I have commented out the code to save space for now."
   ]
  },
  {
   "cell_type": "code",
   "execution_count": 8,
   "metadata": {},
   "outputs": [],
   "source": [
    "##df = pd.DataFrame(farm_size, columns=['Farm Size'])\n",
    "##df\n",
    "# pandas.dataframe used to read in the \n",
    "# documentation page: https://pandas.pydata.org/pandas-docs/stable/reference/api/pandas.DataFrame.html\n",
    "# Columns parameter passed in to name the columns in the dataframe\n",
    "# https://www.tutorialspoint.com/python_pandas/python_pandas_dataframe.htm\n",
    "# https://www.geeksforgeeks.org/python-pandas-dataframe/"
   ]
  },
  {
   "cell_type": "markdown",
   "metadata": {},
   "source": [
    "#### Section 3.1 References\n",
    "* Representation in Ireland: https://ec.europa.eu/ireland/news/key-eu-policy-areas/agriculture_en\n",
    "* Farm Structure Survey 2013: https://www.cso.ie/en/releasesandpublications/ep/p-fss/farmstructuresurvey2013/detailedanalysis/farmstructure/\n",
    "* Agriculture in Ireland: https://www.teagasc.ie/rural-economy/rural-economy/agri-food-business/agriculture-in-ireland/\n",
    "* Teagasc national farm survey: The sustainability of small farming in Ireland: https://www.teagasc.ie/media/website/publications/2017/Small-Farms-Survey.pdf\n",
    "* CSO Farm Structure Survey 2016: https://www.cso.ie/en/releasesandpublications/ep/p-fss/farmstructuresurvey2016/da/fs/\n",
    "* numpy.random.normal: https://docs.scipy.org/doc/numpy-1.15.0/reference/generated/numpy.random.normal.html\n",
    "* Normal distribution: https://www.statisticshowto.datasciencecentral.com/probability-and-statistics/normal-distributions/\n",
    "* Normal distribution: https://mathbitsnotebook.com/Algebra2/Statistics/STstandardNormalDistribution.html\n",
    "* The Empirical rule Youtube video: https://www.youtube.com/watch?time_continue=6&v=hQTvdD8vtio\n",
    "* What is the Empirical rule: https://www.statisticshowto.datasciencecentral.com/empirical-rule-2/ and https://mathbitsnotebook.com/Algebra2/Statistics/STstandardNormalDistribution.html\n",
    "* Image of the Empirical rule: https://www.statisticshowto.datasciencecentral.com/probability-and-statistics/normal-distributions/\n",
    "* Image of normal distribution: https://www.researchgate.net/figure/Bell-curve-and-standard-deviation_fig3_47554522"
   ]
  },
  {
   "cell_type": "markdown",
   "metadata": {},
   "source": [
    "#### Section 3.2 - Direct Payments Received\n",
    "\n",
    "The second variable I am going to look at is the amount of direct payment received per farmholding. I think this is an extremely important and insightful variable to look at as direct paymets are crucial to the survival of the small farms in Ireland.\n",
    "\n",
    "The results of the Teagasc National Farm Survey 2016 are listed in a report here: https://www.teagasc.ie/media/website/publications/2017/NFS-2016-Final-Report.pdf ad there are some interesting statistics surrounding direct payments."
   ]
  },
  {
   "cell_type": "markdown",
   "metadata": {},
   "source": [
    "_\"The average direct payment\n",
    "was €17,804 in 2016,\n",
    "accounting for 75% of income.\"_\n",
    "\n",
    "Source: Teagasc National Farm Survey 2016 https://www.teagasc.ie/media/website/publications/2017/NFS-2016-Final-Report.pdf"
   ]
  },
  {
   "cell_type": "markdown",
   "metadata": {},
   "source": [
    "The Teagasc National Farm Survey goes on to give a breakdown of the contribution of direct payments to income by sector. In the beef sector direct payments made  up 115% of income while in the sheep sector direct payments made up 114% of income. I think this statistic alone shows the importance of direct payments to the sustainsbility of Irish agriculture."
   ]
  },
  {
   "cell_type": "markdown",
   "metadata": {},
   "source": [
    "#### Basic Payment Scheme (BPS)\n",
    "\n",
    "The BPS previously known as the Single Farm Payment is the main direct payment that farmers in Ireland can avail of. The basic payment amount that can be claimed is based on the number of hectares farmed. Despite their being a common misconception this is \"free\" money, in order to avail of the payments farmers must comply with strict regulations surrounding animal health and welfare, environmental protection and food traceability. Failure to comply with these regulations could lead to clawback of payments claimed and possible expulsion from future entry to the scheme. There are rigorous inspections carried out without notice and also in recent years satellite inspections have been introduced. The maximum payment amount that can be claimed for one holding under the BPS scheme is currently €150,000. However, there are talks of reducing this amount to €100,000 from 2020 onwards in a reform of the CAP payments system. \n",
    "\n",
    "I found a nice explanation of the Basic Payment Scheme on the Scottish Government website: https://www.ruralpayments.org/publicsite/futures/topics/all-schemes/basic-payment-scheme/\n"
   ]
  },
  {
   "cell_type": "markdown",
   "metadata": {},
   "source": [
    "_\"The Basic Payment Scheme acts as a safety net for farmers and crofters by supplementing their main business income. \n",
    "To qualify for this support, you must actively farm your land. \n",
    "Support under the Basic Payment Scheme is available to farmers who are allocated payment entitlements. \n",
    "You can apply for entitlements based on the land you farm and the activity you undertake.\"_\n",
    "\n",
    "Source: https://www.ruralpayments.org/publicsite/futures/topics/all-schemes/basic-payment-scheme/"
   ]
  },
  {
   "cell_type": "markdown",
   "metadata": {},
   "source": [
    "**Further reading on the Basic Payment Scheme:**\n",
    "* Department of Agriculture, Food and The Marine website:\n",
    "https://www.agriculture.gov.ie/farmerschemespayments/basicpaymentschemegreeningareasofnaturalconstraints/\n",
    "* 2019 Basic Payment Scheme terms and conditions: https://www.agriculture.gov.ie/farmerschemespayments/basicpaymentschemegreeningareasofnaturalconstraints/2019basicpaymentschemegreeningareasofnaturalconstraints/\n",
    "* Basic Payment Scheme explained: https://www.agriland.ie/farming-news/basis-payments-scheme-explained/\n"
   ]
  },
  {
   "cell_type": "markdown",
   "metadata": {},
   "source": [
    "**There are also othe direct payments available to farmers including:**\n",
    "\n",
    "* **Young Farmers Scheme** which is a top up payment that can be claimed by young trained farmers under the age of 40 who have complete their level 6 agriculture certificate training with Teagasc and have entered into a partnership on a farm. The aim of this scheme is to encourage older farmers to bring their successor into  parthership with them in running the farm as a stepping stone to the fill handover of the farm. 2019 National Reserve and Young Farmers Scheme- https://www.agriculture.gov.ie/farmerschemespayments/capentitlementsrelatedinformationandapplicationforms/2019nationalreserveandyoungfarmersscheme/. \n",
    "* **Beef Data and Genomics Scheme (BDGP)** which offers payments to suckler farmers who complete DNA genotyping of animals on their holdings in order to build a database of DNA of the beef herd in Ireland. The aim of this scheme is to gather data on the beef herd in Ireland and use the data to identify more efficient animals to use for breeding. BDGP scheme- https://www.agriculture.gov.ie/beefschemes/.\n",
    "* In 2019, there were 2 more schemes made available to beed farmers due to the poor state of the beef sector:\n",
    "    * **Beef Environmental Efficiency Pilot (BEEP)**- farmers who weighed cows and calves receivced a payment, the aim of the scheme is to identify the most efficient     cows to use for breeding to lower the carbon footprint of the beef sector. BEEP scheme- https://www.agriculture.gov.ie/beep/. \n",
    "    * **Beef Emergency Aid Measure (BEAM)** - a compensation scheme where beef farmers could claim a payment to compensate them for the poor price beef animals were making at market throughout 2019. BEAM scheme- https://www.agriculture.gov.ie/farmerschemespayments/beam/. "
   ]
  },
  {
   "cell_type": "markdown",
   "metadata": {},
   "source": [
    "#### Relationship between farm size and direct payments variables\n",
    "\n",
    "There is a relationship between farm size and direct payment amount received in that the larger the farm, the more entitlements (one entitlement per hectare) a farmer can claim and thus the higher the amount of direct payment is payable. Is this fair? Do smaller farmers need extra support?\n",
    "\n",
    "_\"Although the role of direct payments in stabilising farm income is generally welcomed, the fact that 20% of farmers receive 80% of the payments prompts accusations of \"unfairness\".These numbers are a reflection of a system where payments are linked to land which is concentrated among a minority of farmers.\"_\n",
    "\n",
    "(Irish Independent: https://www.independent.ie/business/farming/schemes/facts-and-figures-on-the-cap-in-ireland-where-the-money-comes-from-and-who-gets-it-37774326.html)"
   ]
  },
  {
   "cell_type": "markdown",
   "metadata": {},
   "source": [
    "#### Data Simulation of Direct Payment amount per farmholding"
   ]
  },
  {
   "cell_type": "markdown",
   "metadata": {},
   "source": [
    "After research I have concluded there is no exact science to measuring the direct payment amounts per farm in Ireland. However, there is a clear relationship between farm size and direct payment amount received. In 2019 the maximum entitlement per hectare that can be claimed is €486.09, entitlements values can range up to this value. \n",
    "\n",
    "I have chosen to use €412 as the base value of entitlements, it may be higher than the amouunt claimed by a lot of farmholders but it also allows for some auxilliary payments that farmholders claim, some of which I listed earlier. "
   ]
  },
  {
   "cell_type": "markdown",
   "metadata": {},
   "source": [
    "**Add some variation with numpy.random.randint:**"
   ]
  },
  {
   "cell_type": "markdown",
   "metadata": {},
   "source": [
    "I will use numpy.random.randint to capture the variation in direct payments that can occur due to the variation in entitlement values that exist. The numpy.random.randint function returns random integers between the low and high values passed in by the user. \n",
    "\n",
    "The documentation page: https://docs.scipy.org/doc/numpy-1.14.0/reference/generated/numpy.random.randint.html#numpy.random.randint\n",
    "\n",
    "I have one example below:"
   ]
  },
  {
   "cell_type": "code",
   "execution_count": 9,
   "metadata": {},
   "outputs": [
    {
     "data": {
      "text/plain": [
       "106"
      ]
     },
     "execution_count": 9,
     "metadata": {},
     "output_type": "execute_result"
    }
   ],
   "source": [
    "np.random.randint( 102, 110)\n",
    "# return random integer between 102 and 110"
   ]
  },
  {
   "cell_type": "markdown",
   "metadata": {},
   "source": [
    "I think using numpy.random.randint in this way will be useful in capturing the variation in direct payment amounts as there is no exact science to calculating direct paymenta amounts."
   ]
  },
  {
   "cell_type": "markdown",
   "metadata": {},
   "source": [
    "**Complete the simulation:**"
   ]
  },
  {
   "cell_type": "code",
   "execution_count": 10,
   "metadata": {},
   "outputs": [
    {
     "data": {
      "text/plain": [
       "array([11805.  , 11627.44, 14382.24, 12058.04, 11425.56, 13211.84,\n",
       "       15181.16, 15967.16, 11007.92, 16189.28,  5101.76, 12684.52,\n",
       "       18023.04, 11172.36, 14953.  , 13035.16, 16448.72, 21719.84,\n",
       "       18108.12, 18830.16, 18226.88, 12637.6 , 16566.56, 11822.44,\n",
       "       15281.52, 11922.16, 15083.16, 12721.92, 13627.  , 13086.2 ,\n",
       "       12141.28, 15291.2 ,  9524.44, 17078.04, 14934.36, 21412.6 ,\n",
       "       14799.92, 10345.24,  9053.96, 12934.52, 12795.72, 14189.44,\n",
       "        9069.88, 10671.32, 15414.04, 13733.96, 14008.4 , 15608.56,\n",
       "       14547.6 ,  7484.04, 14760.24, 13434.84, 11070.  ,  6824.96,\n",
       "       14989.76,  9017.68, 11872.8 , 13622.52, 11093.96, 13468.28,\n",
       "       13549.64, 17428.44, 11586.  , 10400.72, 10893.32, 13237.48,\n",
       "       12619.12, 10772.24, 13700.4 , 12890.44, 12473.08, 10970.56,\n",
       "       17803.56,  7066.08, 13029.4 ,  9390.76, 13699.56, 10294.48,\n",
       "       17417.32, 11621.48, 14214.88,  8408.72, 15321.92, 17033.16,\n",
       "       16494.04, 12110.96, 14907.64, 10735.  , 11049.44, 16833.68,\n",
       "       17297.36, 10904.04, 14219.76, 13694.4 , 14503.68, 16818.16,\n",
       "       11479.32, 11165.04, 15675.2 ,  9322.6 , 12808.04, 13777.64,\n",
       "       12295.  , 16772.72, 16519.6 , 18586.44, 13142.44, 14816.24,\n",
       "       13881.72, 11941.8 , 11919.28, 18425.88, 11961.08, 19094.32,\n",
       "       10600.76, 10795.36, 11933.84, 10961.32, 14786.64, 14112.56,\n",
       "       16572.36,  9843.2 ,  6359.4 , 12031.6 , 14908.44, 16274.64,\n",
       "       16572.2 , 16526.4 , 14270.  ,  8661.68, 13187.92,  7494.96,\n",
       "       12277.96, 14980.84, 13686.8 , 14773.44,  5713.72, 12121.4 ,\n",
       "       15541.08, 19150.28, 18574.32, 10528.44, 11071.44,  9007.12,\n",
       "        9511.96,  9523.72, 14599.88, 14784.12, 13953.28,  8182.16,\n",
       "       12466.8 ,  8738.96, 12935.2 , 10274.4 , 14317.64, 14199.68,\n",
       "        8662.28, 13041.28, 12040.12, 15871.64, 13757.8 , 10701.  ,\n",
       "       17711.96, 15647.68, 15878.64, 10803.28,  8766.76, 12769.8 ,\n",
       "       10749.6 ,  8973.32, 18437.32, 13003.92, 11586.64, 13270.32,\n",
       "       11994.84, 10808.2 , 17614.48,  8611.12, 19959.8 , 16546.  ,\n",
       "        8224.72, 11309.24, 11689.76, 12797.4 , 15457.8 , 13983.88,\n",
       "       16595.76, 18048.8 , 17654.56, 11541.32,  5615.  , 11910.6 ,\n",
       "       10401.24, 16077.28, 10083.2 ,  9534.8 , 11713.96, 12951.88,\n",
       "       14342.92,  3189.16])"
      ]
     },
     "execution_count": 10,
     "metadata": {},
     "output_type": "execute_result"
    }
   ],
   "source": [
    "direct_payment= farm_size* 412 - np.random.randint(200, 300, farm_size.size)\n",
    "# I have generated direct payment amounts bases on number of hectares\n",
    "# I have added noise to ths distribution using numpy.random.randint to add some random integer to the basic calculation\n",
    "# The reason for this is their is a variation in entitlement amount per farm\n",
    "direct_payment.round(2)\n",
    "# print direct payment rounded to decimal places"
   ]
  },
  {
   "cell_type": "markdown",
   "metadata": {},
   "source": [
    "#### Relationship between farm size and direct payment amount:"
   ]
  },
  {
   "cell_type": "code",
   "execution_count": 11,
   "metadata": {},
   "outputs": [],
   "source": [
    "df = pd.DataFrame(data={\"Farm Size\": farm_size, \"Direct Payments\": direct_payment})\n",
    "# pandas dataframe created containing the values for farm size and direct payment \n",
    "# df\n",
    "# I have commented out df above to save space in this notebook. "
   ]
  },
  {
   "cell_type": "markdown",
   "metadata": {},
   "source": [
    "##### Seaborn.pairplot\n",
    "\n",
    "The documentation for seaborn.pairplot is here: https://seaborn.pydata.org/generated/seaborn.pairplot.html\n",
    "\n",
    "I read about seaborn.pairplot on the following blog post: https://towardsdatascience.com/visualizing-data-with-pair-plots-in-python-f228cf529166 and I found the below section interesting:\n",
    "\n",
    "\"I’m still amazed that one simple line of code gives us this entire plot! The pairs plot builds on two basic figures, the histogram and the scatter plot. The histogram on the diagonal allows us to see the distribution of a single variable while the scatter plots on the upper and lower triangles show the relationship (or lack thereof) between two variables.\"\n",
    "\n",
    "From: https://towardsdatascience.com/visualizing-data-with-pair-plots-in-python-f228cf529166"
   ]
  },
  {
   "cell_type": "code",
   "execution_count": 12,
   "metadata": {},
   "outputs": [
    {
     "data": {
      "text/plain": [
       "<seaborn.axisgrid.PairGrid at 0x1927daf6ac8>"
      ]
     },
     "execution_count": 12,
     "metadata": {},
     "output_type": "execute_result"
    },
    {
     "data": {
      "image/png": "[encoded data removed]",
      "text/plain": [
       "<Figure size 360x360 with 6 Axes>"
      ]
     },
     "metadata": {
      "needs_background": "light"
     },
     "output_type": "display_data"
    }
   ],
   "source": [
    "sns.pairplot(df)"
   ]
  },
  {
   "cell_type": "markdown",
   "metadata": {},
   "source": [
    "#### Seaborn.relplot\n",
    "\n",
    "A relplot in seaborn is used to show the relationship between two variables, and also allows the mapping of subsets. \n",
    "\n",
    "The Seaborn.relplot documentation: https://seaborn.pydata.org/generated/seaborn.relplot.html#seaborn.relplot\n",
    "\n",
    "\"This function provides access to several different axes-level functions that show the relationship between two variables with semantic mappings of subsets. The kind parameter selects the underlying axes-level function to use:\"\n",
    "\n",
    "Source: https://seaborn.pydata.org/generated/seaborn.relplot.html#seaborn.relplot"
   ]
  },
  {
   "cell_type": "code",
   "execution_count": 13,
   "metadata": {},
   "outputs": [
    {
     "data": {
      "image/png": "[encoded data removed]",
      "text/plain": [
       "<Figure size 360x360 with 1 Axes>"
      ]
     },
     "metadata": {
      "needs_background": "light"
     },
     "output_type": "display_data"
    }
   ],
   "source": [
    "sns.relplot(x=\"Farm Size\", y=\"Direct Payments\", data=df);"
   ]
  },
  {
   "cell_type": "markdown",
   "metadata": {},
   "source": [
    "From the above plots I can see there is a linear relationshop between farm size and direct payment amount claimed. "
   ]
  },
  {
   "cell_type": "markdown",
   "metadata": {},
   "source": [
    "#### What is the average farm size and direct payment amounts?"
   ]
  },
  {
   "cell_type": "code",
   "execution_count": 30,
   "metadata": {},
   "outputs": [
    {
     "name": "stdout",
     "output_type": "stream",
     "text": [
      "The average farm size is 32.47 hectares\n",
      "The average direct payment amount is 13126.08 euros\n"
     ]
    }
   ],
   "source": [
    "print(f\"The average farm size is {np.mean(farm_size).round(2)} hectares\")\n",
    "print(f\"The average direct payment amount is {np.mean(direct_payment).round(2)} euros\")"
   ]
  },
  {
   "cell_type": "markdown",
   "metadata": {},
   "source": [
    "#### What is the average payment per hectare?"
   ]
  },
  {
   "cell_type": "code",
   "execution_count": 38,
   "metadata": {},
   "outputs": [
    {
     "name": "stdout",
     "output_type": "stream",
     "text": [
      "The average rate of payment per hectare is 404.28 euros\n"
     ]
    }
   ],
   "source": [
    "Rate= np.mean(direct_payment)/np.mean(farm_size)\n",
    "print(f\"The average rate of payment per hectare is {Rate.round(2)} euros\")"
   ]
  },
  {
   "cell_type": "markdown",
   "metadata": {},
   "source": [
    "#### Section 3.2 References\n",
    "* Teagasc National Farm Survey 2016: https://www.teagasc.ie/media/website/publications/2017/NFS-2016-Final-Report.pdf\n",
    "* Department of Agriculture, Food and The Marine website: https://www.agriculture.gov.ie/farmerschemespayments/basicpaymentschemegreeningareasofnaturalconstraints/\n",
    "* 2019 Basic Payment Scheme terms and conditions: https://www.agriculture.gov.ie/farmerschemespayments/basicpaymentschemegreeningareasofnaturalconstraints/2019basicpaymentschemegreeningareasofnaturalconstraints/\n",
    "* Basic Payment Scheme explained: https://www.agriland.ie/farming-news/basis-payments-scheme-explained/\n",
    "* 2019 National Reserve and Young Farmers Scheme: https://www.agriculture.gov.ie/farmerschemespayments/capentitlementsrelatedinformationandapplicationforms/2019nationalreserveandyoungfarmersscheme/. \n",
    "* BDGP scheme: https://www.agriculture.gov.ie/beefschemes/\n",
    "* BEEP scheme: https://www.agriculture.gov.ie/beep/\n",
    "* BEAM scheme: https://www.agriculture.gov.ie/farmerschemespayments/beam/. \n",
    "* Scottish Government - Rural payments and services: https://www.ruralpayments.org/publicsite/futures/topics/all-schemes/basic-payment-scheme/\n",
    "* Payment Entitlement Update 2019: https://www.agriculture.gov.ie/media/migration/farmingschemesandpayments/capentitlementsrelatedapplicationforms/2019/PaymentEntitlementUpdate240119.pdf\n",
    "* numpy.random.randint: https://docs.scipy.org/doc/numpy-1.14.0/reference/generated/numpy.random.randint.html#numpy.random.randint\n",
    "* The Seaborn.relplot documentation: https://seaborn.pydata.org/generated/seaborn.relplot.html#seaborn.relplot\n",
    "* Seaborn.relplot blog post: https://seaborn.pydata.org/generated/seaborn.relplot.html#seaborn.relplot\n",
    "* The documentation for seaborn.pairplot: https://seaborn.pydata.org/generated/seaborn.pairplot.html\n",
    "* Seaborn.pairplot blog post: https://towardsdatascience.com/visualizing-data-with-pair-plots-in-python-f228cf529166\n",
    "* Irish Independent - Facts and figures on the CAP in Ireland: https://www.independent.ie/business/farming/schemes/facts-and-figures-on-the-cap-in-ireland-where-the-money-comes-from-and-who-gets-it-37774326.html\n",
    "* Proposal in to introduce €100,000 ceiling on CAP payments from 2020: https://www.irishexaminer.com/breakingnews/ireland/around-200-farms-to-be-affected-by-100000-cap-limit-884479.html"
   ]
  },
  {
   "cell_type": "markdown",
   "metadata": {},
   "source": [
    "#### Variable 3- Direct Payment Rate"
   ]
  },
  {
   "cell_type": "markdown",
   "metadata": {},
   "source": [
    "I have decided to add another variable to the data set after completing the first 2 variables. I want to show the rate per hectare of the direct payment, so I will do a simple calculation dividing direct payment amount by farm size to show the rate per hectare of the direct payment."
   ]
  },
  {
   "cell_type": "code",
   "execution_count": 20,
   "metadata": {},
   "outputs": [
    {
     "data": {
      "text/plain": [
       "array([403.59, 402.75, 404.91, 403.01, 402.59, 405.64, 405.59, 404.95,\n",
       "       401.6 , 405.34, 393.05, 403.2 , 405.74, 402.17, 404.14, 405.07,\n",
       "       405.54, 407.35, 406.83, 405.56, 407.4 , 403.76, 405.25, 402.53,\n",
       "       405.24, 405.1 , 405.68, 405.03, 403.76, 404.52, 402.16, 406.68,\n",
       "       403.24, 404.98, 406.05, 407.47, 406.48, 401.45, 400.97, 404.71,\n",
       "       405.44, 404.03, 398.85, 401.03, 406.49, 405.97, 403.7 , 406.68,\n",
       "       406.36, 400.86, 404.17, 403.21, 402.55, 399.59, 405.35, 402.75,\n",
       "       403.84, 404.11, 402.25, 405.79, 404.83, 406.54, 402.99, 402.97,\n",
       "       401.82, 403.7 , 403.68, 402.4 , 403.55, 404.47, 404.44, 404.37,\n",
       "       405.73, 396.08, 404.64, 399.95, 404.36, 403.07, 406.38, 403.66,\n",
       "       406.26, 399.27, 404.17, 406.23, 405.56, 402.62, 405.98, 401.31,\n",
       "       403.71, 406.71, 406.71, 401.33, 403.63, 403.37, 404.11, 405.94,\n",
       "       404.77, 403.51, 406.09, 400.11, 404.42, 405.58, 403.11, 406.02,\n",
       "       404.89, 407.42, 402.9 , 405.7 , 404.6 , 402.76, 404.87, 407.29,\n",
       "       404.23, 407.48, 404.15, 403.11, 403.58, 404.33, 405.45, 404.6 ,\n",
       "       406.38, 400.13, 398.71, 403.74, 404.35, 404.64, 405.68, 406.05,\n",
       "       404.82, 400.26, 403.79, 398.03, 404.81, 404.12, 403.74, 406.2 ,\n",
       "       392.43, 404.72, 405.35, 405.81, 407.24, 403.08, 404.51, 400.14,\n",
       "       403.39, 399.99, 405.66, 404.93, 405.15, 400.5 , 403.46, 400.32,\n",
       "       402.97, 403.71, 403.65, 404.09, 399.37, 405.13, 404.57, 404.68,\n",
       "       405.83, 403.81, 406.42, 404.96, 404.86, 401.01, 398.85, 403.47,\n",
       "       401.1 , 401.31, 406.47, 404.35, 403.43, 403.84, 402.24, 402.54,\n",
       "       406.89, 400.33, 406.1 , 406.04, 400.04, 403.61, 403.37, 403.7 ,\n",
       "       405.18, 405.45, 404.97, 406.5 , 406.97, 403.4 , 394.04, 403.07,\n",
       "       403.62, 405.07, 401.72, 403.16, 402.82, 404.87, 405.05, 378.31])"
      ]
     },
     "execution_count": 20,
     "metadata": {},
     "output_type": "execute_result"
    }
   ],
   "source": [
    "Rate= direct_payment/farm_size\n",
    "Rate.round(2)"
   ]
  },
  {
   "cell_type": "markdown",
   "metadata": {},
   "source": [
    "#### Variable 4 - Gender of Farmholder"
   ]
  },
  {
   "cell_type": "code",
   "execution_count": null,
   "metadata": {},
   "outputs": [],
   "source": []
  },
  {
   "cell_type": "code",
   "execution_count": null,
   "metadata": {},
   "outputs": [],
   "source": []
  },
  {
   "cell_type": "code",
   "execution_count": null,
   "metadata": {},
   "outputs": [],
   "source": []
  },
  {
   "cell_type": "code",
   "execution_count": 17,
   "metadata": {},
   "outputs": [
    {
     "data": {
      "text/plain": [
       "array(['Male', 'Male', 'Male', 'Male', 'Male', 'Male', 'Male', 'Male',\n",
       "       'Male', 'Male', 'Male', 'Male', 'Male', 'Male', 'Male', 'Male',\n",
       "       'Male', 'Female', 'Male', 'Male', 'Female', 'Male', 'Male', 'Male',\n",
       "       'Male', 'Male', 'Male', 'Male', 'Male', 'Male', 'Male', 'Male',\n",
       "       'Male', 'Male', 'Male', 'Male', 'Male', 'Male', 'Male', 'Male',\n",
       "       'Male', 'Male', 'Male', 'Male', 'Male', 'Female', 'Male', 'Male',\n",
       "       'Male', 'Male', 'Male', 'Male', 'Male', 'Male', 'Male', 'Male',\n",
       "       'Male', 'Male', 'Male', 'Male', 'Male', 'Male', 'Male', 'Male',\n",
       "       'Male', 'Male', 'Male', 'Male', 'Male', 'Male', 'Male', 'Male',\n",
       "       'Male', 'Male', 'Male', 'Male', 'Male', 'Male', 'Female', 'Male',\n",
       "       'Male', 'Male', 'Male', 'Male', 'Male', 'Male', 'Male', 'Male',\n",
       "       'Male', 'Male', 'Male', 'Male', 'Male', 'Male', 'Male', 'Male',\n",
       "       'Male', 'Male', 'Female', 'Male', 'Male', 'Male', 'Male', 'Male',\n",
       "       'Male', 'Male', 'Male', 'Male', 'Male', 'Male', 'Male', 'Male',\n",
       "       'Male', 'Male', 'Male', 'Male', 'Male', 'Male', 'Male', 'Female',\n",
       "       'Female', 'Male', 'Male', 'Male', 'Male', 'Male', 'Male', 'Female',\n",
       "       'Male', 'Male', 'Male', 'Male', 'Male', 'Male', 'Male', 'Male',\n",
       "       'Male', 'Male', 'Male', 'Male', 'Male', 'Female', 'Female', 'Male',\n",
       "       'Male', 'Male', 'Male', 'Male', 'Male', 'Male', 'Male', 'Male',\n",
       "       'Male', 'Male', 'Male', 'Male', 'Male', 'Male', 'Male', 'Male',\n",
       "       'Male', 'Male', 'Male', 'Male', 'Male', 'Male', 'Male', 'Female',\n",
       "       'Male', 'Female', 'Male', 'Male', 'Male', 'Male', 'Female',\n",
       "       'Female', 'Male', 'Male', 'Female', 'Male', 'Male', 'Male', 'Male',\n",
       "       'Male', 'Male', 'Male', 'Male', 'Male', 'Male', 'Male', 'Male',\n",
       "       'Male', 'Male', 'Male', 'Female', 'Male', 'Male', 'Male', 'Male',\n",
       "       'Female'], dtype='<U6')"
      ]
     },
     "execution_count": 17,
     "metadata": {},
     "output_type": "execute_result"
    }
   ],
   "source": [
    "Gender = np.random.choice(['Male', 'Female'], 200, p=[0.9, 0.1])\n",
    "Gender"
   ]
  },
  {
   "cell_type": "markdown",
   "metadata": {},
   "source": [
    "### Data simulation as a pandas dataframe:"
   ]
  },
  {
   "cell_type": "code",
   "execution_count": 24,
   "metadata": {},
   "outputs": [
    {
     "data": {
      "text/html": [
       "<div>\n",
       "<style scoped>\n",
       "    .dataframe tbody tr th:only-of-type {\n",
       "        vertical-align: middle;\n",
       "    }\n",
       "\n",
       "    .dataframe tbody tr th {\n",
       "        vertical-align: top;\n",
       "    }\n",
       "\n",
       "    .dataframe thead th {\n",
       "        text-align: right;\n",
       "    }\n",
       "</style>\n",
       "<table border=\"1\" class=\"dataframe\">\n",
       "  <thead>\n",
       "    <tr style=\"text-align: right;\">\n",
       "      <th></th>\n",
       "      <th>Farm Size</th>\n",
       "      <th>Direct Payments</th>\n",
       "      <th>Rate per hectare</th>\n",
       "      <th>Gender</th>\n",
       "    </tr>\n",
       "  </thead>\n",
       "  <tbody>\n",
       "    <tr>\n",
       "      <th>0</th>\n",
       "      <td>29.25</td>\n",
       "      <td>11805.00</td>\n",
       "      <td>403.59</td>\n",
       "      <td>Male</td>\n",
       "    </tr>\n",
       "    <tr>\n",
       "      <th>1</th>\n",
       "      <td>28.87</td>\n",
       "      <td>11627.44</td>\n",
       "      <td>402.75</td>\n",
       "      <td>Male</td>\n",
       "    </tr>\n",
       "    <tr>\n",
       "      <th>2</th>\n",
       "      <td>35.52</td>\n",
       "      <td>14382.24</td>\n",
       "      <td>404.91</td>\n",
       "      <td>Male</td>\n",
       "    </tr>\n",
       "    <tr>\n",
       "      <th>3</th>\n",
       "      <td>29.92</td>\n",
       "      <td>12058.04</td>\n",
       "      <td>403.01</td>\n",
       "      <td>Male</td>\n",
       "    </tr>\n",
       "    <tr>\n",
       "      <th>4</th>\n",
       "      <td>28.38</td>\n",
       "      <td>11425.56</td>\n",
       "      <td>402.59</td>\n",
       "      <td>Male</td>\n",
       "    </tr>\n",
       "    <tr>\n",
       "      <th>5</th>\n",
       "      <td>32.57</td>\n",
       "      <td>13211.84</td>\n",
       "      <td>405.64</td>\n",
       "      <td>Male</td>\n",
       "    </tr>\n",
       "    <tr>\n",
       "      <th>6</th>\n",
       "      <td>37.43</td>\n",
       "      <td>15181.16</td>\n",
       "      <td>405.59</td>\n",
       "      <td>Male</td>\n",
       "    </tr>\n",
       "    <tr>\n",
       "      <th>7</th>\n",
       "      <td>39.43</td>\n",
       "      <td>15967.16</td>\n",
       "      <td>404.95</td>\n",
       "      <td>Male</td>\n",
       "    </tr>\n",
       "    <tr>\n",
       "      <th>8</th>\n",
       "      <td>27.41</td>\n",
       "      <td>11007.92</td>\n",
       "      <td>401.60</td>\n",
       "      <td>Male</td>\n",
       "    </tr>\n",
       "    <tr>\n",
       "      <th>9</th>\n",
       "      <td>39.94</td>\n",
       "      <td>16189.28</td>\n",
       "      <td>405.34</td>\n",
       "      <td>Male</td>\n",
       "    </tr>\n",
       "    <tr>\n",
       "      <th>10</th>\n",
       "      <td>12.98</td>\n",
       "      <td>5101.76</td>\n",
       "      <td>393.05</td>\n",
       "      <td>Male</td>\n",
       "    </tr>\n",
       "    <tr>\n",
       "      <th>11</th>\n",
       "      <td>31.46</td>\n",
       "      <td>12684.52</td>\n",
       "      <td>403.20</td>\n",
       "      <td>Male</td>\n",
       "    </tr>\n",
       "    <tr>\n",
       "      <th>12</th>\n",
       "      <td>44.42</td>\n",
       "      <td>18023.04</td>\n",
       "      <td>405.74</td>\n",
       "      <td>Male</td>\n",
       "    </tr>\n",
       "    <tr>\n",
       "      <th>13</th>\n",
       "      <td>27.78</td>\n",
       "      <td>11172.36</td>\n",
       "      <td>402.17</td>\n",
       "      <td>Male</td>\n",
       "    </tr>\n",
       "    <tr>\n",
       "      <th>14</th>\n",
       "      <td>37.00</td>\n",
       "      <td>14953.00</td>\n",
       "      <td>404.14</td>\n",
       "      <td>Male</td>\n",
       "    </tr>\n",
       "    <tr>\n",
       "      <th>15</th>\n",
       "      <td>32.18</td>\n",
       "      <td>13035.16</td>\n",
       "      <td>405.07</td>\n",
       "      <td>Male</td>\n",
       "    </tr>\n",
       "    <tr>\n",
       "      <th>16</th>\n",
       "      <td>40.56</td>\n",
       "      <td>16448.72</td>\n",
       "      <td>405.54</td>\n",
       "      <td>Male</td>\n",
       "    </tr>\n",
       "    <tr>\n",
       "      <th>17</th>\n",
       "      <td>53.32</td>\n",
       "      <td>21719.84</td>\n",
       "      <td>407.35</td>\n",
       "      <td>Female</td>\n",
       "    </tr>\n",
       "    <tr>\n",
       "      <th>18</th>\n",
       "      <td>44.51</td>\n",
       "      <td>18108.12</td>\n",
       "      <td>406.83</td>\n",
       "      <td>Male</td>\n",
       "    </tr>\n",
       "    <tr>\n",
       "      <th>19</th>\n",
       "      <td>46.43</td>\n",
       "      <td>18830.16</td>\n",
       "      <td>405.56</td>\n",
       "      <td>Male</td>\n",
       "    </tr>\n",
       "    <tr>\n",
       "      <th>20</th>\n",
       "      <td>44.74</td>\n",
       "      <td>18226.88</td>\n",
       "      <td>407.40</td>\n",
       "      <td>Female</td>\n",
       "    </tr>\n",
       "    <tr>\n",
       "      <th>21</th>\n",
       "      <td>31.30</td>\n",
       "      <td>12637.60</td>\n",
       "      <td>403.76</td>\n",
       "      <td>Male</td>\n",
       "    </tr>\n",
       "    <tr>\n",
       "      <th>22</th>\n",
       "      <td>40.88</td>\n",
       "      <td>16566.56</td>\n",
       "      <td>405.25</td>\n",
       "      <td>Male</td>\n",
       "    </tr>\n",
       "    <tr>\n",
       "      <th>23</th>\n",
       "      <td>29.37</td>\n",
       "      <td>11822.44</td>\n",
       "      <td>402.53</td>\n",
       "      <td>Male</td>\n",
       "    </tr>\n",
       "    <tr>\n",
       "      <th>24</th>\n",
       "      <td>37.71</td>\n",
       "      <td>15281.52</td>\n",
       "      <td>405.24</td>\n",
       "      <td>Male</td>\n",
       "    </tr>\n",
       "    <tr>\n",
       "      <th>25</th>\n",
       "      <td>29.43</td>\n",
       "      <td>11922.16</td>\n",
       "      <td>405.10</td>\n",
       "      <td>Male</td>\n",
       "    </tr>\n",
       "    <tr>\n",
       "      <th>26</th>\n",
       "      <td>37.18</td>\n",
       "      <td>15083.16</td>\n",
       "      <td>405.68</td>\n",
       "      <td>Male</td>\n",
       "    </tr>\n",
       "    <tr>\n",
       "      <th>27</th>\n",
       "      <td>31.41</td>\n",
       "      <td>12721.92</td>\n",
       "      <td>405.03</td>\n",
       "      <td>Male</td>\n",
       "    </tr>\n",
       "    <tr>\n",
       "      <th>28</th>\n",
       "      <td>33.75</td>\n",
       "      <td>13627.00</td>\n",
       "      <td>403.76</td>\n",
       "      <td>Male</td>\n",
       "    </tr>\n",
       "    <tr>\n",
       "      <th>29</th>\n",
       "      <td>32.35</td>\n",
       "      <td>13086.20</td>\n",
       "      <td>404.52</td>\n",
       "      <td>Male</td>\n",
       "    </tr>\n",
       "    <tr>\n",
       "      <th>...</th>\n",
       "      <td>...</td>\n",
       "      <td>...</td>\n",
       "      <td>...</td>\n",
       "      <td>...</td>\n",
       "    </tr>\n",
       "    <tr>\n",
       "      <th>170</th>\n",
       "      <td>45.36</td>\n",
       "      <td>18437.32</td>\n",
       "      <td>406.47</td>\n",
       "      <td>Male</td>\n",
       "    </tr>\n",
       "    <tr>\n",
       "      <th>171</th>\n",
       "      <td>32.16</td>\n",
       "      <td>13003.92</td>\n",
       "      <td>404.35</td>\n",
       "      <td>Male</td>\n",
       "    </tr>\n",
       "    <tr>\n",
       "      <th>172</th>\n",
       "      <td>28.72</td>\n",
       "      <td>11586.64</td>\n",
       "      <td>403.43</td>\n",
       "      <td>Male</td>\n",
       "    </tr>\n",
       "    <tr>\n",
       "      <th>173</th>\n",
       "      <td>32.86</td>\n",
       "      <td>13270.32</td>\n",
       "      <td>403.84</td>\n",
       "      <td>Male</td>\n",
       "    </tr>\n",
       "    <tr>\n",
       "      <th>174</th>\n",
       "      <td>29.82</td>\n",
       "      <td>11994.84</td>\n",
       "      <td>402.24</td>\n",
       "      <td>Female</td>\n",
       "    </tr>\n",
       "    <tr>\n",
       "      <th>175</th>\n",
       "      <td>26.85</td>\n",
       "      <td>10808.20</td>\n",
       "      <td>402.54</td>\n",
       "      <td>Female</td>\n",
       "    </tr>\n",
       "    <tr>\n",
       "      <th>176</th>\n",
       "      <td>43.29</td>\n",
       "      <td>17614.48</td>\n",
       "      <td>406.89</td>\n",
       "      <td>Male</td>\n",
       "    </tr>\n",
       "    <tr>\n",
       "      <th>177</th>\n",
       "      <td>21.51</td>\n",
       "      <td>8611.12</td>\n",
       "      <td>400.33</td>\n",
       "      <td>Male</td>\n",
       "    </tr>\n",
       "    <tr>\n",
       "      <th>178</th>\n",
       "      <td>49.15</td>\n",
       "      <td>19959.80</td>\n",
       "      <td>406.10</td>\n",
       "      <td>Female</td>\n",
       "    </tr>\n",
       "    <tr>\n",
       "      <th>179</th>\n",
       "      <td>40.75</td>\n",
       "      <td>16546.00</td>\n",
       "      <td>406.04</td>\n",
       "      <td>Male</td>\n",
       "    </tr>\n",
       "    <tr>\n",
       "      <th>180</th>\n",
       "      <td>20.56</td>\n",
       "      <td>8224.72</td>\n",
       "      <td>400.04</td>\n",
       "      <td>Male</td>\n",
       "    </tr>\n",
       "    <tr>\n",
       "      <th>181</th>\n",
       "      <td>28.02</td>\n",
       "      <td>11309.24</td>\n",
       "      <td>403.61</td>\n",
       "      <td>Male</td>\n",
       "    </tr>\n",
       "    <tr>\n",
       "      <th>182</th>\n",
       "      <td>28.98</td>\n",
       "      <td>11689.76</td>\n",
       "      <td>403.37</td>\n",
       "      <td>Male</td>\n",
       "    </tr>\n",
       "    <tr>\n",
       "      <th>183</th>\n",
       "      <td>31.70</td>\n",
       "      <td>12797.40</td>\n",
       "      <td>403.70</td>\n",
       "      <td>Male</td>\n",
       "    </tr>\n",
       "    <tr>\n",
       "      <th>184</th>\n",
       "      <td>38.15</td>\n",
       "      <td>15457.80</td>\n",
       "      <td>405.18</td>\n",
       "      <td>Male</td>\n",
       "    </tr>\n",
       "    <tr>\n",
       "      <th>185</th>\n",
       "      <td>34.49</td>\n",
       "      <td>13983.88</td>\n",
       "      <td>405.45</td>\n",
       "      <td>Male</td>\n",
       "    </tr>\n",
       "    <tr>\n",
       "      <th>186</th>\n",
       "      <td>40.98</td>\n",
       "      <td>16595.76</td>\n",
       "      <td>404.97</td>\n",
       "      <td>Male</td>\n",
       "    </tr>\n",
       "    <tr>\n",
       "      <th>187</th>\n",
       "      <td>44.40</td>\n",
       "      <td>18048.80</td>\n",
       "      <td>406.50</td>\n",
       "      <td>Male</td>\n",
       "    </tr>\n",
       "    <tr>\n",
       "      <th>188</th>\n",
       "      <td>43.38</td>\n",
       "      <td>17654.56</td>\n",
       "      <td>406.97</td>\n",
       "      <td>Male</td>\n",
       "    </tr>\n",
       "    <tr>\n",
       "      <th>189</th>\n",
       "      <td>28.61</td>\n",
       "      <td>11541.32</td>\n",
       "      <td>403.40</td>\n",
       "      <td>Male</td>\n",
       "    </tr>\n",
       "    <tr>\n",
       "      <th>190</th>\n",
       "      <td>14.25</td>\n",
       "      <td>5615.00</td>\n",
       "      <td>394.04</td>\n",
       "      <td>Male</td>\n",
       "    </tr>\n",
       "    <tr>\n",
       "      <th>191</th>\n",
       "      <td>29.55</td>\n",
       "      <td>11910.60</td>\n",
       "      <td>403.07</td>\n",
       "      <td>Male</td>\n",
       "    </tr>\n",
       "    <tr>\n",
       "      <th>192</th>\n",
       "      <td>25.77</td>\n",
       "      <td>10401.24</td>\n",
       "      <td>403.62</td>\n",
       "      <td>Male</td>\n",
       "    </tr>\n",
       "    <tr>\n",
       "      <th>193</th>\n",
       "      <td>39.69</td>\n",
       "      <td>16077.28</td>\n",
       "      <td>405.07</td>\n",
       "      <td>Male</td>\n",
       "    </tr>\n",
       "    <tr>\n",
       "      <th>194</th>\n",
       "      <td>25.10</td>\n",
       "      <td>10083.20</td>\n",
       "      <td>401.72</td>\n",
       "      <td>Female</td>\n",
       "    </tr>\n",
       "    <tr>\n",
       "      <th>195</th>\n",
       "      <td>23.65</td>\n",
       "      <td>9534.80</td>\n",
       "      <td>403.16</td>\n",
       "      <td>Male</td>\n",
       "    </tr>\n",
       "    <tr>\n",
       "      <th>196</th>\n",
       "      <td>29.08</td>\n",
       "      <td>11713.96</td>\n",
       "      <td>402.82</td>\n",
       "      <td>Male</td>\n",
       "    </tr>\n",
       "    <tr>\n",
       "      <th>197</th>\n",
       "      <td>31.99</td>\n",
       "      <td>12951.88</td>\n",
       "      <td>404.87</td>\n",
       "      <td>Male</td>\n",
       "    </tr>\n",
       "    <tr>\n",
       "      <th>198</th>\n",
       "      <td>35.41</td>\n",
       "      <td>14342.92</td>\n",
       "      <td>405.05</td>\n",
       "      <td>Male</td>\n",
       "    </tr>\n",
       "    <tr>\n",
       "      <th>199</th>\n",
       "      <td>8.43</td>\n",
       "      <td>3189.16</td>\n",
       "      <td>378.31</td>\n",
       "      <td>Female</td>\n",
       "    </tr>\n",
       "  </tbody>\n",
       "</table>\n",
       "<p>200 rows × 4 columns</p>\n",
       "</div>"
      ],
      "text/plain": [
       "     Farm Size  Direct Payments  Rate per hectare  Gender\n",
       "0        29.25         11805.00            403.59    Male\n",
       "1        28.87         11627.44            402.75    Male\n",
       "2        35.52         14382.24            404.91    Male\n",
       "3        29.92         12058.04            403.01    Male\n",
       "4        28.38         11425.56            402.59    Male\n",
       "5        32.57         13211.84            405.64    Male\n",
       "6        37.43         15181.16            405.59    Male\n",
       "7        39.43         15967.16            404.95    Male\n",
       "8        27.41         11007.92            401.60    Male\n",
       "9        39.94         16189.28            405.34    Male\n",
       "10       12.98          5101.76            393.05    Male\n",
       "11       31.46         12684.52            403.20    Male\n",
       "12       44.42         18023.04            405.74    Male\n",
       "13       27.78         11172.36            402.17    Male\n",
       "14       37.00         14953.00            404.14    Male\n",
       "15       32.18         13035.16            405.07    Male\n",
       "16       40.56         16448.72            405.54    Male\n",
       "17       53.32         21719.84            407.35  Female\n",
       "18       44.51         18108.12            406.83    Male\n",
       "19       46.43         18830.16            405.56    Male\n",
       "20       44.74         18226.88            407.40  Female\n",
       "21       31.30         12637.60            403.76    Male\n",
       "22       40.88         16566.56            405.25    Male\n",
       "23       29.37         11822.44            402.53    Male\n",
       "24       37.71         15281.52            405.24    Male\n",
       "25       29.43         11922.16            405.10    Male\n",
       "26       37.18         15083.16            405.68    Male\n",
       "27       31.41         12721.92            405.03    Male\n",
       "28       33.75         13627.00            403.76    Male\n",
       "29       32.35         13086.20            404.52    Male\n",
       "..         ...              ...               ...     ...\n",
       "170      45.36         18437.32            406.47    Male\n",
       "171      32.16         13003.92            404.35    Male\n",
       "172      28.72         11586.64            403.43    Male\n",
       "173      32.86         13270.32            403.84    Male\n",
       "174      29.82         11994.84            402.24  Female\n",
       "175      26.85         10808.20            402.54  Female\n",
       "176      43.29         17614.48            406.89    Male\n",
       "177      21.51          8611.12            400.33    Male\n",
       "178      49.15         19959.80            406.10  Female\n",
       "179      40.75         16546.00            406.04    Male\n",
       "180      20.56          8224.72            400.04    Male\n",
       "181      28.02         11309.24            403.61    Male\n",
       "182      28.98         11689.76            403.37    Male\n",
       "183      31.70         12797.40            403.70    Male\n",
       "184      38.15         15457.80            405.18    Male\n",
       "185      34.49         13983.88            405.45    Male\n",
       "186      40.98         16595.76            404.97    Male\n",
       "187      44.40         18048.80            406.50    Male\n",
       "188      43.38         17654.56            406.97    Male\n",
       "189      28.61         11541.32            403.40    Male\n",
       "190      14.25          5615.00            394.04    Male\n",
       "191      29.55         11910.60            403.07    Male\n",
       "192      25.77         10401.24            403.62    Male\n",
       "193      39.69         16077.28            405.07    Male\n",
       "194      25.10         10083.20            401.72  Female\n",
       "195      23.65          9534.80            403.16    Male\n",
       "196      29.08         11713.96            402.82    Male\n",
       "197      31.99         12951.88            404.87    Male\n",
       "198      35.41         14342.92            405.05    Male\n",
       "199       8.43          3189.16            378.31  Female\n",
       "\n",
       "[200 rows x 4 columns]"
      ]
     },
     "execution_count": 24,
     "metadata": {},
     "output_type": "execute_result"
    }
   ],
   "source": [
    "df = pd.DataFrame(data={\"Farm Size\": farm_size, \"Direct Payments\": direct_payment.round(2), \"Rate per hectare\": Rate.round(2), \"Gender\": Gender})\n",
    "df"
   ]
  },
  {
   "cell_type": "code",
   "execution_count": null,
   "metadata": {},
   "outputs": [],
   "source": []
  },
  {
   "cell_type": "code",
   "execution_count": null,
   "metadata": {},
   "outputs": [],
   "source": []
  },
  {
   "cell_type": "code",
   "execution_count": null,
   "metadata": {},
   "outputs": [],
   "source": []
  }
 ],
 "metadata": {
  "kernelspec": {
   "display_name": "Python 3",
   "language": "python",
   "name": "python3"
  },
  "language_info": {
   "codemirror_mode": {
    "name": "ipython",
    "version": 3
   },
   "file_extension": ".py",
   "mimetype": "text/x-python",
   "name": "python",
   "nbconvert_exporter": "python",
   "pygments_lexer": "ipython3",
   "version": "3.7.1"
  }
 },
 "nbformat": 4,
 "nbformat_minor": 2
}
